{
 "cells": [
  {
   "cell_type": "markdown",
   "id": "1d640aad",
   "metadata": {},
   "source": [
    "- Here we build logistic regression problem for lead scoring case study \n",
    "- Build a logistic regression model to assign a lead score between 0 and 100 to each the lead \n",
    "which can be used by the company to target potential leads.\n",
    "- Higher score means that the lead is hot and viseversa."
   ]
  },
  {
   "cell_type": "markdown",
   "id": "07854c2c",
   "metadata": {},
   "source": [
    "### Importing required libraries"
   ]
  },
  {
   "cell_type": "code",
   "execution_count": 1,
   "id": "104d2407",
   "metadata": {},
   "outputs": [],
   "source": [
    "import numpy as np\n",
    "import pandas as pd\n",
    "import matplotlib.pyplot as plt\n",
    "import seaborn as sns\n",
    "\n",
    "import warnings \n",
    "warnings.filterwarnings('ignore')\n",
    "\n",
    "from sklearn.preprocessing import StandardScaler"
   ]
  },
  {
   "cell_type": "markdown",
   "id": "e86ad813",
   "metadata": {},
   "source": [
    "### Importing Dataset "
   ]
  },
  {
   "cell_type": "code",
   "execution_count": 2,
   "id": "bc25abb4",
   "metadata": {},
   "outputs": [],
   "source": [
    "leads = pd.read_csv('Leads.csv')"
   ]
  },
  {
   "cell_type": "code",
   "execution_count": 3,
   "id": "be34a6ac",
   "metadata": {},
   "outputs": [
    {
     "data": {
      "text/html": [
       "<div>\n",
       "<style scoped>\n",
       "    .dataframe tbody tr th:only-of-type {\n",
       "        vertical-align: middle;\n",
       "    }\n",
       "\n",
       "    .dataframe tbody tr th {\n",
       "        vertical-align: top;\n",
       "    }\n",
       "\n",
       "    .dataframe thead th {\n",
       "        text-align: right;\n",
       "    }\n",
       "</style>\n",
       "<table border=\"1\" class=\"dataframe\">\n",
       "  <thead>\n",
       "    <tr style=\"text-align: right;\">\n",
       "      <th></th>\n",
       "      <th>Prospect ID</th>\n",
       "      <th>Lead Number</th>\n",
       "      <th>Lead Origin</th>\n",
       "      <th>Lead Source</th>\n",
       "      <th>Do Not Email</th>\n",
       "      <th>Do Not Call</th>\n",
       "      <th>Converted</th>\n",
       "      <th>TotalVisits</th>\n",
       "      <th>Total Time Spent on Website</th>\n",
       "      <th>Page Views Per Visit</th>\n",
       "      <th>...</th>\n",
       "      <th>Get updates on DM Content</th>\n",
       "      <th>Lead Profile</th>\n",
       "      <th>City</th>\n",
       "      <th>Asymmetrique Activity Index</th>\n",
       "      <th>Asymmetrique Profile Index</th>\n",
       "      <th>Asymmetrique Activity Score</th>\n",
       "      <th>Asymmetrique Profile Score</th>\n",
       "      <th>I agree to pay the amount through cheque</th>\n",
       "      <th>A free copy of Mastering The Interview</th>\n",
       "      <th>Last Notable Activity</th>\n",
       "    </tr>\n",
       "  </thead>\n",
       "  <tbody>\n",
       "    <tr>\n",
       "      <th>0</th>\n",
       "      <td>7927b2df-8bba-4d29-b9a2-b6e0beafe620</td>\n",
       "      <td>660737</td>\n",
       "      <td>API</td>\n",
       "      <td>Olark Chat</td>\n",
       "      <td>No</td>\n",
       "      <td>No</td>\n",
       "      <td>0</td>\n",
       "      <td>0.0</td>\n",
       "      <td>0</td>\n",
       "      <td>0.0</td>\n",
       "      <td>...</td>\n",
       "      <td>No</td>\n",
       "      <td>Select</td>\n",
       "      <td>Select</td>\n",
       "      <td>02.Medium</td>\n",
       "      <td>02.Medium</td>\n",
       "      <td>15.0</td>\n",
       "      <td>15.0</td>\n",
       "      <td>No</td>\n",
       "      <td>No</td>\n",
       "      <td>Modified</td>\n",
       "    </tr>\n",
       "    <tr>\n",
       "      <th>1</th>\n",
       "      <td>2a272436-5132-4136-86fa-dcc88c88f482</td>\n",
       "      <td>660728</td>\n",
       "      <td>API</td>\n",
       "      <td>Organic Search</td>\n",
       "      <td>No</td>\n",
       "      <td>No</td>\n",
       "      <td>0</td>\n",
       "      <td>5.0</td>\n",
       "      <td>674</td>\n",
       "      <td>2.5</td>\n",
       "      <td>...</td>\n",
       "      <td>No</td>\n",
       "      <td>Select</td>\n",
       "      <td>Select</td>\n",
       "      <td>02.Medium</td>\n",
       "      <td>02.Medium</td>\n",
       "      <td>15.0</td>\n",
       "      <td>15.0</td>\n",
       "      <td>No</td>\n",
       "      <td>No</td>\n",
       "      <td>Email Opened</td>\n",
       "    </tr>\n",
       "    <tr>\n",
       "      <th>2</th>\n",
       "      <td>8cc8c611-a219-4f35-ad23-fdfd2656bd8a</td>\n",
       "      <td>660727</td>\n",
       "      <td>Landing Page Submission</td>\n",
       "      <td>Direct Traffic</td>\n",
       "      <td>No</td>\n",
       "      <td>No</td>\n",
       "      <td>1</td>\n",
       "      <td>2.0</td>\n",
       "      <td>1532</td>\n",
       "      <td>2.0</td>\n",
       "      <td>...</td>\n",
       "      <td>No</td>\n",
       "      <td>Potential Lead</td>\n",
       "      <td>Mumbai</td>\n",
       "      <td>02.Medium</td>\n",
       "      <td>01.High</td>\n",
       "      <td>14.0</td>\n",
       "      <td>20.0</td>\n",
       "      <td>No</td>\n",
       "      <td>Yes</td>\n",
       "      <td>Email Opened</td>\n",
       "    </tr>\n",
       "    <tr>\n",
       "      <th>3</th>\n",
       "      <td>0cc2df48-7cf4-4e39-9de9-19797f9b38cc</td>\n",
       "      <td>660719</td>\n",
       "      <td>Landing Page Submission</td>\n",
       "      <td>Direct Traffic</td>\n",
       "      <td>No</td>\n",
       "      <td>No</td>\n",
       "      <td>0</td>\n",
       "      <td>1.0</td>\n",
       "      <td>305</td>\n",
       "      <td>1.0</td>\n",
       "      <td>...</td>\n",
       "      <td>No</td>\n",
       "      <td>Select</td>\n",
       "      <td>Mumbai</td>\n",
       "      <td>02.Medium</td>\n",
       "      <td>01.High</td>\n",
       "      <td>13.0</td>\n",
       "      <td>17.0</td>\n",
       "      <td>No</td>\n",
       "      <td>No</td>\n",
       "      <td>Modified</td>\n",
       "    </tr>\n",
       "    <tr>\n",
       "      <th>4</th>\n",
       "      <td>3256f628-e534-4826-9d63-4a8b88782852</td>\n",
       "      <td>660681</td>\n",
       "      <td>Landing Page Submission</td>\n",
       "      <td>Google</td>\n",
       "      <td>No</td>\n",
       "      <td>No</td>\n",
       "      <td>1</td>\n",
       "      <td>2.0</td>\n",
       "      <td>1428</td>\n",
       "      <td>1.0</td>\n",
       "      <td>...</td>\n",
       "      <td>No</td>\n",
       "      <td>Select</td>\n",
       "      <td>Mumbai</td>\n",
       "      <td>02.Medium</td>\n",
       "      <td>01.High</td>\n",
       "      <td>15.0</td>\n",
       "      <td>18.0</td>\n",
       "      <td>No</td>\n",
       "      <td>No</td>\n",
       "      <td>Modified</td>\n",
       "    </tr>\n",
       "  </tbody>\n",
       "</table>\n",
       "<p>5 rows × 37 columns</p>\n",
       "</div>"
      ],
      "text/plain": [
       "                            Prospect ID  Lead Number              Lead Origin  \\\n",
       "0  7927b2df-8bba-4d29-b9a2-b6e0beafe620       660737                      API   \n",
       "1  2a272436-5132-4136-86fa-dcc88c88f482       660728                      API   \n",
       "2  8cc8c611-a219-4f35-ad23-fdfd2656bd8a       660727  Landing Page Submission   \n",
       "3  0cc2df48-7cf4-4e39-9de9-19797f9b38cc       660719  Landing Page Submission   \n",
       "4  3256f628-e534-4826-9d63-4a8b88782852       660681  Landing Page Submission   \n",
       "\n",
       "      Lead Source Do Not Email Do Not Call  Converted  TotalVisits  \\\n",
       "0      Olark Chat           No          No          0          0.0   \n",
       "1  Organic Search           No          No          0          5.0   \n",
       "2  Direct Traffic           No          No          1          2.0   \n",
       "3  Direct Traffic           No          No          0          1.0   \n",
       "4          Google           No          No          1          2.0   \n",
       "\n",
       "   Total Time Spent on Website  Page Views Per Visit  ...  \\\n",
       "0                            0                   0.0  ...   \n",
       "1                          674                   2.5  ...   \n",
       "2                         1532                   2.0  ...   \n",
       "3                          305                   1.0  ...   \n",
       "4                         1428                   1.0  ...   \n",
       "\n",
       "  Get updates on DM Content    Lead Profile    City  \\\n",
       "0                        No          Select  Select   \n",
       "1                        No          Select  Select   \n",
       "2                        No  Potential Lead  Mumbai   \n",
       "3                        No          Select  Mumbai   \n",
       "4                        No          Select  Mumbai   \n",
       "\n",
       "  Asymmetrique Activity Index Asymmetrique Profile Index  \\\n",
       "0                   02.Medium                  02.Medium   \n",
       "1                   02.Medium                  02.Medium   \n",
       "2                   02.Medium                    01.High   \n",
       "3                   02.Medium                    01.High   \n",
       "4                   02.Medium                    01.High   \n",
       "\n",
       "  Asymmetrique Activity Score Asymmetrique Profile Score  \\\n",
       "0                        15.0                       15.0   \n",
       "1                        15.0                       15.0   \n",
       "2                        14.0                       20.0   \n",
       "3                        13.0                       17.0   \n",
       "4                        15.0                       18.0   \n",
       "\n",
       "  I agree to pay the amount through cheque  \\\n",
       "0                                       No   \n",
       "1                                       No   \n",
       "2                                       No   \n",
       "3                                       No   \n",
       "4                                       No   \n",
       "\n",
       "  A free copy of Mastering The Interview Last Notable Activity  \n",
       "0                                     No              Modified  \n",
       "1                                     No          Email Opened  \n",
       "2                                    Yes          Email Opened  \n",
       "3                                     No              Modified  \n",
       "4                                     No              Modified  \n",
       "\n",
       "[5 rows x 37 columns]"
      ]
     },
     "execution_count": 3,
     "metadata": {},
     "output_type": "execute_result"
    }
   ],
   "source": [
    "leads.head()"
   ]
  },
  {
   "cell_type": "code",
   "execution_count": 4,
   "id": "30a39b96",
   "metadata": {},
   "outputs": [
    {
     "data": {
      "text/plain": [
       "(9240, 37)"
      ]
     },
     "execution_count": 4,
     "metadata": {},
     "output_type": "execute_result"
    }
   ],
   "source": [
    "#cheking shape of dataset\n",
    "leads.shape"
   ]
  },
  {
   "cell_type": "markdown",
   "id": "cc21b04f",
   "metadata": {},
   "source": [
    "- here we have 9240 rows,\n",
    "- 37 columns"
   ]
  },
  {
   "cell_type": "code",
   "execution_count": 5,
   "id": "50c0ce1e",
   "metadata": {},
   "outputs": [
    {
     "name": "stdout",
     "output_type": "stream",
     "text": [
      "<class 'pandas.core.frame.DataFrame'>\n",
      "RangeIndex: 9240 entries, 0 to 9239\n",
      "Data columns (total 37 columns):\n",
      " #   Column                                         Non-Null Count  Dtype  \n",
      "---  ------                                         --------------  -----  \n",
      " 0   Prospect ID                                    9240 non-null   object \n",
      " 1   Lead Number                                    9240 non-null   int64  \n",
      " 2   Lead Origin                                    9240 non-null   object \n",
      " 3   Lead Source                                    9204 non-null   object \n",
      " 4   Do Not Email                                   9240 non-null   object \n",
      " 5   Do Not Call                                    9240 non-null   object \n",
      " 6   Converted                                      9240 non-null   int64  \n",
      " 7   TotalVisits                                    9103 non-null   float64\n",
      " 8   Total Time Spent on Website                    9240 non-null   int64  \n",
      " 9   Page Views Per Visit                           9103 non-null   float64\n",
      " 10  Last Activity                                  9137 non-null   object \n",
      " 11  Country                                        6779 non-null   object \n",
      " 12  Specialization                                 7802 non-null   object \n",
      " 13  How did you hear about X Education             7033 non-null   object \n",
      " 14  What is your current occupation                6550 non-null   object \n",
      " 15  What matters most to you in choosing a course  6531 non-null   object \n",
      " 16  Search                                         9240 non-null   object \n",
      " 17  Magazine                                       9240 non-null   object \n",
      " 18  Newspaper Article                              9240 non-null   object \n",
      " 19  X Education Forums                             9240 non-null   object \n",
      " 20  Newspaper                                      9240 non-null   object \n",
      " 21  Digital Advertisement                          9240 non-null   object \n",
      " 22  Through Recommendations                        9240 non-null   object \n",
      " 23  Receive More Updates About Our Courses         9240 non-null   object \n",
      " 24  Tags                                           5887 non-null   object \n",
      " 25  Lead Quality                                   4473 non-null   object \n",
      " 26  Update me on Supply Chain Content              9240 non-null   object \n",
      " 27  Get updates on DM Content                      9240 non-null   object \n",
      " 28  Lead Profile                                   6531 non-null   object \n",
      " 29  City                                           7820 non-null   object \n",
      " 30  Asymmetrique Activity Index                    5022 non-null   object \n",
      " 31  Asymmetrique Profile Index                     5022 non-null   object \n",
      " 32  Asymmetrique Activity Score                    5022 non-null   float64\n",
      " 33  Asymmetrique Profile Score                     5022 non-null   float64\n",
      " 34  I agree to pay the amount through cheque       9240 non-null   object \n",
      " 35  A free copy of Mastering The Interview         9240 non-null   object \n",
      " 36  Last Notable Activity                          9240 non-null   object \n",
      "dtypes: float64(4), int64(3), object(30)\n",
      "memory usage: 2.6+ MB\n"
     ]
    }
   ],
   "source": [
    "leads.info()"
   ]
  },
  {
   "cell_type": "code",
   "execution_count": 6,
   "id": "227bd1da",
   "metadata": {},
   "outputs": [
    {
     "data": {
      "text/html": [
       "<div>\n",
       "<style scoped>\n",
       "    .dataframe tbody tr th:only-of-type {\n",
       "        vertical-align: middle;\n",
       "    }\n",
       "\n",
       "    .dataframe tbody tr th {\n",
       "        vertical-align: top;\n",
       "    }\n",
       "\n",
       "    .dataframe thead th {\n",
       "        text-align: right;\n",
       "    }\n",
       "</style>\n",
       "<table border=\"1\" class=\"dataframe\">\n",
       "  <thead>\n",
       "    <tr style=\"text-align: right;\">\n",
       "      <th></th>\n",
       "      <th>Lead Number</th>\n",
       "      <th>Converted</th>\n",
       "      <th>TotalVisits</th>\n",
       "      <th>Total Time Spent on Website</th>\n",
       "      <th>Page Views Per Visit</th>\n",
       "      <th>Asymmetrique Activity Score</th>\n",
       "      <th>Asymmetrique Profile Score</th>\n",
       "    </tr>\n",
       "  </thead>\n",
       "  <tbody>\n",
       "    <tr>\n",
       "      <th>count</th>\n",
       "      <td>9240.000000</td>\n",
       "      <td>9240.000000</td>\n",
       "      <td>9103.000000</td>\n",
       "      <td>9240.000000</td>\n",
       "      <td>9103.000000</td>\n",
       "      <td>5022.000000</td>\n",
       "      <td>5022.000000</td>\n",
       "    </tr>\n",
       "    <tr>\n",
       "      <th>mean</th>\n",
       "      <td>617188.435606</td>\n",
       "      <td>0.385390</td>\n",
       "      <td>3.445238</td>\n",
       "      <td>487.698268</td>\n",
       "      <td>2.362820</td>\n",
       "      <td>14.306252</td>\n",
       "      <td>16.344883</td>\n",
       "    </tr>\n",
       "    <tr>\n",
       "      <th>std</th>\n",
       "      <td>23405.995698</td>\n",
       "      <td>0.486714</td>\n",
       "      <td>4.854853</td>\n",
       "      <td>548.021466</td>\n",
       "      <td>2.161418</td>\n",
       "      <td>1.386694</td>\n",
       "      <td>1.811395</td>\n",
       "    </tr>\n",
       "    <tr>\n",
       "      <th>min</th>\n",
       "      <td>579533.000000</td>\n",
       "      <td>0.000000</td>\n",
       "      <td>0.000000</td>\n",
       "      <td>0.000000</td>\n",
       "      <td>0.000000</td>\n",
       "      <td>7.000000</td>\n",
       "      <td>11.000000</td>\n",
       "    </tr>\n",
       "    <tr>\n",
       "      <th>25%</th>\n",
       "      <td>596484.500000</td>\n",
       "      <td>0.000000</td>\n",
       "      <td>1.000000</td>\n",
       "      <td>12.000000</td>\n",
       "      <td>1.000000</td>\n",
       "      <td>14.000000</td>\n",
       "      <td>15.000000</td>\n",
       "    </tr>\n",
       "    <tr>\n",
       "      <th>50%</th>\n",
       "      <td>615479.000000</td>\n",
       "      <td>0.000000</td>\n",
       "      <td>3.000000</td>\n",
       "      <td>248.000000</td>\n",
       "      <td>2.000000</td>\n",
       "      <td>14.000000</td>\n",
       "      <td>16.000000</td>\n",
       "    </tr>\n",
       "    <tr>\n",
       "      <th>75%</th>\n",
       "      <td>637387.250000</td>\n",
       "      <td>1.000000</td>\n",
       "      <td>5.000000</td>\n",
       "      <td>936.000000</td>\n",
       "      <td>3.000000</td>\n",
       "      <td>15.000000</td>\n",
       "      <td>18.000000</td>\n",
       "    </tr>\n",
       "    <tr>\n",
       "      <th>max</th>\n",
       "      <td>660737.000000</td>\n",
       "      <td>1.000000</td>\n",
       "      <td>251.000000</td>\n",
       "      <td>2272.000000</td>\n",
       "      <td>55.000000</td>\n",
       "      <td>18.000000</td>\n",
       "      <td>20.000000</td>\n",
       "    </tr>\n",
       "  </tbody>\n",
       "</table>\n",
       "</div>"
      ],
      "text/plain": [
       "         Lead Number    Converted  TotalVisits  Total Time Spent on Website  \\\n",
       "count    9240.000000  9240.000000  9103.000000                  9240.000000   \n",
       "mean   617188.435606     0.385390     3.445238                   487.698268   \n",
       "std     23405.995698     0.486714     4.854853                   548.021466   \n",
       "min    579533.000000     0.000000     0.000000                     0.000000   \n",
       "25%    596484.500000     0.000000     1.000000                    12.000000   \n",
       "50%    615479.000000     0.000000     3.000000                   248.000000   \n",
       "75%    637387.250000     1.000000     5.000000                   936.000000   \n",
       "max    660737.000000     1.000000   251.000000                  2272.000000   \n",
       "\n",
       "       Page Views Per Visit  Asymmetrique Activity Score  \\\n",
       "count           9103.000000                  5022.000000   \n",
       "mean               2.362820                    14.306252   \n",
       "std                2.161418                     1.386694   \n",
       "min                0.000000                     7.000000   \n",
       "25%                1.000000                    14.000000   \n",
       "50%                2.000000                    14.000000   \n",
       "75%                3.000000                    15.000000   \n",
       "max               55.000000                    18.000000   \n",
       "\n",
       "       Asymmetrique Profile Score  \n",
       "count                 5022.000000  \n",
       "mean                    16.344883  \n",
       "std                      1.811395  \n",
       "min                     11.000000  \n",
       "25%                     15.000000  \n",
       "50%                     16.000000  \n",
       "75%                     18.000000  \n",
       "max                     20.000000  "
      ]
     },
     "execution_count": 6,
     "metadata": {},
     "output_type": "execute_result"
    }
   ],
   "source": [
    "leads.describe()"
   ]
  },
  {
   "cell_type": "code",
   "execution_count": 7,
   "id": "c87b30c9",
   "metadata": {},
   "outputs": [
    {
     "data": {
      "text/plain": [
       "True"
      ]
     },
     "execution_count": 7,
     "metadata": {},
     "output_type": "execute_result"
    }
   ],
   "source": [
    "# Now we checking for duplicates \n",
    "sum(leads.duplicated(subset='Lead Number')) == 0"
   ]
  },
  {
   "cell_type": "markdown",
   "id": "d5e43ed9",
   "metadata": {},
   "source": [
    "- here we don't found any duplicate values in Lead numbers"
   ]
  },
  {
   "cell_type": "markdown",
   "id": "f161e180",
   "metadata": {},
   "source": [
    "### EDA (Exploratory Data Analysis)"
   ]
  },
  {
   "cell_type": "markdown",
   "id": "02086b06",
   "metadata": {},
   "source": [
    "#### Data Cleaning and Treatment"
   ]
  },
  {
   "cell_type": "code",
   "execution_count": 8,
   "id": "b228d8c1",
   "metadata": {},
   "outputs": [],
   "source": [
    "#Droping lead Number and Prospect Id since they have all unique values\n",
    "leads.drop(['Lead Number','Prospect ID'], 1,inplace = True)"
   ]
  },
  {
   "cell_type": "code",
   "execution_count": 9,
   "id": "b1f55819",
   "metadata": {},
   "outputs": [],
   "source": [
    "#Converting 'Select' value to NAN\n",
    "leads = leads.replace('Select',np.nan)"
   ]
  },
  {
   "cell_type": "code",
   "execution_count": 10,
   "id": "d7b3a483",
   "metadata": {},
   "outputs": [
    {
     "data": {
      "text/plain": [
       "Lead Origin                                         0\n",
       "Lead Source                                        36\n",
       "Do Not Email                                        0\n",
       "Do Not Call                                         0\n",
       "Converted                                           0\n",
       "TotalVisits                                       137\n",
       "Total Time Spent on Website                         0\n",
       "Page Views Per Visit                              137\n",
       "Last Activity                                     103\n",
       "Country                                          2461\n",
       "Specialization                                   3380\n",
       "How did you hear about X Education               7250\n",
       "What is your current occupation                  2690\n",
       "What matters most to you in choosing a course    2709\n",
       "Search                                              0\n",
       "Magazine                                            0\n",
       "Newspaper Article                                   0\n",
       "X Education Forums                                  0\n",
       "Newspaper                                           0\n",
       "Digital Advertisement                               0\n",
       "Through Recommendations                             0\n",
       "Receive More Updates About Our Courses              0\n",
       "Tags                                             3353\n",
       "Lead Quality                                     4767\n",
       "Update me on Supply Chain Content                   0\n",
       "Get updates on DM Content                           0\n",
       "Lead Profile                                     6855\n",
       "City                                             3669\n",
       "Asymmetrique Activity Index                      4218\n",
       "Asymmetrique Profile Index                       4218\n",
       "Asymmetrique Activity Score                      4218\n",
       "Asymmetrique Profile Score                       4218\n",
       "I agree to pay the amount through cheque            0\n",
       "A free copy of Mastering The Interview              0\n",
       "Last Notable Activity                               0\n",
       "dtype: int64"
      ]
     },
     "execution_count": 10,
     "metadata": {},
     "output_type": "execute_result"
    }
   ],
   "source": [
    "#Now checking null values in each rows\n",
    "leads.isnull().sum()"
   ]
  },
  {
   "cell_type": "code",
   "execution_count": 11,
   "id": "0fc34100",
   "metadata": {},
   "outputs": [
    {
     "data": {
      "text/plain": [
       "Lead Origin                                       0.00\n",
       "Lead Source                                       0.39\n",
       "Do Not Email                                      0.00\n",
       "Do Not Call                                       0.00\n",
       "Converted                                         0.00\n",
       "TotalVisits                                       1.48\n",
       "Total Time Spent on Website                       0.00\n",
       "Page Views Per Visit                              1.48\n",
       "Last Activity                                     1.11\n",
       "Country                                          26.63\n",
       "Specialization                                   36.58\n",
       "How did you hear about X Education               78.46\n",
       "What is your current occupation                  29.11\n",
       "What matters most to you in choosing a course    29.32\n",
       "Search                                            0.00\n",
       "Magazine                                          0.00\n",
       "Newspaper Article                                 0.00\n",
       "X Education Forums                                0.00\n",
       "Newspaper                                         0.00\n",
       "Digital Advertisement                             0.00\n",
       "Through Recommendations                           0.00\n",
       "Receive More Updates About Our Courses            0.00\n",
       "Tags                                             36.29\n",
       "Lead Quality                                     51.59\n",
       "Update me on Supply Chain Content                 0.00\n",
       "Get updates on DM Content                         0.00\n",
       "Lead Profile                                     74.19\n",
       "City                                             39.71\n",
       "Asymmetrique Activity Index                      45.65\n",
       "Asymmetrique Profile Index                       45.65\n",
       "Asymmetrique Activity Score                      45.65\n",
       "Asymmetrique Profile Score                       45.65\n",
       "I agree to pay the amount through cheque          0.00\n",
       "A free copy of Mastering The Interview            0.00\n",
       "Last Notable Activity                             0.00\n",
       "dtype: float64"
      ]
     },
     "execution_count": 11,
     "metadata": {},
     "output_type": "execute_result"
    }
   ],
   "source": [
    "#let's check percentage of null values\n",
    "round(100*(leads.isnull().sum()/len(leads.index)),2)"
   ]
  },
  {
   "cell_type": "code",
   "execution_count": 12,
   "id": "2891ce72",
   "metadata": {},
   "outputs": [],
   "source": [
    "# As we see we have multiplie features(columns) more missing values.\n",
    "# now dropping cols with more than 45% missing values\n",
    "\n",
    "cols = leads.columns\n",
    "\n",
    "for i in cols:\n",
    "    if(100*(leads[i].isnull().sum()/len(leads.index)) >= 45):\n",
    "        leads.drop(i, 1, inplace = True)"
   ]
  },
  {
   "cell_type": "code",
   "execution_count": 13,
   "id": "e26866fb",
   "metadata": {},
   "outputs": [
    {
     "data": {
      "text/plain": [
       "Lead Origin                                       0.00\n",
       "Lead Source                                       0.39\n",
       "Do Not Email                                      0.00\n",
       "Do Not Call                                       0.00\n",
       "Converted                                         0.00\n",
       "TotalVisits                                       1.48\n",
       "Total Time Spent on Website                       0.00\n",
       "Page Views Per Visit                              1.48\n",
       "Last Activity                                     1.11\n",
       "Country                                          26.63\n",
       "Specialization                                   36.58\n",
       "What is your current occupation                  29.11\n",
       "What matters most to you in choosing a course    29.32\n",
       "Search                                            0.00\n",
       "Magazine                                          0.00\n",
       "Newspaper Article                                 0.00\n",
       "X Education Forums                                0.00\n",
       "Newspaper                                         0.00\n",
       "Digital Advertisement                             0.00\n",
       "Through Recommendations                           0.00\n",
       "Receive More Updates About Our Courses            0.00\n",
       "Tags                                             36.29\n",
       "Update me on Supply Chain Content                 0.00\n",
       "Get updates on DM Content                         0.00\n",
       "City                                             39.71\n",
       "I agree to pay the amount through cheque          0.00\n",
       "A free copy of Mastering The Interview            0.00\n",
       "Last Notable Activity                             0.00\n",
       "dtype: float64"
      ]
     },
     "execution_count": 13,
     "metadata": {},
     "output_type": "execute_result"
    }
   ],
   "source": [
    "# Cheking again null values percentage\n",
    "round(100*(leads.isnull().sum()/len(leads.index)),2)"
   ]
  },
  {
   "cell_type": "markdown",
   "id": "ea186f38",
   "metadata": {},
   "source": [
    "### Categorical Attributes Analysis:"
   ]
  },
  {
   "cell_type": "code",
   "execution_count": 14,
   "id": "92da13e5",
   "metadata": {},
   "outputs": [
    {
     "data": {
      "text/plain": [
       "India                   6492\n",
       "NaN                     2461\n",
       "United States             69\n",
       "United Arab Emirates      53\n",
       "Singapore                 24\n",
       "Saudi Arabia              21\n",
       "United Kingdom            15\n",
       "Australia                 13\n",
       "Qatar                     10\n",
       "Bahrain                    7\n",
       "Hong Kong                  7\n",
       "Oman                       6\n",
       "France                     6\n",
       "unknown                    5\n",
       "Kuwait                     4\n",
       "South Africa               4\n",
       "Canada                     4\n",
       "Nigeria                    4\n",
       "Germany                    4\n",
       "Sweden                     3\n",
       "Philippines                2\n",
       "Uganda                     2\n",
       "Italy                      2\n",
       "Bangladesh                 2\n",
       "Netherlands                2\n",
       "Asia/Pacific Region        2\n",
       "China                      2\n",
       "Belgium                    2\n",
       "Ghana                      2\n",
       "Kenya                      1\n",
       "Sri Lanka                  1\n",
       "Tanzania                   1\n",
       "Malaysia                   1\n",
       "Liberia                    1\n",
       "Switzerland                1\n",
       "Denmark                    1\n",
       "Russia                     1\n",
       "Vietnam                    1\n",
       "Indonesia                  1\n",
       "Name: Country, dtype: int64"
      ]
     },
     "execution_count": 14,
     "metadata": {},
     "output_type": "execute_result"
    }
   ],
   "source": [
    "#checking values counts of country columns\n",
    "\n",
    "leads['Country'].value_counts(dropna=False)"
   ]
  },
  {
   "cell_type": "code",
   "execution_count": 15,
   "id": "cd6a6377",
   "metadata": {},
   "outputs": [
    {
     "data": {
      "image/png": "[encoded data removed]",
      "text/plain": [
       "<Figure size 1080x360 with 1 Axes>"
      ]
     },
     "metadata": {
      "needs_background": "light"
     },
     "output_type": "display_data"
    }
   ],
   "source": [
    "#plotting spread of country column\n",
    "plt.figure(figsize=(15,5))\n",
    "s1=sns.countplot(leads.Country, hue=leads.Converted)\n",
    "s1.set_xticklabels(s1.get_xticklabels(),rotation=90)\n",
    "plt.show()"
   ]
  },
  {
   "cell_type": "code",
   "execution_count": 16,
   "id": "f3fcd834",
   "metadata": {},
   "outputs": [],
   "source": [
    "# here we can see India is the most common occurence among the non-missing values we can impute all missing values with India\n",
    "leads['Country'] = leads['Country'].replace(np.nan,'India')"
   ]
  },
  {
   "cell_type": "code",
   "execution_count": 17,
   "id": "2faaa48c",
   "metadata": {},
   "outputs": [
    {
     "data": {
      "image/png": "[encoded data removed]",
      "text/plain": [
       "<Figure size 1080x360 with 1 Axes>"
      ]
     },
     "metadata": {
      "needs_background": "light"
     },
     "output_type": "display_data"
    }
   ],
   "source": [
    "# plotting spread of country column after replacing NaN values\n",
    "\n",
    "plt.figure(figsize=(15,5))\n",
    "s1=sns.countplot(leads.Country, hue=leads.Converted)\n",
    "s1.set_xticklabels(s1.get_xticklabels(),rotation=90)\n",
    "plt.show()"
   ]
  },
  {
   "cell_type": "code",
   "execution_count": 18,
   "id": "85478cbe",
   "metadata": {},
   "outputs": [],
   "source": [
    "#here we can see numbers of values of india are quite high,this column can be dropped\n"
   ]
  },
  {
   "cell_type": "code",
   "execution_count": 19,
   "id": "4c890c0d",
   "metadata": {},
   "outputs": [],
   "source": [
    "# creating list of cols to be dropped\n",
    "cols_to_drop = ['Country']"
   ]
  },
  {
   "cell_type": "code",
   "execution_count": 20,
   "id": "257c481b",
   "metadata": {},
   "outputs": [
    {
     "data": {
      "text/plain": [
       "NaN                            3669\n",
       "Mumbai                         3222\n",
       "Thane & Outskirts               752\n",
       "Other Cities                    686\n",
       "Other Cities of Maharashtra     457\n",
       "Other Metro Cities              380\n",
       "Tier II Cities                   74\n",
       "Name: City, dtype: int64"
      ]
     },
     "execution_count": 20,
     "metadata": {},
     "output_type": "execute_result"
    }
   ],
   "source": [
    "# Checking values count for 'city' columns\n",
    "leads['City'].value_counts(dropna=False)"
   ]
  },
  {
   "cell_type": "code",
   "execution_count": 21,
   "id": "f4a5eb9e",
   "metadata": {},
   "outputs": [],
   "source": [
    "leads['City'] = leads['City'].replace(np.nan,'Mumbai')"
   ]
  },
  {
   "cell_type": "code",
   "execution_count": 22,
   "id": "3c5dd92e",
   "metadata": {},
   "outputs": [
    {
     "data": {
      "image/png": "[encoded data removed]",
      "text/plain": [
       "<Figure size 1080x360 with 1 Axes>"
      ]
     },
     "metadata": {
      "needs_background": "light"
     },
     "output_type": "display_data"
    }
   ],
   "source": [
    "#plotting spread of city column\n",
    "\n",
    "plt.figure(figsize=(15,5))\n",
    "s1=sns.countplot(leads.City, hue=leads.Converted)\n",
    "s1.set_xticklabels(s1.get_xticklabels(),rotation=90)\n",
    "plt.show()"
   ]
  },
  {
   "cell_type": "code",
   "execution_count": 23,
   "id": "3186d6d3",
   "metadata": {},
   "outputs": [
    {
     "data": {
      "text/plain": [
       "NaN                                  3380\n",
       "Finance Management                    976\n",
       "Human Resource Management             848\n",
       "Marketing Management                  838\n",
       "Operations Management                 503\n",
       "Business Administration               403\n",
       "IT Projects Management                366\n",
       "Supply Chain Management               349\n",
       "Banking, Investment And Insurance     338\n",
       "Travel and Tourism                    203\n",
       "Media and Advertising                 203\n",
       "International Business                178\n",
       "Healthcare Management                 159\n",
       "Hospitality Management                114\n",
       "E-COMMERCE                            112\n",
       "Retail Management                     100\n",
       "Rural and Agribusiness                 73\n",
       "E-Business                             57\n",
       "Services Excellence                    40\n",
       "Name: Specialization, dtype: int64"
      ]
     },
     "execution_count": 23,
     "metadata": {},
     "output_type": "execute_result"
    }
   ],
   "source": [
    "#checking values counts for specialization column\n",
    "leads['Specialization'].value_counts(dropna=False)"
   ]
  },
  {
   "cell_type": "code",
   "execution_count": 24,
   "id": "0453e28b",
   "metadata": {},
   "outputs": [],
   "source": [
    "# here we can see most of leads not mention there specilization\n",
    "# so we can replace it with 'Not Specified'\n",
    "leads['Specialization'] = leads['Specialization'].replace(np.nan,'Not Specified')"
   ]
  },
  {
   "cell_type": "code",
   "execution_count": 25,
   "id": "6e887668",
   "metadata": {},
   "outputs": [
    {
     "data": {
      "image/png": "[encoded data removed]",
      "text/plain": [
       "<Figure size 1080x360 with 1 Axes>"
      ]
     },
     "metadata": {
      "needs_background": "light"
     },
     "output_type": "display_data"
    }
   ],
   "source": [
    "# plotting spread for Specilization column\n",
    "\n",
    "plt.figure(figsize=(15,5))\n",
    "s1=sns.countplot(leads.Specialization, hue=leads.Converted)\n",
    "s1.set_xticklabels(s1.get_xticklabels(),rotation=90)\n",
    "plt.show()"
   ]
  },
  {
   "cell_type": "code",
   "execution_count": 26,
   "id": "3030ef37",
   "metadata": {},
   "outputs": [],
   "source": [
    "#here we can see that specialization with Management in them have higher number of leads as well as leads converted.\n",
    "# so we can't drop it"
   ]
  },
  {
   "cell_type": "code",
   "execution_count": 27,
   "id": "ac74a98b",
   "metadata": {},
   "outputs": [],
   "source": [
    "# As we see Management Specialization see similar trends \n",
    "# so, we can combining Management Specialization "
   ]
  },
  {
   "cell_type": "code",
   "execution_count": 28,
   "id": "8ba586e6",
   "metadata": {},
   "outputs": [],
   "source": [
    "leads['Specialization'] = leads['Specialization'].replace(['Finance Management','Human Resource Management',\n",
    "                                                           'Marketing Management','Operations Management',\n",
    "                                                           'IT Projects Management','Supply Chain Management',\n",
    "                                                    'Healthcare Management','Hospitality Management',\n",
    "                                                           'Retail Management'] ,'Management_Specializations')"
   ]
  },
  {
   "cell_type": "code",
   "execution_count": 29,
   "id": "f2202fae",
   "metadata": {},
   "outputs": [
    {
     "data": {
      "image/png": "[encoded data removed]",
      "text/plain": [
       "<Figure size 1080x360 with 1 Axes>"
      ]
     },
     "metadata": {
      "needs_background": "light"
     },
     "output_type": "display_data"
    }
   ],
   "source": [
    "#Visualizing count of variable based on converted value\n",
    "plt.figure(figsize=(15,5))\n",
    "s1=sns.countplot(leads.Specialization, hue=leads.Converted)\n",
    "s1.set_xticklabels(s1.get_xticklabels(),rotation=90)\n",
    "plt.show()"
   ]
  },
  {
   "cell_type": "code",
   "execution_count": 30,
   "id": "23af0d00",
   "metadata": {},
   "outputs": [
    {
     "data": {
      "text/plain": [
       "Unemployed              5600\n",
       "NaN                     2690\n",
       "Working Professional     706\n",
       "Student                  210\n",
       "Other                     16\n",
       "Housewife                 10\n",
       "Businessman                8\n",
       "Name: What is your current occupation, dtype: int64"
      ]
     },
     "execution_count": 30,
     "metadata": {},
     "output_type": "execute_result"
    }
   ],
   "source": [
    "#What is your current occupation\n",
    "leads['What is your current occupation'].value_counts(dropna=False)"
   ]
  },
  {
   "cell_type": "code",
   "execution_count": 31,
   "id": "e8faf4d1",
   "metadata": {},
   "outputs": [],
   "source": [
    "# Imputing Nan values with 'Unemployed'\n",
    "leads['What is your current occupation'] = leads['What is your current occupation'].replace(np.nan,'Unemployed')"
   ]
  },
  {
   "cell_type": "code",
   "execution_count": 32,
   "id": "06cd62e2",
   "metadata": {},
   "outputs": [
    {
     "data": {
      "text/plain": [
       "Unemployed              8290\n",
       "Working Professional     706\n",
       "Student                  210\n",
       "Other                     16\n",
       "Housewife                 10\n",
       "Businessman                8\n",
       "Name: What is your current occupation, dtype: int64"
      ]
     },
     "execution_count": 32,
     "metadata": {},
     "output_type": "execute_result"
    }
   ],
   "source": [
    "leads['What is your current occupation'].value_counts(dropna=False)"
   ]
  },
  {
   "cell_type": "code",
   "execution_count": 33,
   "id": "fc4051fd",
   "metadata": {},
   "outputs": [
    {
     "data": {
      "image/png": "[encoded data removed]",
      "text/plain": [
       "<Figure size 720x360 with 1 Axes>"
      ]
     },
     "metadata": {
      "needs_background": "light"
     },
     "output_type": "display_data"
    }
   ],
   "source": [
    "# visualizing count of variable based on converted values\n",
    "plt.figure(figsize=(10,5))\n",
    "s1=sns.countplot(leads['What is your current occupation'], hue=leads.Converted)\n",
    "s1.set_xticklabels(s1.get_xticklabels(),rotation=90)\n",
    "plt.show()"
   ]
  },
  {
   "cell_type": "code",
   "execution_count": 34,
   "id": "260db194",
   "metadata": {},
   "outputs": [],
   "source": [
    "#here we can see that working professionals going for the course have high chance of joining it.\n",
    "#Unemployed leads are most in terms of absolute numbers"
   ]
  },
  {
   "cell_type": "code",
   "execution_count": 35,
   "id": "a3056848",
   "metadata": {},
   "outputs": [
    {
     "data": {
      "text/plain": [
       "Better Career Prospects      6528\n",
       "NaN                          2709\n",
       "Flexibility & Convenience       2\n",
       "Other                           1\n",
       "Name: What matters most to you in choosing a course, dtype: int64"
      ]
     },
     "execution_count": 35,
     "metadata": {},
     "output_type": "execute_result"
    }
   ],
   "source": [
    "# checking values count for What matters most to you in choosing a course\n",
    "leads['What matters most to you in choosing a course'].value_counts(dropna=False)"
   ]
  },
  {
   "cell_type": "code",
   "execution_count": 36,
   "id": "82d077e0",
   "metadata": {},
   "outputs": [],
   "source": [
    "#repacing Nan with Better Career Prospects\n",
    "leads['What matters most to you in choosing a course'] = leads['What matters most to you in choosing a course'].replace(np.nan,'Better Career Prospects')"
   ]
  },
  {
   "cell_type": "code",
   "execution_count": 37,
   "id": "26a209ac",
   "metadata": {},
   "outputs": [
    {
     "data": {
      "image/png": "[encoded data removed]",
      "text/plain": [
       "<Figure size 720x360 with 1 Axes>"
      ]
     },
     "metadata": {
      "needs_background": "light"
     },
     "output_type": "display_data"
    }
   ],
   "source": [
    "#visualizing count of variable based on converted value\n",
    "plt.figure(figsize=(10,5))\n",
    "s1=sns.countplot(leads['What matters most to you in choosing a course'], hue=leads.Converted)\n",
    "s1.set_xticklabels(s1.get_xticklabels(),rotation=90)\n",
    "plt.show()"
   ]
  },
  {
   "cell_type": "code",
   "execution_count": 38,
   "id": "73d53d69",
   "metadata": {},
   "outputs": [
    {
     "data": {
      "text/plain": [
       "Better Career Prospects      9237\n",
       "Flexibility & Convenience       2\n",
       "Other                           1\n",
       "Name: What matters most to you in choosing a course, dtype: int64"
      ]
     },
     "execution_count": 38,
     "metadata": {},
     "output_type": "execute_result"
    }
   ],
   "source": [
    "#Checking value count of variable\n",
    "leads['What matters most to you in choosing a course'].value_counts(dropna=False)"
   ]
  },
  {
   "cell_type": "code",
   "execution_count": 39,
   "id": "1b3fce3f",
   "metadata": {},
   "outputs": [
    {
     "data": {
      "text/plain": [
       "['Country', 'What matters most to you in choosing a course']"
      ]
     },
     "execution_count": 39,
     "metadata": {},
     "output_type": "execute_result"
    }
   ],
   "source": [
    "#here again we have another column that need to drop. so, we call cols_to_drop list\n",
    "\n",
    "cols_to_drop.append('What matters most to you in choosing a course')\n",
    "cols_to_drop"
   ]
  },
  {
   "cell_type": "code",
   "execution_count": 40,
   "id": "cd9be9d2",
   "metadata": {},
   "outputs": [
    {
     "data": {
      "text/plain": [
       "NaN                                                  3353\n",
       "Will revert after reading the email                  2072\n",
       "Ringing                                              1203\n",
       "Interested in other courses                           513\n",
       "Already a student                                     465\n",
       "Closed by Horizzon                                    358\n",
       "switched off                                          240\n",
       "Busy                                                  186\n",
       "Lost to EINS                                          175\n",
       "Not doing further education                           145\n",
       "Interested  in full time MBA                          117\n",
       "Graduation in progress                                111\n",
       "invalid number                                         83\n",
       "Diploma holder (Not Eligible)                          63\n",
       "wrong number given                                     47\n",
       "opp hangup                                             33\n",
       "number not provided                                    27\n",
       "in touch with EINS                                     12\n",
       "Lost to Others                                          7\n",
       "Still Thinking                                          6\n",
       "Want to take admission but has financial problems       6\n",
       "In confusion whether part time or DLP                   5\n",
       "Interested in Next batch                                5\n",
       "Lateral student                                         3\n",
       "Shall take in the next coming month                     2\n",
       "University not recognized                               2\n",
       "Recognition issue (DEC approval)                        1\n",
       "Name: Tags, dtype: int64"
      ]
     },
     "execution_count": 40,
     "metadata": {},
     "output_type": "execute_result"
    }
   ],
   "source": [
    "#Checking value count for Tag variable\n",
    "leads['Tags'].value_counts(dropna=False)"
   ]
  },
  {
   "cell_type": "code",
   "execution_count": null,
   "id": "93c96def",
   "metadata": {},
   "outputs": [],
   "source": []
  },
  {
   "cell_type": "code",
   "execution_count": 41,
   "id": "ec880cb3",
   "metadata": {},
   "outputs": [],
   "source": [
    "#replacing NAn values with 'Not Specified'\n",
    "leads['Tags'] = leads['Tags'].replace(np.nan,'Not Specified')"
   ]
  },
  {
   "cell_type": "code",
   "execution_count": 42,
   "id": "39b30512",
   "metadata": {},
   "outputs": [
    {
     "data": {
      "image/png": "[encoded data removed]",
      "text/plain": [
       "<Figure size 1080x360 with 1 Axes>"
      ]
     },
     "metadata": {
      "needs_background": "light"
     },
     "output_type": "display_data"
    }
   ],
   "source": [
    "#visualizing count of variable based on converted value\n",
    "plt.figure(figsize=(15,5))\n",
    "s1=sns.countplot(leads['Tags'], hue=leads.Converted)\n",
    "s1.set_xticklabels(s1.get_xticklabels(),rotation=90)\n",
    "plt.show()"
   ]
  },
  {
   "cell_type": "code",
   "execution_count": 43,
   "id": "4ba8fe43",
   "metadata": {},
   "outputs": [],
   "source": [
    "#Replacing tags with low frequency with 'Others Tags'\n",
    "leads['Tags'] = leads['Tags'].replace(['In confusion whether part time or DLP', 'in touch with EINS','Diploma holder (Not Eligible)',\n",
    "                                     'Approached upfront','Graduation in progress','number not provided', 'opp hangup','Still Thinking',\n",
    "                                    'Lost to Others','Shall take in the next coming month','Lateral student','Interested in Next batch',\n",
    "                                    'Recognition issue (DEC approval)','Want to take admission but has financial problems',\n",
    "                                    'University not recognized'], 'Other_Tags')\n",
    "\n",
    "leads['Tags'] = leads['Tags'].replace(['switched off',\n",
    "                                      'Already a student',\n",
    "                                       'Not doing further education',\n",
    "                                       'invalid number',\n",
    "                                       'wrong number given',\n",
    "                                       'Interested  in full time MBA'] , 'Other_Tags')"
   ]
  },
  {
   "cell_type": "code",
   "execution_count": 44,
   "id": "677c332e",
   "metadata": {},
   "outputs": [
    {
     "data": {
      "text/plain": [
       "Lead Origin                                      0.00\n",
       "Lead Source                                      0.39\n",
       "Do Not Email                                     0.00\n",
       "Do Not Call                                      0.00\n",
       "Converted                                        0.00\n",
       "TotalVisits                                      1.48\n",
       "Total Time Spent on Website                      0.00\n",
       "Page Views Per Visit                             1.48\n",
       "Last Activity                                    1.11\n",
       "Country                                          0.00\n",
       "Specialization                                   0.00\n",
       "What is your current occupation                  0.00\n",
       "What matters most to you in choosing a course    0.00\n",
       "Search                                           0.00\n",
       "Magazine                                         0.00\n",
       "Newspaper Article                                0.00\n",
       "X Education Forums                               0.00\n",
       "Newspaper                                        0.00\n",
       "Digital Advertisement                            0.00\n",
       "Through Recommendations                          0.00\n",
       "Receive More Updates About Our Courses           0.00\n",
       "Tags                                             0.00\n",
       "Update me on Supply Chain Content                0.00\n",
       "Get updates on DM Content                        0.00\n",
       "City                                             0.00\n",
       "I agree to pay the amount through cheque         0.00\n",
       "A free copy of Mastering The Interview           0.00\n",
       "Last Notable Activity                            0.00\n",
       "dtype: float64"
      ]
     },
     "execution_count": 44,
     "metadata": {},
     "output_type": "execute_result"
    }
   ],
   "source": [
    "#checking percentage of missing value\n",
    "round(100*(leads.isnull().sum()/len(leads.index)),2)"
   ]
  },
  {
   "cell_type": "code",
   "execution_count": 45,
   "id": "d31fafe0",
   "metadata": {},
   "outputs": [
    {
     "data": {
      "text/plain": [
       "Google               2868\n",
       "Direct Traffic       2543\n",
       "Olark Chat           1755\n",
       "Organic Search       1154\n",
       "Reference             534\n",
       "Welingak Website      142\n",
       "Referral Sites        125\n",
       "Facebook               55\n",
       "NaN                    36\n",
       "bing                    6\n",
       "google                  5\n",
       "Click2call              4\n",
       "Press_Release           2\n",
       "Social Media            2\n",
       "Live Chat               2\n",
       "youtubechannel          1\n",
       "testone                 1\n",
       "Pay per Click Ads       1\n",
       "welearnblog_Home        1\n",
       "WeLearn                 1\n",
       "blog                    1\n",
       "NC_EDM                  1\n",
       "Name: Lead Source, dtype: int64"
      ]
     },
     "execution_count": 45,
     "metadata": {},
     "output_type": "execute_result"
    }
   ],
   "source": [
    "#checking value counts of lead scource column\n",
    "leads['Lead Source'].value_counts(dropna=False)"
   ]
  },
  {
   "cell_type": "code",
   "execution_count": 46,
   "id": "608ca2ad",
   "metadata": {},
   "outputs": [],
   "source": [
    "#replacing Nan Values and combining low frequency values\n",
    "leads['Lead Source'] = leads['Lead Source'].replace(np.nan,'Others')\n",
    "leads['Lead Source'] = leads['Lead Source'].replace('google','Google')\n",
    "leads['Lead Source'] = leads['Lead Source'].replace('Facebook','Social Media')\n",
    "leads['Lead Source'] = leads['Lead Source'].replace(['bing','Click2call','Press_Release',\n",
    "                                                     'youtubechannel','welearnblog_Home',\n",
    "                                                     'WeLearn','blog','Pay per Click Ads',\n",
    "                                                    'testone','NC_EDM'] ,'Others')"
   ]
  },
  {
   "cell_type": "code",
   "execution_count": 47,
   "id": "061f7684",
   "metadata": {},
   "outputs": [],
   "source": [
    "#here we can group some of the lower frequence occuring labels under a common label 'others'"
   ]
  },
  {
   "cell_type": "code",
   "execution_count": 48,
   "id": "840d6c5c",
   "metadata": {},
   "outputs": [
    {
     "data": {
      "image/png": "[encoded data removed]",
      "text/plain": [
       "<Figure size 1080x360 with 1 Axes>"
      ]
     },
     "metadata": {
      "needs_background": "light"
     },
     "output_type": "display_data"
    }
   ],
   "source": [
    "#visualizing count of variable based on converted value\n",
    "plt.figure(figsize=(15,5))\n",
    "s1=sns.countplot(leads['Lead Source'], hue=leads.Converted)\n",
    "s1.set_xticklabels(s1.get_xticklabels(),rotation=90)\n",
    "plt.show()"
   ]
  },
  {
   "cell_type": "markdown",
   "id": "fded5077",
   "metadata": {},
   "source": [
    "- here we can see clealry maximam numbers of lead are generated by Google and Direct traffic.\n",
    "- Conversion Rate of references leads and leads through welingak website is high.\n"
   ]
  },
  {
   "cell_type": "code",
   "execution_count": 49,
   "id": "0c647916",
   "metadata": {},
   "outputs": [
    {
     "data": {
      "text/plain": [
       "Email Opened                    3437\n",
       "SMS Sent                        2745\n",
       "Olark Chat Conversation          973\n",
       "Page Visited on Website          640\n",
       "Converted to Lead                428\n",
       "Email Bounced                    326\n",
       "Email Link Clicked               267\n",
       "Form Submitted on Website        116\n",
       "NaN                              103\n",
       "Unreachable                       93\n",
       "Unsubscribed                      61\n",
       "Had a Phone Conversation          30\n",
       "Approached upfront                 9\n",
       "View in browser link Clicked       6\n",
       "Email Received                     2\n",
       "Email Marked Spam                  2\n",
       "Visited Booth in Tradeshow         1\n",
       "Resubscribed to emails             1\n",
       "Name: Last Activity, dtype: int64"
      ]
     },
     "execution_count": 49,
     "metadata": {},
     "output_type": "execute_result"
    }
   ],
   "source": [
    "#cheking value count for 'Last Activity' column\n",
    "leads['Last Activity'].value_counts(dropna=False)"
   ]
  },
  {
   "cell_type": "code",
   "execution_count": 50,
   "id": "5a31b6e1",
   "metadata": {},
   "outputs": [],
   "source": [
    "#replacing Nan Values and combining low frequency values\n",
    "\n",
    "leads['Last Activity'] = leads['Last Activity'].replace(np.nan,'Others')\n",
    "leads['Last Activity'] = leads['Last Activity'].replace(['Unreachable','Unsubscribed',\n",
    "                                                        'Had a Phone Conversation', \n",
    "                                                        'Approached upfront',\n",
    "                                                        'View in browser link Clicked',       \n",
    "                                                        'Email Marked Spam',                  \n",
    "                                                        'Email Received','Resubscribed to emails',\n",
    "                                                         'Visited Booth in Tradeshow'],'Others')"
   ]
  },
  {
   "cell_type": "code",
   "execution_count": 51,
   "id": "1f45bfa1",
   "metadata": {},
   "outputs": [
    {
     "data": {
      "text/plain": [
       "Email Opened                 3437\n",
       "SMS Sent                     2745\n",
       "Olark Chat Conversation       973\n",
       "Page Visited on Website       640\n",
       "Converted to Lead             428\n",
       "Email Bounced                 326\n",
       "Others                        308\n",
       "Email Link Clicked            267\n",
       "Form Submitted on Website     116\n",
       "Name: Last Activity, dtype: int64"
      ]
     },
     "execution_count": 51,
     "metadata": {},
     "output_type": "execute_result"
    }
   ],
   "source": [
    "#Last Acticity\n",
    "leads['Last Activity'].value_counts(dropna=False)"
   ]
  },
  {
   "cell_type": "code",
   "execution_count": 52,
   "id": "d15794c2",
   "metadata": {},
   "outputs": [
    {
     "data": {
      "text/plain": [
       "Lead Origin                                      0.00\n",
       "Lead Source                                      0.00\n",
       "Do Not Email                                     0.00\n",
       "Do Not Call                                      0.00\n",
       "Converted                                        0.00\n",
       "TotalVisits                                      1.48\n",
       "Total Time Spent on Website                      0.00\n",
       "Page Views Per Visit                             1.48\n",
       "Last Activity                                    0.00\n",
       "Country                                          0.00\n",
       "Specialization                                   0.00\n",
       "What is your current occupation                  0.00\n",
       "What matters most to you in choosing a course    0.00\n",
       "Search                                           0.00\n",
       "Magazine                                         0.00\n",
       "Newspaper Article                                0.00\n",
       "X Education Forums                               0.00\n",
       "Newspaper                                        0.00\n",
       "Digital Advertisement                            0.00\n",
       "Through Recommendations                          0.00\n",
       "Receive More Updates About Our Courses           0.00\n",
       "Tags                                             0.00\n",
       "Update me on Supply Chain Content                0.00\n",
       "Get updates on DM Content                        0.00\n",
       "City                                             0.00\n",
       "I agree to pay the amount through cheque         0.00\n",
       "A free copy of Mastering The Interview           0.00\n",
       "Last Notable Activity                            0.00\n",
       "dtype: float64"
      ]
     },
     "execution_count": 52,
     "metadata": {},
     "output_type": "execute_result"
    }
   ],
   "source": [
    "#check the null values in all column\n",
    "round(100*(leads.isnull().sum()/len(leads.index)),2)"
   ]
  },
  {
   "cell_type": "code",
   "execution_count": 53,
   "id": "948a20ee",
   "metadata": {},
   "outputs": [],
   "source": [
    "#Dropping all rows which have Nan Values. Since the number of dropped rows is less than 2% , it will not affect the model\n",
    "leads = leads.dropna()"
   ]
  },
  {
   "cell_type": "code",
   "execution_count": 54,
   "id": "10888e8f",
   "metadata": {},
   "outputs": [
    {
     "data": {
      "text/plain": [
       "Lead Origin                                      0.0\n",
       "Lead Source                                      0.0\n",
       "Do Not Email                                     0.0\n",
       "Do Not Call                                      0.0\n",
       "Converted                                        0.0\n",
       "TotalVisits                                      0.0\n",
       "Total Time Spent on Website                      0.0\n",
       "Page Views Per Visit                             0.0\n",
       "Last Activity                                    0.0\n",
       "Country                                          0.0\n",
       "Specialization                                   0.0\n",
       "What is your current occupation                  0.0\n",
       "What matters most to you in choosing a course    0.0\n",
       "Search                                           0.0\n",
       "Magazine                                         0.0\n",
       "Newspaper Article                                0.0\n",
       "X Education Forums                               0.0\n",
       "Newspaper                                        0.0\n",
       "Digital Advertisement                            0.0\n",
       "Through Recommendations                          0.0\n",
       "Receive More Updates About Our Courses           0.0\n",
       "Tags                                             0.0\n",
       "Update me on Supply Chain Content                0.0\n",
       "Get updates on DM Content                        0.0\n",
       "City                                             0.0\n",
       "I agree to pay the amount through cheque         0.0\n",
       "A free copy of Mastering The Interview           0.0\n",
       "Last Notable Activity                            0.0\n",
       "dtype: float64"
      ]
     },
     "execution_count": 54,
     "metadata": {},
     "output_type": "execute_result"
    }
   ],
   "source": [
    "#Checking percentage of Null values in All columns \n",
    "round(100*(leads.isnull().sum()/len(leads.index)),2)"
   ]
  },
  {
   "cell_type": "code",
   "execution_count": 55,
   "id": "cfcd9d09",
   "metadata": {},
   "outputs": [
    {
     "data": {
      "text/plain": [
       "Landing Page Submission    4886\n",
       "API                        3578\n",
       "Lead Add Form               608\n",
       "Lead Import                  31\n",
       "Name: Lead Origin, dtype: int64"
      ]
     },
     "execution_count": 55,
     "metadata": {},
     "output_type": "execute_result"
    }
   ],
   "source": [
    "#Lead Origin\n",
    "leads['Lead Origin'].value_counts(dropna=False)"
   ]
  },
  {
   "cell_type": "code",
   "execution_count": 56,
   "id": "23d60a6e",
   "metadata": {},
   "outputs": [
    {
     "data": {
      "image/png": "[encoded data removed]",
      "text/plain": [
       "<Figure size 1080x360 with 1 Axes>"
      ]
     },
     "metadata": {
      "needs_background": "light"
     },
     "output_type": "display_data"
    }
   ],
   "source": [
    "#visualizing count of variable based on converted value\n",
    "plt.figure(figsize=(15,5))\n",
    "s1=sns.countplot(leads['Lead Origin'], hue=leads.Converted)\n",
    "s1.set_xticklabels(s1.get_xticklabels(),rotation=90)\n",
    "plt.show()"
   ]
  },
  {
   "cell_type": "markdown",
   "id": "b42eca8c",
   "metadata": {},
   "source": [
    "- API and Landing Page submission bring higher number of leads as well as conversion\n",
    "- Lead ADD Form has a very high conversion rate but count of leads are not very high\n",
    "- Lead import and Quick Add Form get very few leads."
   ]
  },
  {
   "cell_type": "code",
   "execution_count": 57,
   "id": "7843007f",
   "metadata": {},
   "outputs": [],
   "source": [
    "# Now Adding imbalance columns to list of columns to be dropped\n",
    "cols_to_drop.extend(['Search','Magazine','Newspaper Article','X Education Forums','Newspaper',\n",
    "                 'Digital Advertisement','Through Recommendations','Receive More Updates About Our Courses',\n",
    "                 'Update me on Supply Chain Content',\n",
    "                 'Get updates on DM Content','I agree to pay the amount through cheque','Do Not Call'])"
   ]
  },
  {
   "cell_type": "code",
   "execution_count": 58,
   "id": "5f84021c",
   "metadata": {},
   "outputs": [
    {
     "data": {
      "text/plain": [
       "Modified                        3270\n",
       "Email Opened                    2827\n",
       "SMS Sent                        2172\n",
       "Page Visited on Website          318\n",
       "Olark Chat Conversation          183\n",
       "Email Link Clicked               173\n",
       "Email Bounced                     60\n",
       "Unsubscribed                      47\n",
       "Unreachable                       32\n",
       "Had a Phone Conversation          14\n",
       "Email Marked Spam                  2\n",
       "Approached upfront                 1\n",
       "Resubscribed to emails             1\n",
       "View in browser link Clicked       1\n",
       "Form Submitted on Website          1\n",
       "Email Received                     1\n",
       "Name: Last Notable Activity, dtype: int64"
      ]
     },
     "execution_count": 58,
     "metadata": {},
     "output_type": "execute_result"
    }
   ],
   "source": [
    "#Checking value counts of last Notable Activity\n",
    "leads['Last Notable Activity'].value_counts()"
   ]
  },
  {
   "cell_type": "code",
   "execution_count": 59,
   "id": "782f52c5",
   "metadata": {},
   "outputs": [],
   "source": [
    "# Clubbing lower frequence values\n",
    "leads['Last Notable Activity'] = leads['Last Notable Activity'].replace(['Had a Phone Conversation',\n",
    "                                                                       'Email Marked Spam',\n",
    "                                                                         'Unreachable',\n",
    "                                                                         'Unsubscribed',\n",
    "                                                                         'Email Bounced',                                                                    \n",
    "                                                                       'Resubscribed to emails',\n",
    "                                                                       'View in browser link Clicked',\n",
    "                                                                       'Approached upfront', \n",
    "                                                                       'Form Submitted on Website', \n",
    "                                                                       'Email Received'],'Other_Notable_activity')"
   ]
  },
  {
   "cell_type": "code",
   "execution_count": 60,
   "id": "7f5b2452",
   "metadata": {},
   "outputs": [
    {
     "data": {
      "image/png": "[encoded data removed]",
      "text/plain": [
       "<Figure size 1080x360 with 1 Axes>"
      ]
     },
     "metadata": {
      "needs_background": "light"
     },
     "output_type": "display_data"
    }
   ],
   "source": [
    "#visualizing count of variable based on converted value\n",
    "plt.figure(figsize=(15,5))\n",
    "s1=sns.countplot(leads['Last Notable Activity'], hue=leads.Converted)\n",
    "s1.set_xticklabels(s1.get_xticklabels(),rotation=90)\n",
    "plt.show()"
   ]
  },
  {
   "cell_type": "code",
   "execution_count": 61,
   "id": "d47d4d55",
   "metadata": {},
   "outputs": [
    {
     "data": {
      "text/plain": [
       "Modified                   3270\n",
       "Email Opened               2827\n",
       "SMS Sent                   2172\n",
       "Page Visited on Website     318\n",
       "Olark Chat Conversation     183\n",
       "Email Link Clicked          173\n",
       "Other_Notable_activity      160\n",
       "Name: Last Notable Activity, dtype: int64"
      ]
     },
     "execution_count": 61,
     "metadata": {},
     "output_type": "execute_result"
    }
   ],
   "source": [
    "#Checking value counts of last Notable Activity\n",
    "leads['Last Notable Activity'].value_counts()"
   ]
  },
  {
   "cell_type": "code",
   "execution_count": 62,
   "id": "1a2fb777",
   "metadata": {},
   "outputs": [
    {
     "data": {
      "text/plain": [
       "['Country',\n",
       " 'What matters most to you in choosing a course',\n",
       " 'Search',\n",
       " 'Magazine',\n",
       " 'Newspaper Article',\n",
       " 'X Education Forums',\n",
       " 'Newspaper',\n",
       " 'Digital Advertisement',\n",
       " 'Through Recommendations',\n",
       " 'Receive More Updates About Our Courses',\n",
       " 'Update me on Supply Chain Content',\n",
       " 'Get updates on DM Content',\n",
       " 'I agree to pay the amount through cheque',\n",
       " 'Do Not Call']"
      ]
     },
     "execution_count": 62,
     "metadata": {},
     "output_type": "execute_result"
    }
   ],
   "source": [
    "#list of columns to be dropped\n",
    "cols_to_drop"
   ]
  },
  {
   "cell_type": "code",
   "execution_count": 63,
   "id": "77e1c3e5",
   "metadata": {},
   "outputs": [
    {
     "name": "stdout",
     "output_type": "stream",
     "text": [
      "<class 'pandas.core.frame.DataFrame'>\n",
      "Int64Index: 9103 entries, 0 to 9239\n",
      "Data columns (total 14 columns):\n",
      " #   Column                                  Non-Null Count  Dtype  \n",
      "---  ------                                  --------------  -----  \n",
      " 0   Lead Origin                             9103 non-null   object \n",
      " 1   Lead Source                             9103 non-null   object \n",
      " 2   Do Not Email                            9103 non-null   object \n",
      " 3   Converted                               9103 non-null   int64  \n",
      " 4   TotalVisits                             9103 non-null   float64\n",
      " 5   Total Time Spent on Website             9103 non-null   int64  \n",
      " 6   Page Views Per Visit                    9103 non-null   float64\n",
      " 7   Last Activity                           9103 non-null   object \n",
      " 8   Specialization                          9103 non-null   object \n",
      " 9   What is your current occupation         9103 non-null   object \n",
      " 10  Tags                                    9103 non-null   object \n",
      " 11  City                                    9103 non-null   object \n",
      " 12  A free copy of Mastering The Interview  9103 non-null   object \n",
      " 13  Last Notable Activity                   9103 non-null   object \n",
      "dtypes: float64(2), int64(2), object(10)\n",
      "memory usage: 1.3+ MB\n"
     ]
    }
   ],
   "source": [
    "#dropping columns\n",
    "leads = leads.drop(cols_to_drop,1)\n",
    "leads.info()"
   ]
  },
  {
   "cell_type": "markdown",
   "id": "db3d1fc5",
   "metadata": {},
   "source": [
    "### Numerical Attributes Analysis"
   ]
  },
  {
   "cell_type": "code",
   "execution_count": 64,
   "id": "a195bad0",
   "metadata": {},
   "outputs": [
    {
     "data": {
      "text/plain": [
       "<AxesSubplot:>"
      ]
     },
     "execution_count": 64,
     "metadata": {},
     "output_type": "execute_result"
    },
    {
     "data": {
      "image/png": "[encoded data removed]",
      "text/plain": [
       "<Figure size 720x576 with 2 Axes>"
      ]
     },
     "metadata": {
      "needs_background": "light"
     },
     "output_type": "display_data"
    }
   ],
   "source": [
    "#Checking correlation of numeric values\n",
    "plt.figure(figsize=(10,8))\n",
    "sns.heatmap(leads.corr(),annot=True)"
   ]
  },
  {
   "cell_type": "code",
   "execution_count": 65,
   "id": "9eb9a3b9",
   "metadata": {},
   "outputs": [
    {
     "data": {
      "image/png": "[encoded data removed]",
      "text/plain": [
       "<Figure size 432x288 with 1 Axes>"
      ]
     },
     "metadata": {
      "needs_background": "light"
     },
     "output_type": "display_data"
    }
   ],
   "source": [
    "#Total visits\n",
    "#visualizing spread of variable \n",
    "plt.figure(figsize=(6,4))\n",
    "sns.boxplot(y=leads['TotalVisits'])\n",
    "plt.show()"
   ]
  },
  {
   "cell_type": "code",
   "execution_count": 66,
   "id": "43829c5c",
   "metadata": {},
   "outputs": [],
   "source": [
    "#here we can see presence of outliers here"
   ]
  },
  {
   "cell_type": "code",
   "execution_count": 67,
   "id": "225d5869",
   "metadata": {},
   "outputs": [
    {
     "data": {
      "text/plain": [
       "count    9103.000000\n",
       "mean        3.445238\n",
       "std         4.854853\n",
       "min         0.000000\n",
       "5%          0.000000\n",
       "25%         1.000000\n",
       "50%         3.000000\n",
       "75%         5.000000\n",
       "90%         7.000000\n",
       "95%        10.000000\n",
       "99%        17.000000\n",
       "max       251.000000\n",
       "Name: TotalVisits, dtype: float64"
      ]
     },
     "execution_count": 67,
     "metadata": {},
     "output_type": "execute_result"
    }
   ],
   "source": [
    "# Checking percentage value for 'TotalVisits'\n",
    "\n",
    "leads['TotalVisits'].describe(percentiles=[0.05,0.25,0.5,0.75,0.90,0.95,0.99])"
   ]
  },
  {
   "cell_type": "code",
   "execution_count": 68,
   "id": "9d08359e",
   "metadata": {},
   "outputs": [
    {
     "data": {
      "image/png": "[encoded data removed]",
      "text/plain": [
       "<Figure size 432x288 with 1 Axes>"
      ]
     },
     "metadata": {
      "needs_background": "light"
     },
     "output_type": "display_data"
    }
   ],
   "source": [
    "# now we found some outliers\n",
    "#REmove top & bottom 1% of column Outlier values\n",
    "\n",
    "Q3 = leads.TotalVisits.quantile(0.99)\n",
    "\n",
    "leads = leads[(leads.TotalVisits <= Q3)]\n",
    "\n",
    "Q1 = leads.TotalVisits.quantile(0.01)\n",
    "\n",
    "leads = leads[(leads.TotalVisits >= Q1)]\n",
    "\n",
    "sns.boxplot(y=leads['TotalVisits'])\n",
    "plt.show()"
   ]
  },
  {
   "cell_type": "code",
   "execution_count": 69,
   "id": "425df940",
   "metadata": {},
   "outputs": [
    {
     "data": {
      "text/plain": [
       "(9020, 14)"
      ]
     },
     "execution_count": 69,
     "metadata": {},
     "output_type": "execute_result"
    }
   ],
   "source": [
    "leads.shape"
   ]
  },
  {
   "cell_type": "code",
   "execution_count": 70,
   "id": "5b3886c7",
   "metadata": {},
   "outputs": [
    {
     "data": {
      "text/plain": [
       "count    9020.000000\n",
       "mean      479.759534\n",
       "std       544.688157\n",
       "min         0.000000\n",
       "5%          0.000000\n",
       "25%         7.000000\n",
       "50%       243.000000\n",
       "75%       915.250000\n",
       "90%      1371.000000\n",
       "95%      1554.050000\n",
       "99%      1836.620000\n",
       "max      2272.000000\n",
       "Name: Total Time Spent on Website, dtype: float64"
      ]
     },
     "execution_count": 70,
     "metadata": {},
     "output_type": "execute_result"
    }
   ],
   "source": [
    "#Checking percentile for 'Total Time Spent on Website'\n",
    "leads['Total Time Spent on Website'].describe(percentiles=[0.05,0.25,0.5,0.75,0.90,0.95,0.99])"
   ]
  },
  {
   "cell_type": "code",
   "execution_count": 71,
   "id": "55b58864",
   "metadata": {},
   "outputs": [
    {
     "data": {
      "image/png": "[encoded data removed]",
      "text/plain": [
       "<Figure size 432x288 with 1 Axes>"
      ]
     },
     "metadata": {
      "needs_background": "light"
     },
     "output_type": "display_data"
    }
   ],
   "source": [
    "#visualizing spread of numeric variable \n",
    "plt.figure(figsize=(6,4))\n",
    "sns.boxplot(y=leads['Total Time Spent on Website'])\n",
    "plt.show()"
   ]
  },
  {
   "cell_type": "code",
   "execution_count": 72,
   "id": "3641fa5a",
   "metadata": {},
   "outputs": [],
   "source": [
    "#here do not need any treatment because we didn't found any outliers in this varibale"
   ]
  },
  {
   "cell_type": "code",
   "execution_count": 73,
   "id": "a56390bc",
   "metadata": {},
   "outputs": [
    {
     "data": {
      "text/plain": [
       "count    9020.000000\n",
       "mean        2.337271\n",
       "std         2.062363\n",
       "min         0.000000\n",
       "25%         1.000000\n",
       "50%         2.000000\n",
       "75%         3.000000\n",
       "max        16.000000\n",
       "Name: Page Views Per Visit, dtype: float64"
      ]
     },
     "execution_count": 73,
     "metadata": {},
     "output_type": "execute_result"
    }
   ],
   "source": [
    "# Checking spread of \"Page Views Per Visit\"\n",
    "leads['Page Views Per Visit'].describe()"
   ]
  },
  {
   "cell_type": "code",
   "execution_count": 74,
   "id": "b7bd41bc",
   "metadata": {},
   "outputs": [
    {
     "data": {
      "image/png": "[encoded data removed]",
      "text/plain": [
       "<Figure size 432x288 with 1 Axes>"
      ]
     },
     "metadata": {
      "needs_background": "light"
     },
     "output_type": "display_data"
    }
   ],
   "source": [
    "#visualizing spread of numeric variable\n",
    "\n",
    "plt.figure(figsize=(6,4))\n",
    "sns.boxplot(y=leads['Page Views Per Visit'])\n",
    "plt.show()"
   ]
  },
  {
   "cell_type": "code",
   "execution_count": 75,
   "id": "cf388775",
   "metadata": {},
   "outputs": [
    {
     "data": {
      "image/png": "[encoded data removed]",
      "text/plain": [
       "<Figure size 432x288 with 1 Axes>"
      ]
     },
     "metadata": {
      "needs_background": "light"
     },
     "output_type": "display_data"
    }
   ],
   "source": [
    "#Outlier Tratment :Remove top and bottom 1%\n",
    "\n",
    "Q3 = leads['Page Views Per Visit'].quantile(0.99)\n",
    "\n",
    "leads = leads[(leads['Page Views Per Visit'] <= Q3)]\n",
    "\n",
    "Q1 = leads['Page Views Per Visit'].quantile(0.01)\n",
    "\n",
    "leads = leads[(leads['Page Views Per Visit'] >= Q1)]\n",
    "\n",
    "sns.boxplot(y=leads['Page Views Per Visit'])\n",
    "plt.show()"
   ]
  },
  {
   "cell_type": "code",
   "execution_count": 76,
   "id": "0ca1cee9",
   "metadata": {},
   "outputs": [
    {
     "data": {
      "text/plain": [
       "(8953, 14)"
      ]
     },
     "execution_count": 76,
     "metadata": {},
     "output_type": "execute_result"
    }
   ],
   "source": [
    "leads.shape"
   ]
  },
  {
   "cell_type": "code",
   "execution_count": 77,
   "id": "c2994d7e",
   "metadata": {},
   "outputs": [
    {
     "data": {
      "image/png": "[encoded data removed]",
      "text/plain": [
       "<Figure size 432x288 with 1 Axes>"
      ]
     },
     "metadata": {
      "needs_background": "light"
     },
     "output_type": "display_data"
    }
   ],
   "source": [
    "#checking Spread of 'Total visits' vs Converted variable\n",
    "sns.boxplot(y='TotalVisits',x='Converted',data=leads)\n",
    "plt.show()"
   ]
  },
  {
   "cell_type": "markdown",
   "id": "26576444",
   "metadata": {},
   "source": [
    "#here \n",
    "- Median for converted and not converted leads are the close\n",
    "- Nothing conclusive can be said on the basis of total Visits"
   ]
  },
  {
   "cell_type": "code",
   "execution_count": 78,
   "id": "04ae41b4",
   "metadata": {},
   "outputs": [
    {
     "data": {
      "image/png": "[encoded data removed]",
      "text/plain": [
       "<Figure size 432x288 with 1 Axes>"
      ]
     },
     "metadata": {
      "needs_background": "light"
     },
     "output_type": "display_data"
    }
   ],
   "source": [
    "#checking Spread of 'Total Time Spent on Website' vs Converted variable\n",
    "sns.boxplot(x=leads.Converted,y=leads['Total Time Spent on Website'])\n",
    "plt.show()"
   ]
  },
  {
   "cell_type": "markdown",
   "id": "7a31036d",
   "metadata": {},
   "source": [
    "- Leads spending more time on the website are more likely to be converted.\n",
    "- Website should be made more engaging to make leads more time"
   ]
  },
  {
   "cell_type": "code",
   "execution_count": 79,
   "id": "c5459806",
   "metadata": {},
   "outputs": [
    {
     "data": {
      "image/png": "[encoded data removed]",
      "text/plain": [
       "<Figure size 432x288 with 1 Axes>"
      ]
     },
     "metadata": {
      "needs_background": "light"
     },
     "output_type": "display_data"
    }
   ],
   "source": [
    "#checking Spread of 'Page Views Per Visit' vs Converted variable\n",
    "sns.boxplot(x=leads.Converted,y=leads['Page Views Per Visit'])\n",
    "plt.show()"
   ]
  },
  {
   "cell_type": "markdown",
   "id": "857756e5",
   "metadata": {},
   "source": [
    "- Median for converted and unconverted leads is the same.\n",
    "- both are same that why nothing can be said specifically for lead conversion from Page Views Per Visit"
   ]
  },
  {
   "cell_type": "code",
   "execution_count": 80,
   "id": "84000d8d",
   "metadata": {},
   "outputs": [
    {
     "data": {
      "text/plain": [
       "Lead Origin                               0.0\n",
       "Lead Source                               0.0\n",
       "Do Not Email                              0.0\n",
       "Converted                                 0.0\n",
       "TotalVisits                               0.0\n",
       "Total Time Spent on Website               0.0\n",
       "Page Views Per Visit                      0.0\n",
       "Last Activity                             0.0\n",
       "Specialization                            0.0\n",
       "What is your current occupation           0.0\n",
       "Tags                                      0.0\n",
       "City                                      0.0\n",
       "A free copy of Mastering The Interview    0.0\n",
       "Last Notable Activity                     0.0\n",
       "dtype: float64"
      ]
     },
     "execution_count": 80,
     "metadata": {},
     "output_type": "execute_result"
    }
   ],
   "source": [
    "#Cheking missing values in left over column\n",
    "\n",
    "round(100*(leads.isnull().sum()/len(leads.index)),2)"
   ]
  },
  {
   "cell_type": "code",
   "execution_count": 81,
   "id": "3e4acb1e",
   "metadata": {},
   "outputs": [],
   "source": [
    "# So, we can see here there is no missing values in the columns to be analyzed further"
   ]
  },
  {
   "cell_type": "markdown",
   "id": "970d51a1",
   "metadata": {},
   "source": [
    "### Dummy Variable Creation"
   ]
  },
  {
   "cell_type": "code",
   "execution_count": 82,
   "id": "50f0ac6f",
   "metadata": {},
   "outputs": [
    {
     "data": {
      "text/plain": [
       "Index(['Lead Origin', 'Lead Source', 'Do Not Email', 'Last Activity',\n",
       "       'Specialization', 'What is your current occupation', 'Tags', 'City',\n",
       "       'A free copy of Mastering The Interview', 'Last Notable Activity'],\n",
       "      dtype='object')"
      ]
     },
     "execution_count": 82,
     "metadata": {},
     "output_type": "execute_result"
    }
   ],
   "source": [
    "# Getting a list of Categorical columns\n",
    "\n",
    "cat_cols = leads.select_dtypes(include=['object']).columns\n",
    "cat_cols"
   ]
  },
  {
   "cell_type": "code",
   "execution_count": 83,
   "id": "67cadd93",
   "metadata": {},
   "outputs": [
    {
     "data": {
      "text/plain": [
       "(10,)"
      ]
     },
     "execution_count": 83,
     "metadata": {},
     "output_type": "execute_result"
    }
   ],
   "source": [
    "cat_cols.shape"
   ]
  },
  {
   "cell_type": "code",
   "execution_count": 84,
   "id": "6124670a",
   "metadata": {},
   "outputs": [],
   "source": [
    "#List of variable to map\n",
    "\n",
    "varlist = ['A free copy of Mastering The Interview','Do Not Email']\n",
    "\n",
    "def binary_map(x):\n",
    "    return x.map({'Yes':1,'No':0})\n",
    "\n",
    "# Applying the function to the housing list\n",
    "leads[varlist] = leads[varlist].apply(binary_map)"
   ]
  },
  {
   "cell_type": "code",
   "execution_count": 85,
   "id": "5b0350b1",
   "metadata": {},
   "outputs": [],
   "source": [
    "#Creating dummies and dropping the first column and adding the result to the master dataframe\n",
    "\n",
    "dummy = pd.get_dummies(leads[['Lead Origin','What is your current occupation']], drop_first=True)\n",
    "\n",
    "leads = pd.concat([leads,dummy],1)"
   ]
  },
  {
   "cell_type": "code",
   "execution_count": 86,
   "id": "73a0af7e",
   "metadata": {},
   "outputs": [],
   "source": [
    "dummy = pd.get_dummies(leads['Specialization'], prefix = 'Specialization')\n",
    "dummy = dummy.drop(['Specialization_Not Specified'],1)\n",
    "leads = pd.concat([leads,dummy],axis=1)"
   ]
  },
  {
   "cell_type": "code",
   "execution_count": 87,
   "id": "7b850ef2",
   "metadata": {},
   "outputs": [],
   "source": [
    "dummy = pd.get_dummies(leads['Lead Source'], prefix = 'Lead Source')\n",
    "dummy = dummy.drop(['Lead Source_Others'],1)\n",
    "leads = pd.concat([leads,dummy],axis=1)"
   ]
  },
  {
   "cell_type": "code",
   "execution_count": 88,
   "id": "1dc0ec92",
   "metadata": {},
   "outputs": [],
   "source": [
    "dummy = pd.get_dummies(leads['Last Activity'], prefix = 'Last Activity')\n",
    "dummy = dummy.drop(['Last Activity_Others'],1)\n",
    "leads = pd.concat([leads,dummy],axis=1)"
   ]
  },
  {
   "cell_type": "code",
   "execution_count": 89,
   "id": "8559ea32",
   "metadata": {},
   "outputs": [],
   "source": [
    "dummy = pd.get_dummies(leads['Last Notable Activity'], prefix = 'Last Notable Activity')\n",
    "dummy = dummy.drop(['Last Notable Activity_Other_Notable_activity'],1)\n",
    "leads = pd.concat([leads,dummy],axis=1)"
   ]
  },
  {
   "cell_type": "code",
   "execution_count": 90,
   "id": "c08da213",
   "metadata": {},
   "outputs": [],
   "source": [
    "dummy = pd.get_dummies(leads['Tags'], prefix = 'Tags')\n",
    "dummy = dummy.drop(['Tags_Not Specified'],1)\n",
    "leads = pd.concat([leads,dummy],axis=1)"
   ]
  },
  {
   "cell_type": "code",
   "execution_count": 91,
   "id": "05575136",
   "metadata": {},
   "outputs": [],
   "source": [
    "#Now we can drop original columns after dummy variable creation\n",
    "\n",
    "leads.drop(cat_cols,1,inplace=True)"
   ]
  },
  {
   "cell_type": "code",
   "execution_count": 92,
   "id": "59719710",
   "metadata": {},
   "outputs": [
    {
     "data": {
      "text/html": [
       "<div>\n",
       "<style scoped>\n",
       "    .dataframe tbody tr th:only-of-type {\n",
       "        vertical-align: middle;\n",
       "    }\n",
       "\n",
       "    .dataframe tbody tr th {\n",
       "        vertical-align: top;\n",
       "    }\n",
       "\n",
       "    .dataframe thead th {\n",
       "        text-align: right;\n",
       "    }\n",
       "</style>\n",
       "<table border=\"1\" class=\"dataframe\">\n",
       "  <thead>\n",
       "    <tr style=\"text-align: right;\">\n",
       "      <th></th>\n",
       "      <th>Converted</th>\n",
       "      <th>TotalVisits</th>\n",
       "      <th>Total Time Spent on Website</th>\n",
       "      <th>Page Views Per Visit</th>\n",
       "      <th>Lead Origin_Landing Page Submission</th>\n",
       "      <th>Lead Origin_Lead Add Form</th>\n",
       "      <th>Lead Origin_Lead Import</th>\n",
       "      <th>What is your current occupation_Housewife</th>\n",
       "      <th>What is your current occupation_Other</th>\n",
       "      <th>What is your current occupation_Student</th>\n",
       "      <th>...</th>\n",
       "      <th>Last Notable Activity_Olark Chat Conversation</th>\n",
       "      <th>Last Notable Activity_Page Visited on Website</th>\n",
       "      <th>Last Notable Activity_SMS Sent</th>\n",
       "      <th>Tags_Busy</th>\n",
       "      <th>Tags_Closed by Horizzon</th>\n",
       "      <th>Tags_Interested in other courses</th>\n",
       "      <th>Tags_Lost to EINS</th>\n",
       "      <th>Tags_Other_Tags</th>\n",
       "      <th>Tags_Ringing</th>\n",
       "      <th>Tags_Will revert after reading the email</th>\n",
       "    </tr>\n",
       "  </thead>\n",
       "  <tbody>\n",
       "    <tr>\n",
       "      <th>0</th>\n",
       "      <td>0</td>\n",
       "      <td>0.0</td>\n",
       "      <td>0</td>\n",
       "      <td>0.0</td>\n",
       "      <td>0</td>\n",
       "      <td>0</td>\n",
       "      <td>0</td>\n",
       "      <td>0</td>\n",
       "      <td>0</td>\n",
       "      <td>0</td>\n",
       "      <td>...</td>\n",
       "      <td>0</td>\n",
       "      <td>0</td>\n",
       "      <td>0</td>\n",
       "      <td>0</td>\n",
       "      <td>0</td>\n",
       "      <td>1</td>\n",
       "      <td>0</td>\n",
       "      <td>0</td>\n",
       "      <td>0</td>\n",
       "      <td>0</td>\n",
       "    </tr>\n",
       "    <tr>\n",
       "      <th>1</th>\n",
       "      <td>0</td>\n",
       "      <td>5.0</td>\n",
       "      <td>674</td>\n",
       "      <td>2.5</td>\n",
       "      <td>0</td>\n",
       "      <td>0</td>\n",
       "      <td>0</td>\n",
       "      <td>0</td>\n",
       "      <td>0</td>\n",
       "      <td>0</td>\n",
       "      <td>...</td>\n",
       "      <td>0</td>\n",
       "      <td>0</td>\n",
       "      <td>0</td>\n",
       "      <td>0</td>\n",
       "      <td>0</td>\n",
       "      <td>0</td>\n",
       "      <td>0</td>\n",
       "      <td>0</td>\n",
       "      <td>1</td>\n",
       "      <td>0</td>\n",
       "    </tr>\n",
       "    <tr>\n",
       "      <th>2</th>\n",
       "      <td>1</td>\n",
       "      <td>2.0</td>\n",
       "      <td>1532</td>\n",
       "      <td>2.0</td>\n",
       "      <td>1</td>\n",
       "      <td>0</td>\n",
       "      <td>0</td>\n",
       "      <td>0</td>\n",
       "      <td>0</td>\n",
       "      <td>1</td>\n",
       "      <td>...</td>\n",
       "      <td>0</td>\n",
       "      <td>0</td>\n",
       "      <td>0</td>\n",
       "      <td>0</td>\n",
       "      <td>0</td>\n",
       "      <td>0</td>\n",
       "      <td>0</td>\n",
       "      <td>0</td>\n",
       "      <td>0</td>\n",
       "      <td>1</td>\n",
       "    </tr>\n",
       "    <tr>\n",
       "      <th>3</th>\n",
       "      <td>0</td>\n",
       "      <td>1.0</td>\n",
       "      <td>305</td>\n",
       "      <td>1.0</td>\n",
       "      <td>1</td>\n",
       "      <td>0</td>\n",
       "      <td>0</td>\n",
       "      <td>0</td>\n",
       "      <td>0</td>\n",
       "      <td>0</td>\n",
       "      <td>...</td>\n",
       "      <td>0</td>\n",
       "      <td>0</td>\n",
       "      <td>0</td>\n",
       "      <td>0</td>\n",
       "      <td>0</td>\n",
       "      <td>0</td>\n",
       "      <td>0</td>\n",
       "      <td>0</td>\n",
       "      <td>1</td>\n",
       "      <td>0</td>\n",
       "    </tr>\n",
       "    <tr>\n",
       "      <th>4</th>\n",
       "      <td>1</td>\n",
       "      <td>2.0</td>\n",
       "      <td>1428</td>\n",
       "      <td>1.0</td>\n",
       "      <td>1</td>\n",
       "      <td>0</td>\n",
       "      <td>0</td>\n",
       "      <td>0</td>\n",
       "      <td>0</td>\n",
       "      <td>0</td>\n",
       "      <td>...</td>\n",
       "      <td>0</td>\n",
       "      <td>0</td>\n",
       "      <td>0</td>\n",
       "      <td>0</td>\n",
       "      <td>0</td>\n",
       "      <td>0</td>\n",
       "      <td>0</td>\n",
       "      <td>0</td>\n",
       "      <td>0</td>\n",
       "      <td>1</td>\n",
       "    </tr>\n",
       "  </tbody>\n",
       "</table>\n",
       "<p>5 rows × 52 columns</p>\n",
       "</div>"
      ],
      "text/plain": [
       "   Converted  TotalVisits  Total Time Spent on Website  Page Views Per Visit  \\\n",
       "0          0          0.0                            0                   0.0   \n",
       "1          0          5.0                          674                   2.5   \n",
       "2          1          2.0                         1532                   2.0   \n",
       "3          0          1.0                          305                   1.0   \n",
       "4          1          2.0                         1428                   1.0   \n",
       "\n",
       "   Lead Origin_Landing Page Submission  Lead Origin_Lead Add Form  \\\n",
       "0                                    0                          0   \n",
       "1                                    0                          0   \n",
       "2                                    1                          0   \n",
       "3                                    1                          0   \n",
       "4                                    1                          0   \n",
       "\n",
       "   Lead Origin_Lead Import  What is your current occupation_Housewife  \\\n",
       "0                        0                                          0   \n",
       "1                        0                                          0   \n",
       "2                        0                                          0   \n",
       "3                        0                                          0   \n",
       "4                        0                                          0   \n",
       "\n",
       "   What is your current occupation_Other  \\\n",
       "0                                      0   \n",
       "1                                      0   \n",
       "2                                      0   \n",
       "3                                      0   \n",
       "4                                      0   \n",
       "\n",
       "   What is your current occupation_Student  ...  \\\n",
       "0                                        0  ...   \n",
       "1                                        0  ...   \n",
       "2                                        1  ...   \n",
       "3                                        0  ...   \n",
       "4                                        0  ...   \n",
       "\n",
       "   Last Notable Activity_Olark Chat Conversation  \\\n",
       "0                                              0   \n",
       "1                                              0   \n",
       "2                                              0   \n",
       "3                                              0   \n",
       "4                                              0   \n",
       "\n",
       "   Last Notable Activity_Page Visited on Website  \\\n",
       "0                                              0   \n",
       "1                                              0   \n",
       "2                                              0   \n",
       "3                                              0   \n",
       "4                                              0   \n",
       "\n",
       "   Last Notable Activity_SMS Sent  Tags_Busy  Tags_Closed by Horizzon  \\\n",
       "0                               0          0                        0   \n",
       "1                               0          0                        0   \n",
       "2                               0          0                        0   \n",
       "3                               0          0                        0   \n",
       "4                               0          0                        0   \n",
       "\n",
       "   Tags_Interested in other courses  Tags_Lost to EINS  Tags_Other_Tags  \\\n",
       "0                                 1                  0                0   \n",
       "1                                 0                  0                0   \n",
       "2                                 0                  0                0   \n",
       "3                                 0                  0                0   \n",
       "4                                 0                  0                0   \n",
       "\n",
       "   Tags_Ringing  Tags_Will revert after reading the email  \n",
       "0             0                                         0  \n",
       "1             1                                         0  \n",
       "2             0                                         1  \n",
       "3             1                                         0  \n",
       "4             0                                         1  \n",
       "\n",
       "[5 rows x 52 columns]"
      ]
     },
     "execution_count": 92,
     "metadata": {},
     "output_type": "execute_result"
    }
   ],
   "source": [
    "leads.head()"
   ]
  },
  {
   "cell_type": "markdown",
   "id": "4a037ce0",
   "metadata": {},
   "source": [
    "### Train-Test Split and Logistic Regression Model Building:"
   ]
  },
  {
   "cell_type": "code",
   "execution_count": 93,
   "id": "52e75f22",
   "metadata": {},
   "outputs": [
    {
     "data": {
      "text/plain": [
       "0    0\n",
       "1    0\n",
       "2    1\n",
       "3    0\n",
       "4    1\n",
       "Name: Converted, dtype: int64"
      ]
     },
     "execution_count": 93,
     "metadata": {},
     "output_type": "execute_result"
    }
   ],
   "source": [
    "from sklearn.model_selection import train_test_split\n",
    "\n",
    "y = leads['Converted']\n",
    "\n",
    "y.head()"
   ]
  },
  {
   "cell_type": "code",
   "execution_count": 94,
   "id": "69a98347",
   "metadata": {},
   "outputs": [],
   "source": [
    "X = leads.drop('Converted',axis=1)"
   ]
  },
  {
   "cell_type": "code",
   "execution_count": 95,
   "id": "bf26cc9d",
   "metadata": {},
   "outputs": [
    {
     "data": {
      "text/html": [
       "<div>\n",
       "<style scoped>\n",
       "    .dataframe tbody tr th:only-of-type {\n",
       "        vertical-align: middle;\n",
       "    }\n",
       "\n",
       "    .dataframe tbody tr th {\n",
       "        vertical-align: top;\n",
       "    }\n",
       "\n",
       "    .dataframe thead th {\n",
       "        text-align: right;\n",
       "    }\n",
       "</style>\n",
       "<table border=\"1\" class=\"dataframe\">\n",
       "  <thead>\n",
       "    <tr style=\"text-align: right;\">\n",
       "      <th></th>\n",
       "      <th>TotalVisits</th>\n",
       "      <th>Total Time Spent on Website</th>\n",
       "      <th>Page Views Per Visit</th>\n",
       "      <th>Lead Origin_Landing Page Submission</th>\n",
       "      <th>Lead Origin_Lead Add Form</th>\n",
       "      <th>Lead Origin_Lead Import</th>\n",
       "      <th>What is your current occupation_Housewife</th>\n",
       "      <th>What is your current occupation_Other</th>\n",
       "      <th>What is your current occupation_Student</th>\n",
       "      <th>What is your current occupation_Unemployed</th>\n",
       "      <th>...</th>\n",
       "      <th>Last Notable Activity_Olark Chat Conversation</th>\n",
       "      <th>Last Notable Activity_Page Visited on Website</th>\n",
       "      <th>Last Notable Activity_SMS Sent</th>\n",
       "      <th>Tags_Busy</th>\n",
       "      <th>Tags_Closed by Horizzon</th>\n",
       "      <th>Tags_Interested in other courses</th>\n",
       "      <th>Tags_Lost to EINS</th>\n",
       "      <th>Tags_Other_Tags</th>\n",
       "      <th>Tags_Ringing</th>\n",
       "      <th>Tags_Will revert after reading the email</th>\n",
       "    </tr>\n",
       "  </thead>\n",
       "  <tbody>\n",
       "    <tr>\n",
       "      <th>0</th>\n",
       "      <td>0.0</td>\n",
       "      <td>0</td>\n",
       "      <td>0.0</td>\n",
       "      <td>0</td>\n",
       "      <td>0</td>\n",
       "      <td>0</td>\n",
       "      <td>0</td>\n",
       "      <td>0</td>\n",
       "      <td>0</td>\n",
       "      <td>1</td>\n",
       "      <td>...</td>\n",
       "      <td>0</td>\n",
       "      <td>0</td>\n",
       "      <td>0</td>\n",
       "      <td>0</td>\n",
       "      <td>0</td>\n",
       "      <td>1</td>\n",
       "      <td>0</td>\n",
       "      <td>0</td>\n",
       "      <td>0</td>\n",
       "      <td>0</td>\n",
       "    </tr>\n",
       "    <tr>\n",
       "      <th>1</th>\n",
       "      <td>5.0</td>\n",
       "      <td>674</td>\n",
       "      <td>2.5</td>\n",
       "      <td>0</td>\n",
       "      <td>0</td>\n",
       "      <td>0</td>\n",
       "      <td>0</td>\n",
       "      <td>0</td>\n",
       "      <td>0</td>\n",
       "      <td>1</td>\n",
       "      <td>...</td>\n",
       "      <td>0</td>\n",
       "      <td>0</td>\n",
       "      <td>0</td>\n",
       "      <td>0</td>\n",
       "      <td>0</td>\n",
       "      <td>0</td>\n",
       "      <td>0</td>\n",
       "      <td>0</td>\n",
       "      <td>1</td>\n",
       "      <td>0</td>\n",
       "    </tr>\n",
       "    <tr>\n",
       "      <th>2</th>\n",
       "      <td>2.0</td>\n",
       "      <td>1532</td>\n",
       "      <td>2.0</td>\n",
       "      <td>1</td>\n",
       "      <td>0</td>\n",
       "      <td>0</td>\n",
       "      <td>0</td>\n",
       "      <td>0</td>\n",
       "      <td>1</td>\n",
       "      <td>0</td>\n",
       "      <td>...</td>\n",
       "      <td>0</td>\n",
       "      <td>0</td>\n",
       "      <td>0</td>\n",
       "      <td>0</td>\n",
       "      <td>0</td>\n",
       "      <td>0</td>\n",
       "      <td>0</td>\n",
       "      <td>0</td>\n",
       "      <td>0</td>\n",
       "      <td>1</td>\n",
       "    </tr>\n",
       "    <tr>\n",
       "      <th>3</th>\n",
       "      <td>1.0</td>\n",
       "      <td>305</td>\n",
       "      <td>1.0</td>\n",
       "      <td>1</td>\n",
       "      <td>0</td>\n",
       "      <td>0</td>\n",
       "      <td>0</td>\n",
       "      <td>0</td>\n",
       "      <td>0</td>\n",
       "      <td>1</td>\n",
       "      <td>...</td>\n",
       "      <td>0</td>\n",
       "      <td>0</td>\n",
       "      <td>0</td>\n",
       "      <td>0</td>\n",
       "      <td>0</td>\n",
       "      <td>0</td>\n",
       "      <td>0</td>\n",
       "      <td>0</td>\n",
       "      <td>1</td>\n",
       "      <td>0</td>\n",
       "    </tr>\n",
       "    <tr>\n",
       "      <th>4</th>\n",
       "      <td>2.0</td>\n",
       "      <td>1428</td>\n",
       "      <td>1.0</td>\n",
       "      <td>1</td>\n",
       "      <td>0</td>\n",
       "      <td>0</td>\n",
       "      <td>0</td>\n",
       "      <td>0</td>\n",
       "      <td>0</td>\n",
       "      <td>1</td>\n",
       "      <td>...</td>\n",
       "      <td>0</td>\n",
       "      <td>0</td>\n",
       "      <td>0</td>\n",
       "      <td>0</td>\n",
       "      <td>0</td>\n",
       "      <td>0</td>\n",
       "      <td>0</td>\n",
       "      <td>0</td>\n",
       "      <td>0</td>\n",
       "      <td>1</td>\n",
       "    </tr>\n",
       "  </tbody>\n",
       "</table>\n",
       "<p>5 rows × 51 columns</p>\n",
       "</div>"
      ],
      "text/plain": [
       "   TotalVisits  Total Time Spent on Website  Page Views Per Visit  \\\n",
       "0          0.0                            0                   0.0   \n",
       "1          5.0                          674                   2.5   \n",
       "2          2.0                         1532                   2.0   \n",
       "3          1.0                          305                   1.0   \n",
       "4          2.0                         1428                   1.0   \n",
       "\n",
       "   Lead Origin_Landing Page Submission  Lead Origin_Lead Add Form  \\\n",
       "0                                    0                          0   \n",
       "1                                    0                          0   \n",
       "2                                    1                          0   \n",
       "3                                    1                          0   \n",
       "4                                    1                          0   \n",
       "\n",
       "   Lead Origin_Lead Import  What is your current occupation_Housewife  \\\n",
       "0                        0                                          0   \n",
       "1                        0                                          0   \n",
       "2                        0                                          0   \n",
       "3                        0                                          0   \n",
       "4                        0                                          0   \n",
       "\n",
       "   What is your current occupation_Other  \\\n",
       "0                                      0   \n",
       "1                                      0   \n",
       "2                                      0   \n",
       "3                                      0   \n",
       "4                                      0   \n",
       "\n",
       "   What is your current occupation_Student  \\\n",
       "0                                        0   \n",
       "1                                        0   \n",
       "2                                        1   \n",
       "3                                        0   \n",
       "4                                        0   \n",
       "\n",
       "   What is your current occupation_Unemployed  ...  \\\n",
       "0                                           1  ...   \n",
       "1                                           1  ...   \n",
       "2                                           0  ...   \n",
       "3                                           1  ...   \n",
       "4                                           1  ...   \n",
       "\n",
       "   Last Notable Activity_Olark Chat Conversation  \\\n",
       "0                                              0   \n",
       "1                                              0   \n",
       "2                                              0   \n",
       "3                                              0   \n",
       "4                                              0   \n",
       "\n",
       "   Last Notable Activity_Page Visited on Website  \\\n",
       "0                                              0   \n",
       "1                                              0   \n",
       "2                                              0   \n",
       "3                                              0   \n",
       "4                                              0   \n",
       "\n",
       "   Last Notable Activity_SMS Sent  Tags_Busy  Tags_Closed by Horizzon  \\\n",
       "0                               0          0                        0   \n",
       "1                               0          0                        0   \n",
       "2                               0          0                        0   \n",
       "3                               0          0                        0   \n",
       "4                               0          0                        0   \n",
       "\n",
       "   Tags_Interested in other courses  Tags_Lost to EINS  Tags_Other_Tags  \\\n",
       "0                                 1                  0                0   \n",
       "1                                 0                  0                0   \n",
       "2                                 0                  0                0   \n",
       "3                                 0                  0                0   \n",
       "4                                 0                  0                0   \n",
       "\n",
       "   Tags_Ringing  Tags_Will revert after reading the email  \n",
       "0             0                                         0  \n",
       "1             1                                         0  \n",
       "2             0                                         1  \n",
       "3             1                                         0  \n",
       "4             0                                         1  \n",
       "\n",
       "[5 rows x 51 columns]"
      ]
     },
     "execution_count": 95,
     "metadata": {},
     "output_type": "execute_result"
    }
   ],
   "source": [
    "X.head()"
   ]
  },
  {
   "cell_type": "code",
   "execution_count": 96,
   "id": "fcfa7515",
   "metadata": {},
   "outputs": [],
   "source": [
    "#Splitting the data into train and test\n",
    "X_train,X_test,y_train,y_test = train_test_split(X,y,train_size=0.7,test_size=0.3,random_state=100)"
   ]
  },
  {
   "cell_type": "code",
   "execution_count": 97,
   "id": "338dc41b",
   "metadata": {},
   "outputs": [
    {
     "name": "stdout",
     "output_type": "stream",
     "text": [
      "<class 'pandas.core.frame.DataFrame'>\n",
      "Int64Index: 6267 entries, 9196 to 5825\n",
      "Data columns (total 51 columns):\n",
      " #   Column                                                Non-Null Count  Dtype  \n",
      "---  ------                                                --------------  -----  \n",
      " 0   TotalVisits                                           6267 non-null   float64\n",
      " 1   Total Time Spent on Website                           6267 non-null   int64  \n",
      " 2   Page Views Per Visit                                  6267 non-null   float64\n",
      " 3   Lead Origin_Landing Page Submission                   6267 non-null   uint8  \n",
      " 4   Lead Origin_Lead Add Form                             6267 non-null   uint8  \n",
      " 5   Lead Origin_Lead Import                               6267 non-null   uint8  \n",
      " 6   What is your current occupation_Housewife             6267 non-null   uint8  \n",
      " 7   What is your current occupation_Other                 6267 non-null   uint8  \n",
      " 8   What is your current occupation_Student               6267 non-null   uint8  \n",
      " 9   What is your current occupation_Unemployed            6267 non-null   uint8  \n",
      " 10  What is your current occupation_Working Professional  6267 non-null   uint8  \n",
      " 11  Specialization_Banking, Investment And Insurance      6267 non-null   uint8  \n",
      " 12  Specialization_Business Administration                6267 non-null   uint8  \n",
      " 13  Specialization_E-Business                             6267 non-null   uint8  \n",
      " 14  Specialization_E-COMMERCE                             6267 non-null   uint8  \n",
      " 15  Specialization_International Business                 6267 non-null   uint8  \n",
      " 16  Specialization_Management_Specializations             6267 non-null   uint8  \n",
      " 17  Specialization_Media and Advertising                  6267 non-null   uint8  \n",
      " 18  Specialization_Rural and Agribusiness                 6267 non-null   uint8  \n",
      " 19  Specialization_Services Excellence                    6267 non-null   uint8  \n",
      " 20  Specialization_Travel and Tourism                     6267 non-null   uint8  \n",
      " 21  Lead Source_Direct Traffic                            6267 non-null   uint8  \n",
      " 22  Lead Source_Google                                    6267 non-null   uint8  \n",
      " 23  Lead Source_Live Chat                                 6267 non-null   uint8  \n",
      " 24  Lead Source_Olark Chat                                6267 non-null   uint8  \n",
      " 25  Lead Source_Organic Search                            6267 non-null   uint8  \n",
      " 26  Lead Source_Reference                                 6267 non-null   uint8  \n",
      " 27  Lead Source_Referral Sites                            6267 non-null   uint8  \n",
      " 28  Lead Source_Social Media                              6267 non-null   uint8  \n",
      " 29  Lead Source_Welingak Website                          6267 non-null   uint8  \n",
      " 30  Last Activity_Converted to Lead                       6267 non-null   uint8  \n",
      " 31  Last Activity_Email Bounced                           6267 non-null   uint8  \n",
      " 32  Last Activity_Email Link Clicked                      6267 non-null   uint8  \n",
      " 33  Last Activity_Email Opened                            6267 non-null   uint8  \n",
      " 34  Last Activity_Form Submitted on Website               6267 non-null   uint8  \n",
      " 35  Last Activity_Olark Chat Conversation                 6267 non-null   uint8  \n",
      " 36  Last Activity_Page Visited on Website                 6267 non-null   uint8  \n",
      " 37  Last Activity_SMS Sent                                6267 non-null   uint8  \n",
      " 38  Last Notable Activity_Email Link Clicked              6267 non-null   uint8  \n",
      " 39  Last Notable Activity_Email Opened                    6267 non-null   uint8  \n",
      " 40  Last Notable Activity_Modified                        6267 non-null   uint8  \n",
      " 41  Last Notable Activity_Olark Chat Conversation         6267 non-null   uint8  \n",
      " 42  Last Notable Activity_Page Visited on Website         6267 non-null   uint8  \n",
      " 43  Last Notable Activity_SMS Sent                        6267 non-null   uint8  \n",
      " 44  Tags_Busy                                             6267 non-null   uint8  \n",
      " 45  Tags_Closed by Horizzon                               6267 non-null   uint8  \n",
      " 46  Tags_Interested in other courses                      6267 non-null   uint8  \n",
      " 47  Tags_Lost to EINS                                     6267 non-null   uint8  \n",
      " 48  Tags_Other_Tags                                       6267 non-null   uint8  \n",
      " 49  Tags_Ringing                                          6267 non-null   uint8  \n",
      " 50  Tags_Will revert after reading the email              6267 non-null   uint8  \n",
      "dtypes: float64(2), int64(1), uint8(48)\n",
      "memory usage: 489.6 KB\n"
     ]
    }
   ],
   "source": [
    "X_train.info()"
   ]
  },
  {
   "cell_type": "markdown",
   "id": "d22efa0f",
   "metadata": {},
   "source": [
    "### Scaling the Data:"
   ]
  },
  {
   "cell_type": "code",
   "execution_count": 98,
   "id": "79bd0316",
   "metadata": {},
   "outputs": [
    {
     "data": {
      "text/html": [
       "<div>\n",
       "<style scoped>\n",
       "    .dataframe tbody tr th:only-of-type {\n",
       "        vertical-align: middle;\n",
       "    }\n",
       "\n",
       "    .dataframe tbody tr th {\n",
       "        vertical-align: top;\n",
       "    }\n",
       "\n",
       "    .dataframe thead th {\n",
       "        text-align: right;\n",
       "    }\n",
       "</style>\n",
       "<table border=\"1\" class=\"dataframe\">\n",
       "  <thead>\n",
       "    <tr style=\"text-align: right;\">\n",
       "      <th></th>\n",
       "      <th>TotalVisits</th>\n",
       "      <th>Total Time Spent on Website</th>\n",
       "      <th>Page Views Per Visit</th>\n",
       "      <th>Lead Origin_Landing Page Submission</th>\n",
       "      <th>Lead Origin_Lead Add Form</th>\n",
       "      <th>Lead Origin_Lead Import</th>\n",
       "      <th>What is your current occupation_Housewife</th>\n",
       "      <th>What is your current occupation_Other</th>\n",
       "      <th>What is your current occupation_Student</th>\n",
       "      <th>What is your current occupation_Unemployed</th>\n",
       "      <th>...</th>\n",
       "      <th>Last Notable Activity_Olark Chat Conversation</th>\n",
       "      <th>Last Notable Activity_Page Visited on Website</th>\n",
       "      <th>Last Notable Activity_SMS Sent</th>\n",
       "      <th>Tags_Busy</th>\n",
       "      <th>Tags_Closed by Horizzon</th>\n",
       "      <th>Tags_Interested in other courses</th>\n",
       "      <th>Tags_Lost to EINS</th>\n",
       "      <th>Tags_Other_Tags</th>\n",
       "      <th>Tags_Ringing</th>\n",
       "      <th>Tags_Will revert after reading the email</th>\n",
       "    </tr>\n",
       "  </thead>\n",
       "  <tbody>\n",
       "    <tr>\n",
       "      <th>9196</th>\n",
       "      <td>0.668862</td>\n",
       "      <td>1.848117</td>\n",
       "      <td>1.455819</td>\n",
       "      <td>1</td>\n",
       "      <td>0</td>\n",
       "      <td>0</td>\n",
       "      <td>0</td>\n",
       "      <td>0</td>\n",
       "      <td>0</td>\n",
       "      <td>1</td>\n",
       "      <td>...</td>\n",
       "      <td>0</td>\n",
       "      <td>0</td>\n",
       "      <td>1</td>\n",
       "      <td>0</td>\n",
       "      <td>0</td>\n",
       "      <td>0</td>\n",
       "      <td>0</td>\n",
       "      <td>0</td>\n",
       "      <td>1</td>\n",
       "      <td>0</td>\n",
       "    </tr>\n",
       "    <tr>\n",
       "      <th>4696</th>\n",
       "      <td>-0.030697</td>\n",
       "      <td>-0.037832</td>\n",
       "      <td>0.399961</td>\n",
       "      <td>1</td>\n",
       "      <td>0</td>\n",
       "      <td>0</td>\n",
       "      <td>0</td>\n",
       "      <td>0</td>\n",
       "      <td>0</td>\n",
       "      <td>1</td>\n",
       "      <td>...</td>\n",
       "      <td>0</td>\n",
       "      <td>0</td>\n",
       "      <td>1</td>\n",
       "      <td>0</td>\n",
       "      <td>0</td>\n",
       "      <td>0</td>\n",
       "      <td>0</td>\n",
       "      <td>0</td>\n",
       "      <td>1</td>\n",
       "      <td>0</td>\n",
       "    </tr>\n",
       "    <tr>\n",
       "      <th>3274</th>\n",
       "      <td>0.319082</td>\n",
       "      <td>-0.642138</td>\n",
       "      <td>-0.127967</td>\n",
       "      <td>1</td>\n",
       "      <td>0</td>\n",
       "      <td>0</td>\n",
       "      <td>0</td>\n",
       "      <td>0</td>\n",
       "      <td>0</td>\n",
       "      <td>1</td>\n",
       "      <td>...</td>\n",
       "      <td>0</td>\n",
       "      <td>0</td>\n",
       "      <td>1</td>\n",
       "      <td>0</td>\n",
       "      <td>0</td>\n",
       "      <td>0</td>\n",
       "      <td>0</td>\n",
       "      <td>0</td>\n",
       "      <td>0</td>\n",
       "      <td>0</td>\n",
       "    </tr>\n",
       "    <tr>\n",
       "      <th>2164</th>\n",
       "      <td>-0.380477</td>\n",
       "      <td>-0.154676</td>\n",
       "      <td>-0.127967</td>\n",
       "      <td>0</td>\n",
       "      <td>0</td>\n",
       "      <td>0</td>\n",
       "      <td>0</td>\n",
       "      <td>0</td>\n",
       "      <td>0</td>\n",
       "      <td>1</td>\n",
       "      <td>...</td>\n",
       "      <td>0</td>\n",
       "      <td>0</td>\n",
       "      <td>0</td>\n",
       "      <td>0</td>\n",
       "      <td>0</td>\n",
       "      <td>1</td>\n",
       "      <td>0</td>\n",
       "      <td>0</td>\n",
       "      <td>0</td>\n",
       "      <td>0</td>\n",
       "    </tr>\n",
       "    <tr>\n",
       "      <th>1667</th>\n",
       "      <td>0.319082</td>\n",
       "      <td>1.258415</td>\n",
       "      <td>-0.481679</td>\n",
       "      <td>0</td>\n",
       "      <td>0</td>\n",
       "      <td>0</td>\n",
       "      <td>0</td>\n",
       "      <td>0</td>\n",
       "      <td>0</td>\n",
       "      <td>1</td>\n",
       "      <td>...</td>\n",
       "      <td>0</td>\n",
       "      <td>0</td>\n",
       "      <td>0</td>\n",
       "      <td>0</td>\n",
       "      <td>0</td>\n",
       "      <td>0</td>\n",
       "      <td>0</td>\n",
       "      <td>0</td>\n",
       "      <td>0</td>\n",
       "      <td>1</td>\n",
       "    </tr>\n",
       "  </tbody>\n",
       "</table>\n",
       "<p>5 rows × 51 columns</p>\n",
       "</div>"
      ],
      "text/plain": [
       "      TotalVisits  Total Time Spent on Website  Page Views Per Visit  \\\n",
       "9196     0.668862                     1.848117              1.455819   \n",
       "4696    -0.030697                    -0.037832              0.399961   \n",
       "3274     0.319082                    -0.642138             -0.127967   \n",
       "2164    -0.380477                    -0.154676             -0.127967   \n",
       "1667     0.319082                     1.258415             -0.481679   \n",
       "\n",
       "      Lead Origin_Landing Page Submission  Lead Origin_Lead Add Form  \\\n",
       "9196                                    1                          0   \n",
       "4696                                    1                          0   \n",
       "3274                                    1                          0   \n",
       "2164                                    0                          0   \n",
       "1667                                    0                          0   \n",
       "\n",
       "      Lead Origin_Lead Import  What is your current occupation_Housewife  \\\n",
       "9196                        0                                          0   \n",
       "4696                        0                                          0   \n",
       "3274                        0                                          0   \n",
       "2164                        0                                          0   \n",
       "1667                        0                                          0   \n",
       "\n",
       "      What is your current occupation_Other  \\\n",
       "9196                                      0   \n",
       "4696                                      0   \n",
       "3274                                      0   \n",
       "2164                                      0   \n",
       "1667                                      0   \n",
       "\n",
       "      What is your current occupation_Student  \\\n",
       "9196                                        0   \n",
       "4696                                        0   \n",
       "3274                                        0   \n",
       "2164                                        0   \n",
       "1667                                        0   \n",
       "\n",
       "      What is your current occupation_Unemployed  ...  \\\n",
       "9196                                           1  ...   \n",
       "4696                                           1  ...   \n",
       "3274                                           1  ...   \n",
       "2164                                           1  ...   \n",
       "1667                                           1  ...   \n",
       "\n",
       "      Last Notable Activity_Olark Chat Conversation  \\\n",
       "9196                                              0   \n",
       "4696                                              0   \n",
       "3274                                              0   \n",
       "2164                                              0   \n",
       "1667                                              0   \n",
       "\n",
       "      Last Notable Activity_Page Visited on Website  \\\n",
       "9196                                              0   \n",
       "4696                                              0   \n",
       "3274                                              0   \n",
       "2164                                              0   \n",
       "1667                                              0   \n",
       "\n",
       "      Last Notable Activity_SMS Sent  Tags_Busy  Tags_Closed by Horizzon  \\\n",
       "9196                               1          0                        0   \n",
       "4696                               1          0                        0   \n",
       "3274                               1          0                        0   \n",
       "2164                               0          0                        0   \n",
       "1667                               0          0                        0   \n",
       "\n",
       "      Tags_Interested in other courses  Tags_Lost to EINS  Tags_Other_Tags  \\\n",
       "9196                                 0                  0                0   \n",
       "4696                                 0                  0                0   \n",
       "3274                                 0                  0                0   \n",
       "2164                                 1                  0                0   \n",
       "1667                                 0                  0                0   \n",
       "\n",
       "      Tags_Ringing  Tags_Will revert after reading the email  \n",
       "9196             1                                         0  \n",
       "4696             1                                         0  \n",
       "3274             0                                         0  \n",
       "2164             0                                         0  \n",
       "1667             0                                         1  \n",
       "\n",
       "[5 rows x 51 columns]"
      ]
     },
     "execution_count": 98,
     "metadata": {},
     "output_type": "execute_result"
    }
   ],
   "source": [
    "#scaling numeric columns \n",
    "\n",
    "from sklearn.preprocessing import StandardScaler\n",
    "\n",
    "scaler = StandardScaler()\n",
    "\n",
    "num_cols = X_train.select_dtypes(include=['float64','int64']).columns\n",
    "\n",
    "X_train[num_cols] = scaler.fit_transform(X_train[num_cols])\n",
    "\n",
    "X_train.head()"
   ]
  },
  {
   "cell_type": "markdown",
   "id": "4956e796",
   "metadata": {},
   "source": [
    "### Model Building using Stats Model & RFE:"
   ]
  },
  {
   "cell_type": "code",
   "execution_count": 99,
   "id": "f1d165cb",
   "metadata": {},
   "outputs": [],
   "source": [
    "import statsmodels.api as sm "
   ]
  },
  {
   "cell_type": "code",
   "execution_count": 100,
   "id": "8901dadf",
   "metadata": {},
   "outputs": [],
   "source": [
    "from sklearn.linear_model import LogisticRegression\n",
    "\n",
    "logreg = LogisticRegression()\n",
    "\n",
    "from sklearn.feature_selection import RFE\n",
    "\n",
    "rfe = RFE(logreg,15)\n",
    "#running RFE with 15 variables as output\n",
    "\n",
    "rfe = rfe.fit(X_train,y_train)"
   ]
  },
  {
   "cell_type": "code",
   "execution_count": 101,
   "id": "b8134408",
   "metadata": {},
   "outputs": [],
   "source": [
    "?rfe"
   ]
  },
  {
   "cell_type": "code",
   "execution_count": 102,
   "id": "43d75ac4",
   "metadata": {},
   "outputs": [
    {
     "data": {
      "text/plain": [
       "array([False,  True, False, False,  True, False, False, False, False,\n",
       "       False, False, False, False, False, False, False, False, False,\n",
       "       False, False, False,  True, False, False, False, False, False,\n",
       "        True, False,  True, False, False, False, False, False, False,\n",
       "       False,  True, False, False,  True,  True, False,  True, False,\n",
       "        True,  True,  True,  True,  True,  True])"
      ]
     },
     "execution_count": 102,
     "metadata": {},
     "output_type": "execute_result"
    }
   ],
   "source": [
    "rfe.support_"
   ]
  },
  {
   "cell_type": "code",
   "execution_count": 103,
   "id": "d2f08ddd",
   "metadata": {},
   "outputs": [
    {
     "data": {
      "text/plain": [
       "[('TotalVisits', False, 25),\n",
       " ('Total Time Spent on Website', True, 1),\n",
       " ('Page Views Per Visit', False, 23),\n",
       " ('Lead Origin_Landing Page Submission', False, 10),\n",
       " ('Lead Origin_Lead Add Form', True, 1),\n",
       " ('Lead Origin_Lead Import', False, 16),\n",
       " ('What is your current occupation_Housewife', False, 28),\n",
       " ('What is your current occupation_Other', False, 31),\n",
       " ('What is your current occupation_Student', False, 22),\n",
       " ('What is your current occupation_Unemployed', False, 20),\n",
       " ('What is your current occupation_Working Professional', False, 8),\n",
       " ('Specialization_Banking, Investment And Insurance', False, 14),\n",
       " ('Specialization_Business Administration', False, 35),\n",
       " ('Specialization_E-Business', False, 32),\n",
       " ('Specialization_E-COMMERCE', False, 21),\n",
       " ('Specialization_International Business', False, 36),\n",
       " ('Specialization_Management_Specializations', False, 33),\n",
       " ('Specialization_Media and Advertising', False, 30),\n",
       " ('Specialization_Rural and Agribusiness', False, 34),\n",
       " ('Specialization_Services Excellence', False, 29),\n",
       " ('Specialization_Travel and Tourism', False, 7),\n",
       " ('Lead Source_Direct Traffic', True, 1),\n",
       " ('Lead Source_Google', False, 3),\n",
       " ('Lead Source_Live Chat', False, 37),\n",
       " ('Lead Source_Olark Chat', False, 27),\n",
       " ('Lead Source_Organic Search', False, 2),\n",
       " ('Lead Source_Reference', False, 13),\n",
       " ('Lead Source_Referral Sites', True, 1),\n",
       " ('Lead Source_Social Media', False, 15),\n",
       " ('Lead Source_Welingak Website', True, 1),\n",
       " ('Last Activity_Converted to Lead', False, 11),\n",
       " ('Last Activity_Email Bounced', False, 5),\n",
       " ('Last Activity_Email Link Clicked', False, 26),\n",
       " ('Last Activity_Email Opened', False, 18),\n",
       " ('Last Activity_Form Submitted on Website', False, 17),\n",
       " ('Last Activity_Olark Chat Conversation', False, 6),\n",
       " ('Last Activity_Page Visited on Website', False, 12),\n",
       " ('Last Activity_SMS Sent', True, 1),\n",
       " ('Last Notable Activity_Email Link Clicked', False, 4),\n",
       " ('Last Notable Activity_Email Opened', False, 19),\n",
       " ('Last Notable Activity_Modified', True, 1),\n",
       " ('Last Notable Activity_Olark Chat Conversation', True, 1),\n",
       " ('Last Notable Activity_Page Visited on Website', False, 24),\n",
       " ('Last Notable Activity_SMS Sent', True, 1),\n",
       " ('Tags_Busy', False, 9),\n",
       " ('Tags_Closed by Horizzon', True, 1),\n",
       " ('Tags_Interested in other courses', True, 1),\n",
       " ('Tags_Lost to EINS', True, 1),\n",
       " ('Tags_Other_Tags', True, 1),\n",
       " ('Tags_Ringing', True, 1),\n",
       " ('Tags_Will revert after reading the email', True, 1)]"
      ]
     },
     "execution_count": 103,
     "metadata": {},
     "output_type": "execute_result"
    }
   ],
   "source": [
    "list(zip(X_train.columns,rfe.support_,rfe.ranking_))"
   ]
  },
  {
   "cell_type": "code",
   "execution_count": 104,
   "id": "f159e7e7",
   "metadata": {},
   "outputs": [
    {
     "data": {
      "text/plain": [
       "Index(['Total Time Spent on Website', 'Lead Origin_Lead Add Form',\n",
       "       'Lead Source_Direct Traffic', 'Lead Source_Referral Sites',\n",
       "       'Lead Source_Welingak Website', 'Last Activity_SMS Sent',\n",
       "       'Last Notable Activity_Modified',\n",
       "       'Last Notable Activity_Olark Chat Conversation',\n",
       "       'Last Notable Activity_SMS Sent', 'Tags_Closed by Horizzon',\n",
       "       'Tags_Interested in other courses', 'Tags_Lost to EINS',\n",
       "       'Tags_Other_Tags', 'Tags_Ringing',\n",
       "       'Tags_Will revert after reading the email'],\n",
       "      dtype='object')"
      ]
     },
     "execution_count": 104,
     "metadata": {},
     "output_type": "execute_result"
    }
   ],
   "source": [
    "#List of RFE supported columns\n",
    "col = X_train.columns[rfe.support_]\n",
    "col"
   ]
  },
  {
   "cell_type": "code",
   "execution_count": 105,
   "id": "19e40c51",
   "metadata": {},
   "outputs": [
    {
     "data": {
      "text/plain": [
       "Index(['TotalVisits', 'Page Views Per Visit',\n",
       "       'Lead Origin_Landing Page Submission', 'Lead Origin_Lead Import',\n",
       "       'What is your current occupation_Housewife',\n",
       "       'What is your current occupation_Other',\n",
       "       'What is your current occupation_Student',\n",
       "       'What is your current occupation_Unemployed',\n",
       "       'What is your current occupation_Working Professional',\n",
       "       'Specialization_Banking, Investment And Insurance',\n",
       "       'Specialization_Business Administration', 'Specialization_E-Business',\n",
       "       'Specialization_E-COMMERCE', 'Specialization_International Business',\n",
       "       'Specialization_Management_Specializations',\n",
       "       'Specialization_Media and Advertising',\n",
       "       'Specialization_Rural and Agribusiness',\n",
       "       'Specialization_Services Excellence',\n",
       "       'Specialization_Travel and Tourism', 'Lead Source_Google',\n",
       "       'Lead Source_Live Chat', 'Lead Source_Olark Chat',\n",
       "       'Lead Source_Organic Search', 'Lead Source_Reference',\n",
       "       'Lead Source_Social Media', 'Last Activity_Converted to Lead',\n",
       "       'Last Activity_Email Bounced', 'Last Activity_Email Link Clicked',\n",
       "       'Last Activity_Email Opened', 'Last Activity_Form Submitted on Website',\n",
       "       'Last Activity_Olark Chat Conversation',\n",
       "       'Last Activity_Page Visited on Website',\n",
       "       'Last Notable Activity_Email Link Clicked',\n",
       "       'Last Notable Activity_Email Opened',\n",
       "       'Last Notable Activity_Page Visited on Website', 'Tags_Busy'],\n",
       "      dtype='object')"
      ]
     },
     "execution_count": 105,
     "metadata": {},
     "output_type": "execute_result"
    }
   ],
   "source": [
    "X_train.columns[~rfe.support_]"
   ]
  },
  {
   "cell_type": "code",
   "execution_count": 106,
   "id": "3f2e6b87",
   "metadata": {},
   "outputs": [
    {
     "data": {
      "text/html": [
       "<table class=\"simpletable\">\n",
       "<caption>Generalized Linear Model Regression Results</caption>\n",
       "<tr>\n",
       "  <th>Dep. Variable:</th>       <td>Converted</td>    <th>  No. Observations:  </th>  <td>  6267</td> \n",
       "</tr>\n",
       "<tr>\n",
       "  <th>Model:</th>                  <td>GLM</td>       <th>  Df Residuals:      </th>  <td>  6251</td> \n",
       "</tr>\n",
       "<tr>\n",
       "  <th>Model Family:</th>        <td>Binomial</td>     <th>  Df Model:          </th>  <td>    15</td> \n",
       "</tr>\n",
       "<tr>\n",
       "  <th>Link Function:</th>         <td>logit</td>      <th>  Scale:             </th> <td>  1.0000</td>\n",
       "</tr>\n",
       "<tr>\n",
       "  <th>Method:</th>                <td>IRLS</td>       <th>  Log-Likelihood:    </th> <td> -1254.7</td>\n",
       "</tr>\n",
       "<tr>\n",
       "  <th>Date:</th>            <td>Wed, 19 Oct 2022</td> <th>  Deviance:          </th> <td>  2509.3</td>\n",
       "</tr>\n",
       "<tr>\n",
       "  <th>Time:</th>                <td>12:24:25</td>     <th>  Pearson chi2:      </th> <td>8.34e+03</td>\n",
       "</tr>\n",
       "<tr>\n",
       "  <th>No. Iterations:</th>          <td>8</td>        <th>                     </th>     <td> </td>   \n",
       "</tr>\n",
       "<tr>\n",
       "  <th>Covariance Type:</th>     <td>nonrobust</td>    <th>                     </th>     <td> </td>   \n",
       "</tr>\n",
       "</table>\n",
       "<table class=\"simpletable\">\n",
       "<tr>\n",
       "                        <td></td>                           <th>coef</th>     <th>std err</th>      <th>z</th>      <th>P>|z|</th>  <th>[0.025</th>    <th>0.975]</th>  \n",
       "</tr>\n",
       "<tr>\n",
       "  <th>const</th>                                         <td>   -1.1899</td> <td>    0.088</td> <td>  -13.480</td> <td> 0.000</td> <td>   -1.363</td> <td>   -1.017</td>\n",
       "</tr>\n",
       "<tr>\n",
       "  <th>Total Time Spent on Website</th>                   <td>    0.8970</td> <td>    0.053</td> <td>   16.999</td> <td> 0.000</td> <td>    0.794</td> <td>    1.000</td>\n",
       "</tr>\n",
       "<tr>\n",
       "  <th>Lead Origin_Lead Add Form</th>                     <td>    1.6712</td> <td>    0.450</td> <td>    3.714</td> <td> 0.000</td> <td>    0.789</td> <td>    2.553</td>\n",
       "</tr>\n",
       "<tr>\n",
       "  <th>Lead Source_Direct Traffic</th>                    <td>   -0.8320</td> <td>    0.129</td> <td>   -6.471</td> <td> 0.000</td> <td>   -1.084</td> <td>   -0.580</td>\n",
       "</tr>\n",
       "<tr>\n",
       "  <th>Lead Source_Referral Sites</th>                    <td>   -0.5284</td> <td>    0.465</td> <td>   -1.138</td> <td> 0.255</td> <td>   -1.439</td> <td>    0.382</td>\n",
       "</tr>\n",
       "<tr>\n",
       "  <th>Lead Source_Welingak Website</th>                  <td>    3.9043</td> <td>    1.110</td> <td>    3.518</td> <td> 0.000</td> <td>    1.729</td> <td>    6.079</td>\n",
       "</tr>\n",
       "<tr>\n",
       "  <th>Last Activity_SMS Sent</th>                        <td>    1.2373</td> <td>    0.223</td> <td>    5.555</td> <td> 0.000</td> <td>    0.801</td> <td>    1.674</td>\n",
       "</tr>\n",
       "<tr>\n",
       "  <th>Last Notable Activity_Modified</th>                <td>   -1.2839</td> <td>    0.150</td> <td>   -8.532</td> <td> 0.000</td> <td>   -1.579</td> <td>   -0.989</td>\n",
       "</tr>\n",
       "<tr>\n",
       "  <th>Last Notable Activity_Olark Chat Conversation</th> <td>   -1.7123</td> <td>    0.490</td> <td>   -3.496</td> <td> 0.000</td> <td>   -2.672</td> <td>   -0.752</td>\n",
       "</tr>\n",
       "<tr>\n",
       "  <th>Last Notable Activity_SMS Sent</th>                <td>    1.0151</td> <td>    0.257</td> <td>    3.943</td> <td> 0.000</td> <td>    0.511</td> <td>    1.520</td>\n",
       "</tr>\n",
       "<tr>\n",
       "  <th>Tags_Closed by Horizzon</th>                       <td>    6.9834</td> <td>    1.019</td> <td>    6.853</td> <td> 0.000</td> <td>    4.986</td> <td>    8.981</td>\n",
       "</tr>\n",
       "<tr>\n",
       "  <th>Tags_Interested in other courses</th>              <td>   -2.1641</td> <td>    0.407</td> <td>   -5.321</td> <td> 0.000</td> <td>   -2.961</td> <td>   -1.367</td>\n",
       "</tr>\n",
       "<tr>\n",
       "  <th>Tags_Lost to EINS</th>                             <td>    5.7302</td> <td>    0.608</td> <td>    9.419</td> <td> 0.000</td> <td>    4.538</td> <td>    6.923</td>\n",
       "</tr>\n",
       "<tr>\n",
       "  <th>Tags_Other_Tags</th>                               <td>   -2.4417</td> <td>    0.210</td> <td>  -11.633</td> <td> 0.000</td> <td>   -2.853</td> <td>   -2.030</td>\n",
       "</tr>\n",
       "<tr>\n",
       "  <th>Tags_Ringing</th>                                  <td>   -3.5858</td> <td>    0.243</td> <td>  -14.752</td> <td> 0.000</td> <td>   -4.062</td> <td>   -3.109</td>\n",
       "</tr>\n",
       "<tr>\n",
       "  <th>Tags_Will revert after reading the email</th>      <td>    4.4263</td> <td>    0.185</td> <td>   23.989</td> <td> 0.000</td> <td>    4.065</td> <td>    4.788</td>\n",
       "</tr>\n",
       "</table>"
      ],
      "text/plain": [
       "<class 'statsmodels.iolib.summary.Summary'>\n",
       "\"\"\"\n",
       "                 Generalized Linear Model Regression Results                  \n",
       "==============================================================================\n",
       "Dep. Variable:              Converted   No. Observations:                 6267\n",
       "Model:                            GLM   Df Residuals:                     6251\n",
       "Model Family:                Binomial   Df Model:                           15\n",
       "Link Function:                  logit   Scale:                          1.0000\n",
       "Method:                          IRLS   Log-Likelihood:                -1254.7\n",
       "Date:                Wed, 19 Oct 2022   Deviance:                       2509.3\n",
       "Time:                        12:24:25   Pearson chi2:                 8.34e+03\n",
       "No. Iterations:                     8                                         \n",
       "Covariance Type:            nonrobust                                         \n",
       "=================================================================================================================\n",
       "                                                    coef    std err          z      P>|z|      [0.025      0.975]\n",
       "-----------------------------------------------------------------------------------------------------------------\n",
       "const                                            -1.1899      0.088    -13.480      0.000      -1.363      -1.017\n",
       "Total Time Spent on Website                       0.8970      0.053     16.999      0.000       0.794       1.000\n",
       "Lead Origin_Lead Add Form                         1.6712      0.450      3.714      0.000       0.789       2.553\n",
       "Lead Source_Direct Traffic                       -0.8320      0.129     -6.471      0.000      -1.084      -0.580\n",
       "Lead Source_Referral Sites                       -0.5284      0.465     -1.138      0.255      -1.439       0.382\n",
       "Lead Source_Welingak Website                      3.9043      1.110      3.518      0.000       1.729       6.079\n",
       "Last Activity_SMS Sent                            1.2373      0.223      5.555      0.000       0.801       1.674\n",
       "Last Notable Activity_Modified                   -1.2839      0.150     -8.532      0.000      -1.579      -0.989\n",
       "Last Notable Activity_Olark Chat Conversation    -1.7123      0.490     -3.496      0.000      -2.672      -0.752\n",
       "Last Notable Activity_SMS Sent                    1.0151      0.257      3.943      0.000       0.511       1.520\n",
       "Tags_Closed by Horizzon                           6.9834      1.019      6.853      0.000       4.986       8.981\n",
       "Tags_Interested in other courses                 -2.1641      0.407     -5.321      0.000      -2.961      -1.367\n",
       "Tags_Lost to EINS                                 5.7302      0.608      9.419      0.000       4.538       6.923\n",
       "Tags_Other_Tags                                  -2.4417      0.210    -11.633      0.000      -2.853      -2.030\n",
       "Tags_Ringing                                     -3.5858      0.243    -14.752      0.000      -4.062      -3.109\n",
       "Tags_Will revert after reading the email          4.4263      0.185     23.989      0.000       4.065       4.788\n",
       "=================================================================================================================\n",
       "\"\"\""
      ]
     },
     "execution_count": 106,
     "metadata": {},
     "output_type": "execute_result"
    }
   ],
   "source": [
    "# Building Model 1\n",
    "\n",
    "X_train_sm = sm.add_constant(X_train[col])\n",
    "logm1 = sm.GLM(y_train,X_train_sm,family = sm.families.Binomial())\n",
    "\n",
    "res = logm1.fit()\n",
    "res.summary()"
   ]
  },
  {
   "cell_type": "code",
   "execution_count": 107,
   "id": "47881852",
   "metadata": {},
   "outputs": [],
   "source": [
    "# so in model 1 we can see that p-value od varibale Lead source_Referral Sites id high, so we can drop it."
   ]
  },
  {
   "cell_type": "code",
   "execution_count": 108,
   "id": "dc5cea88",
   "metadata": {},
   "outputs": [],
   "source": [
    "#Dropping column with high p-value\n",
    "col = col.drop('Lead Source_Referral Sites',1)"
   ]
  },
  {
   "cell_type": "code",
   "execution_count": 109,
   "id": "54b7d975",
   "metadata": {},
   "outputs": [
    {
     "data": {
      "text/html": [
       "<table class=\"simpletable\">\n",
       "<caption>Generalized Linear Model Regression Results</caption>\n",
       "<tr>\n",
       "  <th>Dep. Variable:</th>       <td>Converted</td>    <th>  No. Observations:  </th>  <td>  6267</td> \n",
       "</tr>\n",
       "<tr>\n",
       "  <th>Model:</th>                  <td>GLM</td>       <th>  Df Residuals:      </th>  <td>  6252</td> \n",
       "</tr>\n",
       "<tr>\n",
       "  <th>Model Family:</th>        <td>Binomial</td>     <th>  Df Model:          </th>  <td>    14</td> \n",
       "</tr>\n",
       "<tr>\n",
       "  <th>Link Function:</th>         <td>logit</td>      <th>  Scale:             </th> <td>  1.0000</td>\n",
       "</tr>\n",
       "<tr>\n",
       "  <th>Method:</th>                <td>IRLS</td>       <th>  Log-Likelihood:    </th> <td> -1255.3</td>\n",
       "</tr>\n",
       "<tr>\n",
       "  <th>Date:</th>            <td>Wed, 19 Oct 2022</td> <th>  Deviance:          </th> <td>  2510.7</td>\n",
       "</tr>\n",
       "<tr>\n",
       "  <th>Time:</th>                <td>12:24:25</td>     <th>  Pearson chi2:      </th> <td>8.34e+03</td>\n",
       "</tr>\n",
       "<tr>\n",
       "  <th>No. Iterations:</th>          <td>8</td>        <th>                     </th>     <td> </td>   \n",
       "</tr>\n",
       "<tr>\n",
       "  <th>Covariance Type:</th>     <td>nonrobust</td>    <th>                     </th>     <td> </td>   \n",
       "</tr>\n",
       "</table>\n",
       "<table class=\"simpletable\">\n",
       "<tr>\n",
       "                        <td></td>                           <th>coef</th>     <th>std err</th>      <th>z</th>      <th>P>|z|</th>  <th>[0.025</th>    <th>0.975]</th>  \n",
       "</tr>\n",
       "<tr>\n",
       "  <th>const</th>                                         <td>   -1.2029</td> <td>    0.088</td> <td>  -13.729</td> <td> 0.000</td> <td>   -1.375</td> <td>   -1.031</td>\n",
       "</tr>\n",
       "<tr>\n",
       "  <th>Total Time Spent on Website</th>                   <td>    0.8963</td> <td>    0.053</td> <td>   16.979</td> <td> 0.000</td> <td>    0.793</td> <td>    1.000</td>\n",
       "</tr>\n",
       "<tr>\n",
       "  <th>Lead Origin_Lead Add Form</th>                     <td>    1.6795</td> <td>    0.450</td> <td>    3.735</td> <td> 0.000</td> <td>    0.798</td> <td>    2.561</td>\n",
       "</tr>\n",
       "<tr>\n",
       "  <th>Lead Source_Direct Traffic</th>                    <td>   -0.8224</td> <td>    0.128</td> <td>   -6.409</td> <td> 0.000</td> <td>   -1.074</td> <td>   -0.571</td>\n",
       "</tr>\n",
       "<tr>\n",
       "  <th>Lead Source_Welingak Website</th>                  <td>    3.9060</td> <td>    1.110</td> <td>    3.520</td> <td> 0.000</td> <td>    1.731</td> <td>    6.081</td>\n",
       "</tr>\n",
       "<tr>\n",
       "  <th>Last Activity_SMS Sent</th>                        <td>    1.2437</td> <td>    0.223</td> <td>    5.584</td> <td> 0.000</td> <td>    0.807</td> <td>    1.680</td>\n",
       "</tr>\n",
       "<tr>\n",
       "  <th>Last Notable Activity_Modified</th>                <td>   -1.2791</td> <td>    0.150</td> <td>   -8.501</td> <td> 0.000</td> <td>   -1.574</td> <td>   -0.984</td>\n",
       "</tr>\n",
       "<tr>\n",
       "  <th>Last Notable Activity_Olark Chat Conversation</th> <td>   -1.7079</td> <td>    0.489</td> <td>   -3.491</td> <td> 0.000</td> <td>   -2.667</td> <td>   -0.749</td>\n",
       "</tr>\n",
       "<tr>\n",
       "  <th>Last Notable Activity_SMS Sent</th>                <td>    1.0150</td> <td>    0.257</td> <td>    3.943</td> <td> 0.000</td> <td>    0.510</td> <td>    1.520</td>\n",
       "</tr>\n",
       "<tr>\n",
       "  <th>Tags_Closed by Horizzon</th>                       <td>    6.9868</td> <td>    1.019</td> <td>    6.857</td> <td> 0.000</td> <td>    4.990</td> <td>    8.984</td>\n",
       "</tr>\n",
       "<tr>\n",
       "  <th>Tags_Interested in other courses</th>              <td>   -2.2028</td> <td>    0.409</td> <td>   -5.391</td> <td> 0.000</td> <td>   -3.004</td> <td>   -1.402</td>\n",
       "</tr>\n",
       "<tr>\n",
       "  <th>Tags_Lost to EINS</th>                             <td>    5.7337</td> <td>    0.608</td> <td>    9.426</td> <td> 0.000</td> <td>    4.541</td> <td>    6.926</td>\n",
       "</tr>\n",
       "<tr>\n",
       "  <th>Tags_Other_Tags</th>                               <td>   -2.4401</td> <td>    0.210</td> <td>  -11.625</td> <td> 0.000</td> <td>   -2.852</td> <td>   -2.029</td>\n",
       "</tr>\n",
       "<tr>\n",
       "  <th>Tags_Ringing</th>                                  <td>   -3.5818</td> <td>    0.243</td> <td>  -14.740</td> <td> 0.000</td> <td>   -4.058</td> <td>   -3.106</td>\n",
       "</tr>\n",
       "<tr>\n",
       "  <th>Tags_Will revert after reading the email</th>      <td>    4.4234</td> <td>    0.184</td> <td>   23.993</td> <td> 0.000</td> <td>    4.062</td> <td>    4.785</td>\n",
       "</tr>\n",
       "</table>"
      ],
      "text/plain": [
       "<class 'statsmodels.iolib.summary.Summary'>\n",
       "\"\"\"\n",
       "                 Generalized Linear Model Regression Results                  \n",
       "==============================================================================\n",
       "Dep. Variable:              Converted   No. Observations:                 6267\n",
       "Model:                            GLM   Df Residuals:                     6252\n",
       "Model Family:                Binomial   Df Model:                           14\n",
       "Link Function:                  logit   Scale:                          1.0000\n",
       "Method:                          IRLS   Log-Likelihood:                -1255.3\n",
       "Date:                Wed, 19 Oct 2022   Deviance:                       2510.7\n",
       "Time:                        12:24:25   Pearson chi2:                 8.34e+03\n",
       "No. Iterations:                     8                                         \n",
       "Covariance Type:            nonrobust                                         \n",
       "=================================================================================================================\n",
       "                                                    coef    std err          z      P>|z|      [0.025      0.975]\n",
       "-----------------------------------------------------------------------------------------------------------------\n",
       "const                                            -1.2029      0.088    -13.729      0.000      -1.375      -1.031\n",
       "Total Time Spent on Website                       0.8963      0.053     16.979      0.000       0.793       1.000\n",
       "Lead Origin_Lead Add Form                         1.6795      0.450      3.735      0.000       0.798       2.561\n",
       "Lead Source_Direct Traffic                       -0.8224      0.128     -6.409      0.000      -1.074      -0.571\n",
       "Lead Source_Welingak Website                      3.9060      1.110      3.520      0.000       1.731       6.081\n",
       "Last Activity_SMS Sent                            1.2437      0.223      5.584      0.000       0.807       1.680\n",
       "Last Notable Activity_Modified                   -1.2791      0.150     -8.501      0.000      -1.574      -0.984\n",
       "Last Notable Activity_Olark Chat Conversation    -1.7079      0.489     -3.491      0.000      -2.667      -0.749\n",
       "Last Notable Activity_SMS Sent                    1.0150      0.257      3.943      0.000       0.510       1.520\n",
       "Tags_Closed by Horizzon                           6.9868      1.019      6.857      0.000       4.990       8.984\n",
       "Tags_Interested in other courses                 -2.2028      0.409     -5.391      0.000      -3.004      -1.402\n",
       "Tags_Lost to EINS                                 5.7337      0.608      9.426      0.000       4.541       6.926\n",
       "Tags_Other_Tags                                  -2.4401      0.210    -11.625      0.000      -2.852      -2.029\n",
       "Tags_Ringing                                     -3.5818      0.243    -14.740      0.000      -4.058      -3.106\n",
       "Tags_Will revert after reading the email          4.4234      0.184     23.993      0.000       4.062       4.785\n",
       "=================================================================================================================\n",
       "\"\"\""
      ]
     },
     "execution_count": 109,
     "metadata": {},
     "output_type": "execute_result"
    }
   ],
   "source": [
    "#Building Model 2\n",
    "X_train_sm = sm.add_constant(X_train[col])\n",
    "logm2 = sm.GLM(y_train,X_train_sm,family = sm.families.Binomial())\n",
    "\n",
    "res = logm2.fit()\n",
    "res.summary()"
   ]
  },
  {
   "cell_type": "code",
   "execution_count": 110,
   "id": "09ff2ab8",
   "metadata": {},
   "outputs": [],
   "source": [
    "#So, here we can see all p-values are less now\n",
    "# next we can chekch Variance Inflation Factor to see if there is any correlation between the variables"
   ]
  },
  {
   "cell_type": "code",
   "execution_count": 111,
   "id": "4622f17b",
   "metadata": {},
   "outputs": [],
   "source": [
    "#Check for the VIF values of the feature variables.\n",
    "from statsmodels.stats.outliers_influence import variance_inflation_factor"
   ]
  },
  {
   "cell_type": "code",
   "execution_count": 112,
   "id": "882e5393",
   "metadata": {},
   "outputs": [
    {
     "data": {
      "text/html": [
       "<div>\n",
       "<style scoped>\n",
       "    .dataframe tbody tr th:only-of-type {\n",
       "        vertical-align: middle;\n",
       "    }\n",
       "\n",
       "    .dataframe tbody tr th {\n",
       "        vertical-align: top;\n",
       "    }\n",
       "\n",
       "    .dataframe thead th {\n",
       "        text-align: right;\n",
       "    }\n",
       "</style>\n",
       "<table border=\"1\" class=\"dataframe\">\n",
       "  <thead>\n",
       "    <tr style=\"text-align: right;\">\n",
       "      <th></th>\n",
       "      <th>Features</th>\n",
       "      <th>VIF</th>\n",
       "    </tr>\n",
       "  </thead>\n",
       "  <tbody>\n",
       "    <tr>\n",
       "      <th>7</th>\n",
       "      <td>Last Notable Activity_SMS Sent</td>\n",
       "      <td>6.22</td>\n",
       "    </tr>\n",
       "    <tr>\n",
       "      <th>4</th>\n",
       "      <td>Last Activity_SMS Sent</td>\n",
       "      <td>6.12</td>\n",
       "    </tr>\n",
       "    <tr>\n",
       "      <th>1</th>\n",
       "      <td>Lead Origin_Lead Add Form</td>\n",
       "      <td>1.82</td>\n",
       "    </tr>\n",
       "    <tr>\n",
       "      <th>5</th>\n",
       "      <td>Last Notable Activity_Modified</td>\n",
       "      <td>1.69</td>\n",
       "    </tr>\n",
       "    <tr>\n",
       "      <th>13</th>\n",
       "      <td>Tags_Will revert after reading the email</td>\n",
       "      <td>1.61</td>\n",
       "    </tr>\n",
       "    <tr>\n",
       "      <th>2</th>\n",
       "      <td>Lead Source_Direct Traffic</td>\n",
       "      <td>1.38</td>\n",
       "    </tr>\n",
       "    <tr>\n",
       "      <th>3</th>\n",
       "      <td>Lead Source_Welingak Website</td>\n",
       "      <td>1.34</td>\n",
       "    </tr>\n",
       "    <tr>\n",
       "      <th>11</th>\n",
       "      <td>Tags_Other_Tags</td>\n",
       "      <td>1.26</td>\n",
       "    </tr>\n",
       "    <tr>\n",
       "      <th>0</th>\n",
       "      <td>Total Time Spent on Website</td>\n",
       "      <td>1.22</td>\n",
       "    </tr>\n",
       "    <tr>\n",
       "      <th>8</th>\n",
       "      <td>Tags_Closed by Horizzon</td>\n",
       "      <td>1.21</td>\n",
       "    </tr>\n",
       "    <tr>\n",
       "      <th>12</th>\n",
       "      <td>Tags_Ringing</td>\n",
       "      <td>1.18</td>\n",
       "    </tr>\n",
       "    <tr>\n",
       "      <th>9</th>\n",
       "      <td>Tags_Interested in other courses</td>\n",
       "      <td>1.13</td>\n",
       "    </tr>\n",
       "    <tr>\n",
       "      <th>10</th>\n",
       "      <td>Tags_Lost to EINS</td>\n",
       "      <td>1.06</td>\n",
       "    </tr>\n",
       "    <tr>\n",
       "      <th>6</th>\n",
       "      <td>Last Notable Activity_Olark Chat Conversation</td>\n",
       "      <td>1.01</td>\n",
       "    </tr>\n",
       "  </tbody>\n",
       "</table>\n",
       "</div>"
      ],
      "text/plain": [
       "                                         Features   VIF\n",
       "7                  Last Notable Activity_SMS Sent  6.22\n",
       "4                          Last Activity_SMS Sent  6.12\n",
       "1                       Lead Origin_Lead Add Form  1.82\n",
       "5                  Last Notable Activity_Modified  1.69\n",
       "13       Tags_Will revert after reading the email  1.61\n",
       "2                      Lead Source_Direct Traffic  1.38\n",
       "3                    Lead Source_Welingak Website  1.34\n",
       "11                                Tags_Other_Tags  1.26\n",
       "0                     Total Time Spent on Website  1.22\n",
       "8                         Tags_Closed by Horizzon  1.21\n",
       "12                                   Tags_Ringing  1.18\n",
       "9                Tags_Interested in other courses  1.13\n",
       "10                              Tags_Lost to EINS  1.06\n",
       "6   Last Notable Activity_Olark Chat Conversation  1.01"
      ]
     },
     "execution_count": 112,
     "metadata": {},
     "output_type": "execute_result"
    }
   ],
   "source": [
    "#create a datframe that will contain the names of all the feature variables and their respective VIFs\n",
    "\n",
    "vif = pd.DataFrame()\n",
    "\n",
    "vif['Features'] = X_train[col].columns\n",
    "vif['VIF'] = [variance_inflation_factor(X_train[col].values,i) for i in range(X_train[col].shape[1])]\n",
    "vif['VIF'] = round(vif['VIF'],2)\n",
    "vif = vif.sort_values(by = 'VIF', ascending = False)\n",
    "\n",
    "vif"
   ]
  },
  {
   "cell_type": "code",
   "execution_count": 113,
   "id": "cc7b9e55",
   "metadata": {},
   "outputs": [],
   "source": [
    "# As we know VIF < 5 is very good sign\n",
    "# So there is a high correlation between two variables so we drop the variable with the higher values VIF value"
   ]
  },
  {
   "cell_type": "code",
   "execution_count": 114,
   "id": "3597c8be",
   "metadata": {},
   "outputs": [],
   "source": [
    "#dropping variable with high VIF\n",
    "\n",
    "col = col.drop('Last Notable Activity_SMS Sent',1)"
   ]
  },
  {
   "cell_type": "code",
   "execution_count": 115,
   "id": "7dfe86ac",
   "metadata": {},
   "outputs": [
    {
     "data": {
      "text/html": [
       "<table class=\"simpletable\">\n",
       "<caption>Generalized Linear Model Regression Results</caption>\n",
       "<tr>\n",
       "  <th>Dep. Variable:</th>       <td>Converted</td>    <th>  No. Observations:  </th>  <td>  6267</td> \n",
       "</tr>\n",
       "<tr>\n",
       "  <th>Model:</th>                  <td>GLM</td>       <th>  Df Residuals:      </th>  <td>  6253</td> \n",
       "</tr>\n",
       "<tr>\n",
       "  <th>Model Family:</th>        <td>Binomial</td>     <th>  Df Model:          </th>  <td>    13</td> \n",
       "</tr>\n",
       "<tr>\n",
       "  <th>Link Function:</th>         <td>logit</td>      <th>  Scale:             </th> <td>  1.0000</td>\n",
       "</tr>\n",
       "<tr>\n",
       "  <th>Method:</th>                <td>IRLS</td>       <th>  Log-Likelihood:    </th> <td> -1263.3</td>\n",
       "</tr>\n",
       "<tr>\n",
       "  <th>Date:</th>            <td>Wed, 19 Oct 2022</td> <th>  Deviance:          </th> <td>  2526.6</td>\n",
       "</tr>\n",
       "<tr>\n",
       "  <th>Time:</th>                <td>12:24:25</td>     <th>  Pearson chi2:      </th> <td>8.51e+03</td>\n",
       "</tr>\n",
       "<tr>\n",
       "  <th>No. Iterations:</th>          <td>8</td>        <th>                     </th>     <td> </td>   \n",
       "</tr>\n",
       "<tr>\n",
       "  <th>Covariance Type:</th>     <td>nonrobust</td>    <th>                     </th>     <td> </td>   \n",
       "</tr>\n",
       "</table>\n",
       "<table class=\"simpletable\">\n",
       "<tr>\n",
       "                        <td></td>                           <th>coef</th>     <th>std err</th>      <th>z</th>      <th>P>|z|</th>  <th>[0.025</th>    <th>0.975]</th>  \n",
       "</tr>\n",
       "<tr>\n",
       "  <th>const</th>                                         <td>   -1.1179</td> <td>    0.084</td> <td>  -13.382</td> <td> 0.000</td> <td>   -1.282</td> <td>   -0.954</td>\n",
       "</tr>\n",
       "<tr>\n",
       "  <th>Total Time Spent on Website</th>                   <td>    0.8896</td> <td>    0.053</td> <td>   16.907</td> <td> 0.000</td> <td>    0.786</td> <td>    0.993</td>\n",
       "</tr>\n",
       "<tr>\n",
       "  <th>Lead Origin_Lead Add Form</th>                     <td>    1.6630</td> <td>    0.455</td> <td>    3.657</td> <td> 0.000</td> <td>    0.772</td> <td>    2.554</td>\n",
       "</tr>\n",
       "<tr>\n",
       "  <th>Lead Source_Direct Traffic</th>                    <td>   -0.8212</td> <td>    0.127</td> <td>   -6.471</td> <td> 0.000</td> <td>   -1.070</td> <td>   -0.572</td>\n",
       "</tr>\n",
       "<tr>\n",
       "  <th>Lead Source_Welingak Website</th>                  <td>    3.8845</td> <td>    1.114</td> <td>    3.488</td> <td> 0.000</td> <td>    1.701</td> <td>    6.068</td>\n",
       "</tr>\n",
       "<tr>\n",
       "  <th>Last Activity_SMS Sent</th>                        <td>    1.9981</td> <td>    0.113</td> <td>   17.718</td> <td> 0.000</td> <td>    1.777</td> <td>    2.219</td>\n",
       "</tr>\n",
       "<tr>\n",
       "  <th>Last Notable Activity_Modified</th>                <td>   -1.6525</td> <td>    0.124</td> <td>  -13.279</td> <td> 0.000</td> <td>   -1.896</td> <td>   -1.409</td>\n",
       "</tr>\n",
       "<tr>\n",
       "  <th>Last Notable Activity_Olark Chat Conversation</th> <td>   -1.8023</td> <td>    0.491</td> <td>   -3.669</td> <td> 0.000</td> <td>   -2.765</td> <td>   -0.839</td>\n",
       "</tr>\n",
       "<tr>\n",
       "  <th>Tags_Closed by Horizzon</th>                       <td>    7.1955</td> <td>    1.020</td> <td>    7.053</td> <td> 0.000</td> <td>    5.196</td> <td>    9.195</td>\n",
       "</tr>\n",
       "<tr>\n",
       "  <th>Tags_Interested in other courses</th>              <td>   -2.1318</td> <td>    0.406</td> <td>   -5.253</td> <td> 0.000</td> <td>   -2.927</td> <td>   -1.336</td>\n",
       "</tr>\n",
       "<tr>\n",
       "  <th>Tags_Lost to EINS</th>                             <td>    5.9177</td> <td>    0.611</td> <td>    9.689</td> <td> 0.000</td> <td>    4.721</td> <td>    7.115</td>\n",
       "</tr>\n",
       "<tr>\n",
       "  <th>Tags_Other_Tags</th>                               <td>   -2.3737</td> <td>    0.206</td> <td>  -11.507</td> <td> 0.000</td> <td>   -2.778</td> <td>   -1.969</td>\n",
       "</tr>\n",
       "<tr>\n",
       "  <th>Tags_Ringing</th>                                  <td>   -3.4531</td> <td>    0.238</td> <td>  -14.532</td> <td> 0.000</td> <td>   -3.919</td> <td>   -2.987</td>\n",
       "</tr>\n",
       "<tr>\n",
       "  <th>Tags_Will revert after reading the email</th>      <td>    4.5070</td> <td>    0.188</td> <td>   24.002</td> <td> 0.000</td> <td>    4.139</td> <td>    4.875</td>\n",
       "</tr>\n",
       "</table>"
      ],
      "text/plain": [
       "<class 'statsmodels.iolib.summary.Summary'>\n",
       "\"\"\"\n",
       "                 Generalized Linear Model Regression Results                  \n",
       "==============================================================================\n",
       "Dep. Variable:              Converted   No. Observations:                 6267\n",
       "Model:                            GLM   Df Residuals:                     6253\n",
       "Model Family:                Binomial   Df Model:                           13\n",
       "Link Function:                  logit   Scale:                          1.0000\n",
       "Method:                          IRLS   Log-Likelihood:                -1263.3\n",
       "Date:                Wed, 19 Oct 2022   Deviance:                       2526.6\n",
       "Time:                        12:24:25   Pearson chi2:                 8.51e+03\n",
       "No. Iterations:                     8                                         \n",
       "Covariance Type:            nonrobust                                         \n",
       "=================================================================================================================\n",
       "                                                    coef    std err          z      P>|z|      [0.025      0.975]\n",
       "-----------------------------------------------------------------------------------------------------------------\n",
       "const                                            -1.1179      0.084    -13.382      0.000      -1.282      -0.954\n",
       "Total Time Spent on Website                       0.8896      0.053     16.907      0.000       0.786       0.993\n",
       "Lead Origin_Lead Add Form                         1.6630      0.455      3.657      0.000       0.772       2.554\n",
       "Lead Source_Direct Traffic                       -0.8212      0.127     -6.471      0.000      -1.070      -0.572\n",
       "Lead Source_Welingak Website                      3.8845      1.114      3.488      0.000       1.701       6.068\n",
       "Last Activity_SMS Sent                            1.9981      0.113     17.718      0.000       1.777       2.219\n",
       "Last Notable Activity_Modified                   -1.6525      0.124    -13.279      0.000      -1.896      -1.409\n",
       "Last Notable Activity_Olark Chat Conversation    -1.8023      0.491     -3.669      0.000      -2.765      -0.839\n",
       "Tags_Closed by Horizzon                           7.1955      1.020      7.053      0.000       5.196       9.195\n",
       "Tags_Interested in other courses                 -2.1318      0.406     -5.253      0.000      -2.927      -1.336\n",
       "Tags_Lost to EINS                                 5.9177      0.611      9.689      0.000       4.721       7.115\n",
       "Tags_Other_Tags                                  -2.3737      0.206    -11.507      0.000      -2.778      -1.969\n",
       "Tags_Ringing                                     -3.4531      0.238    -14.532      0.000      -3.919      -2.987\n",
       "Tags_Will revert after reading the email          4.5070      0.188     24.002      0.000       4.139       4.875\n",
       "=================================================================================================================\n",
       "\"\"\""
      ]
     },
     "execution_count": 115,
     "metadata": {},
     "output_type": "execute_result"
    }
   ],
   "source": [
    "#Building Model 3\n",
    "X_train_sm = sm.add_constant(X_train[col])\n",
    "logm3 = sm.GLM(y_train,X_train_sm,family = sm.families.Binomial())\n",
    "\n",
    "res = logm3.fit()\n",
    "res.summary()"
   ]
  },
  {
   "cell_type": "code",
   "execution_count": 116,
   "id": "5ff35379",
   "metadata": {},
   "outputs": [
    {
     "data": {
      "text/html": [
       "<div>\n",
       "<style scoped>\n",
       "    .dataframe tbody tr th:only-of-type {\n",
       "        vertical-align: middle;\n",
       "    }\n",
       "\n",
       "    .dataframe tbody tr th {\n",
       "        vertical-align: top;\n",
       "    }\n",
       "\n",
       "    .dataframe thead th {\n",
       "        text-align: right;\n",
       "    }\n",
       "</style>\n",
       "<table border=\"1\" class=\"dataframe\">\n",
       "  <thead>\n",
       "    <tr style=\"text-align: right;\">\n",
       "      <th></th>\n",
       "      <th>Features</th>\n",
       "      <th>VIF</th>\n",
       "    </tr>\n",
       "  </thead>\n",
       "  <tbody>\n",
       "    <tr>\n",
       "      <th>1</th>\n",
       "      <td>Lead Origin_Lead Add Form</td>\n",
       "      <td>1.82</td>\n",
       "    </tr>\n",
       "    <tr>\n",
       "      <th>12</th>\n",
       "      <td>Tags_Will revert after reading the email</td>\n",
       "      <td>1.56</td>\n",
       "    </tr>\n",
       "    <tr>\n",
       "      <th>4</th>\n",
       "      <td>Last Activity_SMS Sent</td>\n",
       "      <td>1.46</td>\n",
       "    </tr>\n",
       "    <tr>\n",
       "      <th>5</th>\n",
       "      <td>Last Notable Activity_Modified</td>\n",
       "      <td>1.40</td>\n",
       "    </tr>\n",
       "    <tr>\n",
       "      <th>2</th>\n",
       "      <td>Lead Source_Direct Traffic</td>\n",
       "      <td>1.38</td>\n",
       "    </tr>\n",
       "    <tr>\n",
       "      <th>3</th>\n",
       "      <td>Lead Source_Welingak Website</td>\n",
       "      <td>1.34</td>\n",
       "    </tr>\n",
       "    <tr>\n",
       "      <th>10</th>\n",
       "      <td>Tags_Other_Tags</td>\n",
       "      <td>1.25</td>\n",
       "    </tr>\n",
       "    <tr>\n",
       "      <th>0</th>\n",
       "      <td>Total Time Spent on Website</td>\n",
       "      <td>1.22</td>\n",
       "    </tr>\n",
       "    <tr>\n",
       "      <th>7</th>\n",
       "      <td>Tags_Closed by Horizzon</td>\n",
       "      <td>1.21</td>\n",
       "    </tr>\n",
       "    <tr>\n",
       "      <th>11</th>\n",
       "      <td>Tags_Ringing</td>\n",
       "      <td>1.16</td>\n",
       "    </tr>\n",
       "    <tr>\n",
       "      <th>8</th>\n",
       "      <td>Tags_Interested in other courses</td>\n",
       "      <td>1.12</td>\n",
       "    </tr>\n",
       "    <tr>\n",
       "      <th>9</th>\n",
       "      <td>Tags_Lost to EINS</td>\n",
       "      <td>1.06</td>\n",
       "    </tr>\n",
       "    <tr>\n",
       "      <th>6</th>\n",
       "      <td>Last Notable Activity_Olark Chat Conversation</td>\n",
       "      <td>1.01</td>\n",
       "    </tr>\n",
       "  </tbody>\n",
       "</table>\n",
       "</div>"
      ],
      "text/plain": [
       "                                         Features   VIF\n",
       "1                       Lead Origin_Lead Add Form  1.82\n",
       "12       Tags_Will revert after reading the email  1.56\n",
       "4                          Last Activity_SMS Sent  1.46\n",
       "5                  Last Notable Activity_Modified  1.40\n",
       "2                      Lead Source_Direct Traffic  1.38\n",
       "3                    Lead Source_Welingak Website  1.34\n",
       "10                                Tags_Other_Tags  1.25\n",
       "0                     Total Time Spent on Website  1.22\n",
       "7                         Tags_Closed by Horizzon  1.21\n",
       "11                                   Tags_Ringing  1.16\n",
       "8                Tags_Interested in other courses  1.12\n",
       "9                               Tags_Lost to EINS  1.06\n",
       "6   Last Notable Activity_Olark Chat Conversation  1.01"
      ]
     },
     "execution_count": 116,
     "metadata": {},
     "output_type": "execute_result"
    }
   ],
   "source": [
    "#create a datframe that will contain the names of all the feature variables and their respective VIFs\n",
    "\n",
    "vif = pd.DataFrame()\n",
    "\n",
    "vif['Features'] = X_train[col].columns\n",
    "vif['VIF'] = [variance_inflation_factor(X_train[col].values,i) for i in range(X_train[col].shape[1])]\n",
    "vif['VIF'] = round(vif['VIF'],2)\n",
    "vif = vif.sort_values(by = 'VIF', ascending = False)\n",
    "\n",
    "vif"
   ]
  },
  {
   "cell_type": "code",
   "execution_count": 117,
   "id": "7c9cbece",
   "metadata": {},
   "outputs": [],
   "source": [
    "#So the values all seem to be in order so now, moving on to drive the probabilites,Lead Score,Prediction on Train Data."
   ]
  },
  {
   "cell_type": "code",
   "execution_count": 118,
   "id": "f384a735",
   "metadata": {},
   "outputs": [
    {
     "data": {
      "text/plain": [
       "9196    0.283149\n",
       "4696    0.031440\n",
       "3274    0.576636\n",
       "2164    0.006433\n",
       "1667    0.989105\n",
       "7024    0.130813\n",
       "8018    0.024219\n",
       "778     0.205594\n",
       "6942    0.002678\n",
       "4440    0.096716\n",
       "dtype: float64"
      ]
     },
     "execution_count": 118,
     "metadata": {},
     "output_type": "execute_result"
    }
   ],
   "source": [
    "#Getting the predicted values on the train set\n",
    "y_train_pred = res.predict(X_train_sm)\n",
    "y_train_pred[:10]"
   ]
  },
  {
   "cell_type": "code",
   "execution_count": 119,
   "id": "91cb65fb",
   "metadata": {},
   "outputs": [
    {
     "data": {
      "text/plain": [
       "array([0.28314859, 0.0314396 , 0.57663553, 0.00643284, 0.98910464,\n",
       "       0.13081306, 0.02421913, 0.20559401, 0.00267787, 0.09671623])"
      ]
     },
     "execution_count": 119,
     "metadata": {},
     "output_type": "execute_result"
    }
   ],
   "source": [
    "y_train_pred = y_train_pred.values.reshape(-1)\n",
    "y_train_pred[:10]"
   ]
  },
  {
   "cell_type": "code",
   "execution_count": 120,
   "id": "52eeac72",
   "metadata": {},
   "outputs": [
    {
     "data": {
      "text/html": [
       "<div>\n",
       "<style scoped>\n",
       "    .dataframe tbody tr th:only-of-type {\n",
       "        vertical-align: middle;\n",
       "    }\n",
       "\n",
       "    .dataframe tbody tr th {\n",
       "        vertical-align: top;\n",
       "    }\n",
       "\n",
       "    .dataframe thead th {\n",
       "        text-align: right;\n",
       "    }\n",
       "</style>\n",
       "<table border=\"1\" class=\"dataframe\">\n",
       "  <thead>\n",
       "    <tr style=\"text-align: right;\">\n",
       "      <th></th>\n",
       "      <th>Converted</th>\n",
       "      <th>Converted_prob</th>\n",
       "      <th>Prospect ID</th>\n",
       "    </tr>\n",
       "  </thead>\n",
       "  <tbody>\n",
       "    <tr>\n",
       "      <th>0</th>\n",
       "      <td>1</td>\n",
       "      <td>0.283149</td>\n",
       "      <td>9196</td>\n",
       "    </tr>\n",
       "    <tr>\n",
       "      <th>1</th>\n",
       "      <td>0</td>\n",
       "      <td>0.031440</td>\n",
       "      <td>4696</td>\n",
       "    </tr>\n",
       "    <tr>\n",
       "      <th>2</th>\n",
       "      <td>0</td>\n",
       "      <td>0.576636</td>\n",
       "      <td>3274</td>\n",
       "    </tr>\n",
       "    <tr>\n",
       "      <th>3</th>\n",
       "      <td>0</td>\n",
       "      <td>0.006433</td>\n",
       "      <td>2164</td>\n",
       "    </tr>\n",
       "    <tr>\n",
       "      <th>4</th>\n",
       "      <td>1</td>\n",
       "      <td>0.989105</td>\n",
       "      <td>1667</td>\n",
       "    </tr>\n",
       "  </tbody>\n",
       "</table>\n",
       "</div>"
      ],
      "text/plain": [
       "   Converted  Converted_prob  Prospect ID\n",
       "0          1        0.283149         9196\n",
       "1          0        0.031440         4696\n",
       "2          0        0.576636         3274\n",
       "3          0        0.006433         2164\n",
       "4          1        0.989105         1667"
      ]
     },
     "execution_count": 120,
     "metadata": {},
     "output_type": "execute_result"
    }
   ],
   "source": [
    "y_train_pred_final = pd.DataFrame({'Converted':y_train.values,'Converted_prob':y_train_pred})\n",
    "y_train_pred_final['Prospect ID'] = y_train.index\n",
    "y_train_pred_final.head()"
   ]
  },
  {
   "cell_type": "code",
   "execution_count": 121,
   "id": "89962e21",
   "metadata": {},
   "outputs": [
    {
     "data": {
      "text/html": [
       "<div>\n",
       "<style scoped>\n",
       "    .dataframe tbody tr th:only-of-type {\n",
       "        vertical-align: middle;\n",
       "    }\n",
       "\n",
       "    .dataframe tbody tr th {\n",
       "        vertical-align: top;\n",
       "    }\n",
       "\n",
       "    .dataframe thead th {\n",
       "        text-align: right;\n",
       "    }\n",
       "</style>\n",
       "<table border=\"1\" class=\"dataframe\">\n",
       "  <thead>\n",
       "    <tr style=\"text-align: right;\">\n",
       "      <th></th>\n",
       "      <th>Converted</th>\n",
       "      <th>Converted_prob</th>\n",
       "      <th>Prospect ID</th>\n",
       "      <th>Predicted</th>\n",
       "    </tr>\n",
       "  </thead>\n",
       "  <tbody>\n",
       "    <tr>\n",
       "      <th>0</th>\n",
       "      <td>1</td>\n",
       "      <td>0.283149</td>\n",
       "      <td>9196</td>\n",
       "      <td>0</td>\n",
       "    </tr>\n",
       "    <tr>\n",
       "      <th>1</th>\n",
       "      <td>0</td>\n",
       "      <td>0.031440</td>\n",
       "      <td>4696</td>\n",
       "      <td>0</td>\n",
       "    </tr>\n",
       "    <tr>\n",
       "      <th>2</th>\n",
       "      <td>0</td>\n",
       "      <td>0.576636</td>\n",
       "      <td>3274</td>\n",
       "      <td>1</td>\n",
       "    </tr>\n",
       "    <tr>\n",
       "      <th>3</th>\n",
       "      <td>0</td>\n",
       "      <td>0.006433</td>\n",
       "      <td>2164</td>\n",
       "      <td>0</td>\n",
       "    </tr>\n",
       "    <tr>\n",
       "      <th>4</th>\n",
       "      <td>1</td>\n",
       "      <td>0.989105</td>\n",
       "      <td>1667</td>\n",
       "      <td>1</td>\n",
       "    </tr>\n",
       "  </tbody>\n",
       "</table>\n",
       "</div>"
      ],
      "text/plain": [
       "   Converted  Converted_prob  Prospect ID  Predicted\n",
       "0          1        0.283149         9196          0\n",
       "1          0        0.031440         4696          0\n",
       "2          0        0.576636         3274          1\n",
       "3          0        0.006433         2164          0\n",
       "4          1        0.989105         1667          1"
      ]
     },
     "execution_count": 121,
     "metadata": {},
     "output_type": "execute_result"
    }
   ],
   "source": [
    "y_train_pred_final['Predicted'] = y_train_pred_final.Converted_prob.map(lambda x:1 if x > 0.5 else 0)\n",
    "\n",
    "y_train_pred_final.head()"
   ]
  },
  {
   "cell_type": "code",
   "execution_count": 122,
   "id": "25862c96",
   "metadata": {},
   "outputs": [
    {
     "name": "stdout",
     "output_type": "stream",
     "text": [
      "[[3693  189]\n",
      " [ 281 2104]]\n"
     ]
    }
   ],
   "source": [
    "# lets cheking in confusion matrix \n",
    "\n",
    "from sklearn import metrics\n",
    "\n",
    "#confusion matrix\n",
    "\n",
    "confusion = metrics.confusion_matrix(y_train_pred_final.Converted,y_train_pred_final.Predicted)\n",
    "print(confusion)"
   ]
  },
  {
   "cell_type": "code",
   "execution_count": 123,
   "id": "8635123d",
   "metadata": {},
   "outputs": [
    {
     "name": "stdout",
     "output_type": "stream",
     "text": [
      "0.9250039891495133\n"
     ]
    }
   ],
   "source": [
    "#Let's check overall accuracy.\n",
    "print(metrics.accuracy_score(y_train_pred_final.Converted,y_train_pred_final.Predicted))"
   ]
  },
  {
   "cell_type": "code",
   "execution_count": 124,
   "id": "a13c796e",
   "metadata": {},
   "outputs": [],
   "source": [
    "TP = confusion[1,1]\n",
    "\n",
    "TN = confusion[0,0]\n",
    "\n",
    "FP = confusion[0,1]\n",
    "\n",
    "FN = confusion[1,0]"
   ]
  },
  {
   "cell_type": "code",
   "execution_count": 125,
   "id": "6462b5f9",
   "metadata": {},
   "outputs": [
    {
     "data": {
      "text/plain": [
       "0.8821802935010482"
      ]
     },
     "execution_count": 125,
     "metadata": {},
     "output_type": "execute_result"
    }
   ],
   "source": [
    "#checking sensitivity of our logistic regression model\n",
    "\n",
    "TP / float(TP+FN)"
   ]
  },
  {
   "cell_type": "code",
   "execution_count": 126,
   "id": "0b6419b1",
   "metadata": {},
   "outputs": [
    {
     "data": {
      "text/plain": [
       "0.9513137557959814"
      ]
     },
     "execution_count": 126,
     "metadata": {},
     "output_type": "execute_result"
    }
   ],
   "source": [
    "#Specificity\n",
    "\n",
    "TN / float(TN+FP)"
   ]
  },
  {
   "cell_type": "code",
   "execution_count": 127,
   "id": "aea9268c",
   "metadata": {},
   "outputs": [
    {
     "name": "stdout",
     "output_type": "stream",
     "text": [
      "0.04868624420401855\n"
     ]
    }
   ],
   "source": [
    "#Calculate False Positive rate predicting conversion when customer does not have converted\n",
    "print(FP/ float(TN+FP))"
   ]
  },
  {
   "cell_type": "code",
   "execution_count": 128,
   "id": "bbb34461",
   "metadata": {},
   "outputs": [
    {
     "name": "stdout",
     "output_type": "stream",
     "text": [
      "0.9175752289576974\n"
     ]
    }
   ],
   "source": [
    "#Positive predictu=ive value\n",
    "print(TP / float(TP+FP))"
   ]
  },
  {
   "cell_type": "code",
   "execution_count": 129,
   "id": "876e6638",
   "metadata": {},
   "outputs": [
    {
     "name": "stdout",
     "output_type": "stream",
     "text": [
      "0.9292903875188727\n"
     ]
    }
   ],
   "source": [
    "#Negative predicive value\n",
    "print(TN / float(TN+FN))"
   ]
  },
  {
   "cell_type": "markdown",
   "id": "213341ff",
   "metadata": {},
   "source": [
    "### Plotting ROC Curve"
   ]
  },
  {
   "cell_type": "code",
   "execution_count": 130,
   "id": "ea4ca3cf",
   "metadata": {},
   "outputs": [],
   "source": [
    "def draw_roc( actual, probs ):\n",
    "    fpr, tpr, thresholds = metrics.roc_curve( actual, probs,\n",
    "                                              drop_intermediate = False )\n",
    "    auc_score = metrics.roc_auc_score( actual, probs )\n",
    "    plt.figure(figsize=(5, 5))\n",
    "    plt.plot( fpr, tpr, label='ROC curve (area = %0.2f)' % auc_score )\n",
    "    plt.plot([0, 1], [0, 1], 'k--')\n",
    "    plt.xlim([0.0, 1.0])\n",
    "    plt.ylim([0.0, 1.05])\n",
    "    plt.xlabel('False Positive Rate or [1 - True Negative Rate]')\n",
    "    plt.ylabel('True Positive Rate')\n",
    "    plt.title('Receiver operating characteristic example')\n",
    "    plt.legend(loc=\"lower right\")\n",
    "    plt.show()\n",
    "\n",
    "    return None"
   ]
  },
  {
   "cell_type": "code",
   "execution_count": 131,
   "id": "7258048a",
   "metadata": {},
   "outputs": [],
   "source": [
    "fpr, tpr, thresholds = metrics.roc_curve(y_train_pred_final.Converted,y_train_pred_final.Converted_prob, drop_intermediate=False)"
   ]
  },
  {
   "cell_type": "code",
   "execution_count": 132,
   "id": "75babf02",
   "metadata": {},
   "outputs": [
    {
     "data": {
      "image/png": "[encoded data removed]",
      "text/plain": [
       "<Figure size 360x360 with 1 Axes>"
      ]
     },
     "metadata": {
      "needs_background": "light"
     },
     "output_type": "display_data"
    }
   ],
   "source": [
    "draw_roc(y_train_pred_final.Converted, y_train_pred_final.Converted_prob)"
   ]
  },
  {
   "cell_type": "code",
   "execution_count": 133,
   "id": "748763a0",
   "metadata": {},
   "outputs": [],
   "source": [
    "#here we can see clearly The ROC Curve should be a value close to 1.WE are getting a good value of 0.97 indicating a good predictive model"
   ]
  },
  {
   "cell_type": "markdown",
   "id": "240b38bf",
   "metadata": {},
   "source": [
    "### Finding Optimal Cutoff Point"
   ]
  },
  {
   "cell_type": "markdown",
   "id": "61c8c99d",
   "metadata": {},
   "source": [
    "- Above we had chosen an arbitary cut-off value of 0.5. We need to determine the best cut-off value and the below section deals with that:"
   ]
  },
  {
   "cell_type": "code",
   "execution_count": 134,
   "id": "750802cc",
   "metadata": {},
   "outputs": [
    {
     "data": {
      "text/html": [
       "<div>\n",
       "<style scoped>\n",
       "    .dataframe tbody tr th:only-of-type {\n",
       "        vertical-align: middle;\n",
       "    }\n",
       "\n",
       "    .dataframe tbody tr th {\n",
       "        vertical-align: top;\n",
       "    }\n",
       "\n",
       "    .dataframe thead th {\n",
       "        text-align: right;\n",
       "    }\n",
       "</style>\n",
       "<table border=\"1\" class=\"dataframe\">\n",
       "  <thead>\n",
       "    <tr style=\"text-align: right;\">\n",
       "      <th></th>\n",
       "      <th>Converted</th>\n",
       "      <th>Converted_prob</th>\n",
       "      <th>Prospect ID</th>\n",
       "      <th>Predicted</th>\n",
       "      <th>0.0</th>\n",
       "      <th>0.1</th>\n",
       "      <th>0.2</th>\n",
       "      <th>0.3</th>\n",
       "      <th>0.4</th>\n",
       "      <th>0.5</th>\n",
       "      <th>0.6</th>\n",
       "      <th>0.7</th>\n",
       "      <th>0.8</th>\n",
       "      <th>0.9</th>\n",
       "    </tr>\n",
       "  </thead>\n",
       "  <tbody>\n",
       "    <tr>\n",
       "      <th>0</th>\n",
       "      <td>1</td>\n",
       "      <td>0.283149</td>\n",
       "      <td>9196</td>\n",
       "      <td>0</td>\n",
       "      <td>1</td>\n",
       "      <td>1</td>\n",
       "      <td>1</td>\n",
       "      <td>0</td>\n",
       "      <td>0</td>\n",
       "      <td>0</td>\n",
       "      <td>0</td>\n",
       "      <td>0</td>\n",
       "      <td>0</td>\n",
       "      <td>0</td>\n",
       "    </tr>\n",
       "    <tr>\n",
       "      <th>1</th>\n",
       "      <td>0</td>\n",
       "      <td>0.031440</td>\n",
       "      <td>4696</td>\n",
       "      <td>0</td>\n",
       "      <td>1</td>\n",
       "      <td>0</td>\n",
       "      <td>0</td>\n",
       "      <td>0</td>\n",
       "      <td>0</td>\n",
       "      <td>0</td>\n",
       "      <td>0</td>\n",
       "      <td>0</td>\n",
       "      <td>0</td>\n",
       "      <td>0</td>\n",
       "    </tr>\n",
       "    <tr>\n",
       "      <th>2</th>\n",
       "      <td>0</td>\n",
       "      <td>0.576636</td>\n",
       "      <td>3274</td>\n",
       "      <td>1</td>\n",
       "      <td>1</td>\n",
       "      <td>1</td>\n",
       "      <td>1</td>\n",
       "      <td>1</td>\n",
       "      <td>1</td>\n",
       "      <td>1</td>\n",
       "      <td>0</td>\n",
       "      <td>0</td>\n",
       "      <td>0</td>\n",
       "      <td>0</td>\n",
       "    </tr>\n",
       "    <tr>\n",
       "      <th>3</th>\n",
       "      <td>0</td>\n",
       "      <td>0.006433</td>\n",
       "      <td>2164</td>\n",
       "      <td>0</td>\n",
       "      <td>1</td>\n",
       "      <td>0</td>\n",
       "      <td>0</td>\n",
       "      <td>0</td>\n",
       "      <td>0</td>\n",
       "      <td>0</td>\n",
       "      <td>0</td>\n",
       "      <td>0</td>\n",
       "      <td>0</td>\n",
       "      <td>0</td>\n",
       "    </tr>\n",
       "    <tr>\n",
       "      <th>4</th>\n",
       "      <td>1</td>\n",
       "      <td>0.989105</td>\n",
       "      <td>1667</td>\n",
       "      <td>1</td>\n",
       "      <td>1</td>\n",
       "      <td>1</td>\n",
       "      <td>1</td>\n",
       "      <td>1</td>\n",
       "      <td>1</td>\n",
       "      <td>1</td>\n",
       "      <td>1</td>\n",
       "      <td>1</td>\n",
       "      <td>1</td>\n",
       "      <td>1</td>\n",
       "    </tr>\n",
       "  </tbody>\n",
       "</table>\n",
       "</div>"
      ],
      "text/plain": [
       "   Converted  Converted_prob  Prospect ID  Predicted  0.0  0.1  0.2  0.3  0.4  \\\n",
       "0          1        0.283149         9196          0    1    1    1    0    0   \n",
       "1          0        0.031440         4696          0    1    0    0    0    0   \n",
       "2          0        0.576636         3274          1    1    1    1    1    1   \n",
       "3          0        0.006433         2164          0    1    0    0    0    0   \n",
       "4          1        0.989105         1667          1    1    1    1    1    1   \n",
       "\n",
       "   0.5  0.6  0.7  0.8  0.9  \n",
       "0    0    0    0    0    0  \n",
       "1    0    0    0    0    0  \n",
       "2    1    0    0    0    0  \n",
       "3    0    0    0    0    0  \n",
       "4    1    1    1    1    1  "
      ]
     },
     "execution_count": 134,
     "metadata": {},
     "output_type": "execute_result"
    }
   ],
   "source": [
    "# Creating columns with different probability cutoffs\n",
    "numbers = [float(x)/10 for x in range(10)]\n",
    "for i in numbers:\n",
    "    y_train_pred_final[i] = y_train_pred_final.Converted_prob.map(lambda x: 1 if x > i else 0)\n",
    "y_train_pred_final.head()"
   ]
  },
  {
   "cell_type": "code",
   "execution_count": 135,
   "id": "0cd76834",
   "metadata": {},
   "outputs": [
    {
     "name": "stdout",
     "output_type": "stream",
     "text": [
      "     prob  accuracy     sensi     speci\n",
      "0.0   0.0  0.380565  1.000000  0.000000\n",
      "0.1   0.1  0.816180  0.971488  0.720762\n",
      "0.2   0.2  0.901069  0.931237  0.882535\n",
      "0.3   0.3  0.922930  0.916981  0.926584\n",
      "0.4   0.4  0.925802  0.901468  0.940752\n",
      "0.5   0.5  0.925004  0.882180  0.951314\n",
      "0.6   0.6  0.915909  0.828092  0.969861\n",
      "0.7   0.7  0.916228  0.810063  0.981453\n",
      "0.8   0.8  0.906335  0.774843  0.987120\n",
      "0.9   0.9  0.887027  0.718239  0.990726\n"
     ]
    }
   ],
   "source": [
    "# Now let's calculate accuracy sensitivity and specificity for various probability cutoffs.\n",
    "cutoff_df = pd.DataFrame( columns = ['prob','accuracy','sensi','speci'])\n",
    "from sklearn.metrics import confusion_matrix\n",
    "\n",
    "num = [0.0,0.1,0.2,0.3,0.4,0.5,0.6,0.7,0.8,0.9]\n",
    "for i in num:\n",
    "    cm1 = metrics.confusion_matrix(y_train_pred_final.Converted, y_train_pred_final[i] )\n",
    "    total1=sum(sum(cm1))\n",
    "    accuracy = (cm1[0,0]+cm1[1,1])/total1\n",
    "    \n",
    "    speci = cm1[0,0]/(cm1[0,0]+cm1[0,1])\n",
    "    sensi = cm1[1,1]/(cm1[1,0]+cm1[1,1])\n",
    "    cutoff_df.loc[i] =[ i ,accuracy,sensi,speci]\n",
    "print(cutoff_df)"
   ]
  },
  {
   "cell_type": "code",
   "execution_count": 137,
   "id": "ac9ce7fb",
   "metadata": {},
   "outputs": [
    {
     "data": {
      "image/png": "[encoded data removed]",
      "text/plain": [
       "<Figure size 432x288 with 1 Axes>"
      ]
     },
     "metadata": {
      "needs_background": "light"
     },
     "output_type": "display_data"
    }
   ],
   "source": [
    "#Let's plot accuracy sensitivity and specificity for various probabilities.\n",
    "cutoff_df.plot.line(x='prob', y=['accuracy','sensi','speci'])\n",
    "plt.show()"
   ]
  },
  {
   "cell_type": "code",
   "execution_count": 139,
   "id": "93d36bbe",
   "metadata": {},
   "outputs": [
    {
     "data": {
      "text/html": [
       "<div>\n",
       "<style scoped>\n",
       "    .dataframe tbody tr th:only-of-type {\n",
       "        vertical-align: middle;\n",
       "    }\n",
       "\n",
       "    .dataframe tbody tr th {\n",
       "        vertical-align: top;\n",
       "    }\n",
       "\n",
       "    .dataframe thead th {\n",
       "        text-align: right;\n",
       "    }\n",
       "</style>\n",
       "<table border=\"1\" class=\"dataframe\">\n",
       "  <thead>\n",
       "    <tr style=\"text-align: right;\">\n",
       "      <th></th>\n",
       "      <th>Converted</th>\n",
       "      <th>Converted_prob</th>\n",
       "      <th>Prospect ID</th>\n",
       "      <th>Predicted</th>\n",
       "      <th>0.0</th>\n",
       "      <th>0.1</th>\n",
       "      <th>0.2</th>\n",
       "      <th>0.3</th>\n",
       "      <th>0.4</th>\n",
       "      <th>0.5</th>\n",
       "      <th>0.6</th>\n",
       "      <th>0.7</th>\n",
       "      <th>0.8</th>\n",
       "      <th>0.9</th>\n",
       "      <th>final_Predicted</th>\n",
       "    </tr>\n",
       "  </thead>\n",
       "  <tbody>\n",
       "    <tr>\n",
       "      <th>0</th>\n",
       "      <td>1</td>\n",
       "      <td>0.283149</td>\n",
       "      <td>9196</td>\n",
       "      <td>0</td>\n",
       "      <td>1</td>\n",
       "      <td>1</td>\n",
       "      <td>1</td>\n",
       "      <td>0</td>\n",
       "      <td>0</td>\n",
       "      <td>0</td>\n",
       "      <td>0</td>\n",
       "      <td>0</td>\n",
       "      <td>0</td>\n",
       "      <td>0</td>\n",
       "      <td>0</td>\n",
       "    </tr>\n",
       "    <tr>\n",
       "      <th>1</th>\n",
       "      <td>0</td>\n",
       "      <td>0.031440</td>\n",
       "      <td>4696</td>\n",
       "      <td>0</td>\n",
       "      <td>1</td>\n",
       "      <td>0</td>\n",
       "      <td>0</td>\n",
       "      <td>0</td>\n",
       "      <td>0</td>\n",
       "      <td>0</td>\n",
       "      <td>0</td>\n",
       "      <td>0</td>\n",
       "      <td>0</td>\n",
       "      <td>0</td>\n",
       "      <td>0</td>\n",
       "    </tr>\n",
       "    <tr>\n",
       "      <th>2</th>\n",
       "      <td>0</td>\n",
       "      <td>0.576636</td>\n",
       "      <td>3274</td>\n",
       "      <td>1</td>\n",
       "      <td>1</td>\n",
       "      <td>1</td>\n",
       "      <td>1</td>\n",
       "      <td>1</td>\n",
       "      <td>1</td>\n",
       "      <td>1</td>\n",
       "      <td>0</td>\n",
       "      <td>0</td>\n",
       "      <td>0</td>\n",
       "      <td>0</td>\n",
       "      <td>1</td>\n",
       "    </tr>\n",
       "    <tr>\n",
       "      <th>3</th>\n",
       "      <td>0</td>\n",
       "      <td>0.006433</td>\n",
       "      <td>2164</td>\n",
       "      <td>0</td>\n",
       "      <td>1</td>\n",
       "      <td>0</td>\n",
       "      <td>0</td>\n",
       "      <td>0</td>\n",
       "      <td>0</td>\n",
       "      <td>0</td>\n",
       "      <td>0</td>\n",
       "      <td>0</td>\n",
       "      <td>0</td>\n",
       "      <td>0</td>\n",
       "      <td>0</td>\n",
       "    </tr>\n",
       "    <tr>\n",
       "      <th>4</th>\n",
       "      <td>1</td>\n",
       "      <td>0.989105</td>\n",
       "      <td>1667</td>\n",
       "      <td>1</td>\n",
       "      <td>1</td>\n",
       "      <td>1</td>\n",
       "      <td>1</td>\n",
       "      <td>1</td>\n",
       "      <td>1</td>\n",
       "      <td>1</td>\n",
       "      <td>1</td>\n",
       "      <td>1</td>\n",
       "      <td>1</td>\n",
       "      <td>1</td>\n",
       "      <td>1</td>\n",
       "    </tr>\n",
       "    <tr>\n",
       "      <th>5</th>\n",
       "      <td>0</td>\n",
       "      <td>0.130813</td>\n",
       "      <td>7024</td>\n",
       "      <td>0</td>\n",
       "      <td>1</td>\n",
       "      <td>1</td>\n",
       "      <td>0</td>\n",
       "      <td>0</td>\n",
       "      <td>0</td>\n",
       "      <td>0</td>\n",
       "      <td>0</td>\n",
       "      <td>0</td>\n",
       "      <td>0</td>\n",
       "      <td>0</td>\n",
       "      <td>0</td>\n",
       "    </tr>\n",
       "    <tr>\n",
       "      <th>6</th>\n",
       "      <td>0</td>\n",
       "      <td>0.024219</td>\n",
       "      <td>8018</td>\n",
       "      <td>0</td>\n",
       "      <td>1</td>\n",
       "      <td>0</td>\n",
       "      <td>0</td>\n",
       "      <td>0</td>\n",
       "      <td>0</td>\n",
       "      <td>0</td>\n",
       "      <td>0</td>\n",
       "      <td>0</td>\n",
       "      <td>0</td>\n",
       "      <td>0</td>\n",
       "      <td>0</td>\n",
       "    </tr>\n",
       "    <tr>\n",
       "      <th>7</th>\n",
       "      <td>0</td>\n",
       "      <td>0.205594</td>\n",
       "      <td>778</td>\n",
       "      <td>0</td>\n",
       "      <td>1</td>\n",
       "      <td>1</td>\n",
       "      <td>1</td>\n",
       "      <td>0</td>\n",
       "      <td>0</td>\n",
       "      <td>0</td>\n",
       "      <td>0</td>\n",
       "      <td>0</td>\n",
       "      <td>0</td>\n",
       "      <td>0</td>\n",
       "      <td>0</td>\n",
       "    </tr>\n",
       "    <tr>\n",
       "      <th>8</th>\n",
       "      <td>0</td>\n",
       "      <td>0.002678</td>\n",
       "      <td>6942</td>\n",
       "      <td>0</td>\n",
       "      <td>1</td>\n",
       "      <td>0</td>\n",
       "      <td>0</td>\n",
       "      <td>0</td>\n",
       "      <td>0</td>\n",
       "      <td>0</td>\n",
       "      <td>0</td>\n",
       "      <td>0</td>\n",
       "      <td>0</td>\n",
       "      <td>0</td>\n",
       "      <td>0</td>\n",
       "    </tr>\n",
       "    <tr>\n",
       "      <th>9</th>\n",
       "      <td>0</td>\n",
       "      <td>0.096716</td>\n",
       "      <td>4440</td>\n",
       "      <td>0</td>\n",
       "      <td>1</td>\n",
       "      <td>0</td>\n",
       "      <td>0</td>\n",
       "      <td>0</td>\n",
       "      <td>0</td>\n",
       "      <td>0</td>\n",
       "      <td>0</td>\n",
       "      <td>0</td>\n",
       "      <td>0</td>\n",
       "      <td>0</td>\n",
       "      <td>0</td>\n",
       "    </tr>\n",
       "  </tbody>\n",
       "</table>\n",
       "</div>"
      ],
      "text/plain": [
       "   Converted  Converted_prob  Prospect ID  Predicted  0.0  0.1  0.2  0.3  0.4  \\\n",
       "0          1        0.283149         9196          0    1    1    1    0    0   \n",
       "1          0        0.031440         4696          0    1    0    0    0    0   \n",
       "2          0        0.576636         3274          1    1    1    1    1    1   \n",
       "3          0        0.006433         2164          0    1    0    0    0    0   \n",
       "4          1        0.989105         1667          1    1    1    1    1    1   \n",
       "5          0        0.130813         7024          0    1    1    0    0    0   \n",
       "6          0        0.024219         8018          0    1    0    0    0    0   \n",
       "7          0        0.205594          778          0    1    1    1    0    0   \n",
       "8          0        0.002678         6942          0    1    0    0    0    0   \n",
       "9          0        0.096716         4440          0    1    0    0    0    0   \n",
       "\n",
       "   0.5  0.6  0.7  0.8  0.9  final_Predicted  \n",
       "0    0    0    0    0    0                0  \n",
       "1    0    0    0    0    0                0  \n",
       "2    1    0    0    0    0                1  \n",
       "3    0    0    0    0    0                0  \n",
       "4    1    1    1    1    1                1  \n",
       "5    0    0    0    0    0                0  \n",
       "6    0    0    0    0    0                0  \n",
       "7    0    0    0    0    0                0  \n",
       "8    0    0    0    0    0                0  \n",
       "9    0    0    0    0    0                0  "
      ]
     },
     "execution_count": 139,
     "metadata": {},
     "output_type": "execute_result"
    }
   ],
   "source": [
    "# so here we can see that 0.3 is the optimal point to take it as a cutoff probability\n",
    "\n",
    "y_train_pred_final['final_Predicted'] = y_train_pred_final.Converted_prob.map(lambda x:1 if x > 0.3 else 0)\n",
    "y_train_pred_final.head(10)"
   ]
  },
  {
   "cell_type": "code",
   "execution_count": 141,
   "id": "c1c6cf20",
   "metadata": {},
   "outputs": [
    {
     "data": {
      "text/html": [
       "<div>\n",
       "<style scoped>\n",
       "    .dataframe tbody tr th:only-of-type {\n",
       "        vertical-align: middle;\n",
       "    }\n",
       "\n",
       "    .dataframe tbody tr th {\n",
       "        vertical-align: top;\n",
       "    }\n",
       "\n",
       "    .dataframe thead th {\n",
       "        text-align: right;\n",
       "    }\n",
       "</style>\n",
       "<table border=\"1\" class=\"dataframe\">\n",
       "  <thead>\n",
       "    <tr style=\"text-align: right;\">\n",
       "      <th></th>\n",
       "      <th>Converted</th>\n",
       "      <th>Converted_prob</th>\n",
       "      <th>Prospect ID</th>\n",
       "      <th>final_Predicted</th>\n",
       "      <th>Lead_score</th>\n",
       "    </tr>\n",
       "  </thead>\n",
       "  <tbody>\n",
       "    <tr>\n",
       "      <th>0</th>\n",
       "      <td>1</td>\n",
       "      <td>0.283149</td>\n",
       "      <td>9196</td>\n",
       "      <td>0</td>\n",
       "      <td>28</td>\n",
       "    </tr>\n",
       "    <tr>\n",
       "      <th>1</th>\n",
       "      <td>0</td>\n",
       "      <td>0.031440</td>\n",
       "      <td>4696</td>\n",
       "      <td>0</td>\n",
       "      <td>3</td>\n",
       "    </tr>\n",
       "    <tr>\n",
       "      <th>2</th>\n",
       "      <td>0</td>\n",
       "      <td>0.576636</td>\n",
       "      <td>3274</td>\n",
       "      <td>1</td>\n",
       "      <td>58</td>\n",
       "    </tr>\n",
       "    <tr>\n",
       "      <th>3</th>\n",
       "      <td>0</td>\n",
       "      <td>0.006433</td>\n",
       "      <td>2164</td>\n",
       "      <td>0</td>\n",
       "      <td>1</td>\n",
       "    </tr>\n",
       "    <tr>\n",
       "      <th>4</th>\n",
       "      <td>1</td>\n",
       "      <td>0.989105</td>\n",
       "      <td>1667</td>\n",
       "      <td>1</td>\n",
       "      <td>99</td>\n",
       "    </tr>\n",
       "  </tbody>\n",
       "</table>\n",
       "</div>"
      ],
      "text/plain": [
       "   Converted  Converted_prob  Prospect ID  final_Predicted  Lead_score\n",
       "0          1        0.283149         9196                0          28\n",
       "1          0        0.031440         4696                0           3\n",
       "2          0        0.576636         3274                1          58\n",
       "3          0        0.006433         2164                0           1\n",
       "4          1        0.989105         1667                1          99"
      ]
     },
     "execution_count": 141,
     "metadata": {},
     "output_type": "execute_result"
    }
   ],
   "source": [
    "y_train_pred_final['Lead_score'] = y_train_pred_final.Converted_prob.map(lambda x: round(x*100))\n",
    "\n",
    "y_train_pred_final[['Converted','Converted_prob','Prospect ID','final_Predicted','Lead_score']].head()"
   ]
  },
  {
   "cell_type": "code",
   "execution_count": 142,
   "id": "a44285c5",
   "metadata": {},
   "outputs": [
    {
     "data": {
      "text/plain": [
       "0.922929631402585"
      ]
     },
     "execution_count": 142,
     "metadata": {},
     "output_type": "execute_result"
    }
   ],
   "source": [
    "#Cheking overall accuraccy\n",
    "metrics.accuracy_score(y_train_pred_final.Converted,y_train_pred_final.final_Predicted)"
   ]
  },
  {
   "cell_type": "code",
   "execution_count": 144,
   "id": "7ea4eb7b",
   "metadata": {},
   "outputs": [
    {
     "data": {
      "text/plain": [
       "array([[3597,  285],\n",
       "       [ 198, 2187]], dtype=int64)"
      ]
     },
     "execution_count": 144,
     "metadata": {},
     "output_type": "execute_result"
    }
   ],
   "source": [
    "#Now creating another confusion matrix\n",
    "confusion2 = metrics.confusion_matrix(y_train_pred_final.Converted,y_train_pred_final.final_Predicted)\n",
    "confusion2"
   ]
  },
  {
   "cell_type": "code",
   "execution_count": 145,
   "id": "bc7d17b6",
   "metadata": {},
   "outputs": [],
   "source": [
    "TP = confusion[1,1] #TP\n",
    "\n",
    "TN = confusion[0,0] #TN\n",
    "\n",
    "FP = confusion[0,1] #FP\n",
    "\n",
    "FN = confusion[1,0] #FN"
   ]
  },
  {
   "cell_type": "code",
   "execution_count": 146,
   "id": "200c4bca",
   "metadata": {},
   "outputs": [
    {
     "data": {
      "text/plain": [
       "0.8821802935010482"
      ]
     },
     "execution_count": 146,
     "metadata": {},
     "output_type": "execute_result"
    }
   ],
   "source": [
    "#Let's see the sensitivity \n",
    "\n",
    "TP / float(TP+FN)"
   ]
  },
  {
   "cell_type": "code",
   "execution_count": 147,
   "id": "aa501253",
   "metadata": {},
   "outputs": [
    {
     "data": {
      "text/plain": [
       "0.9513137557959814"
      ]
     },
     "execution_count": 147,
     "metadata": {},
     "output_type": "execute_result"
    }
   ],
   "source": [
    "#Calculate specificity\n",
    "TN / float(TN+FP)"
   ]
  },
  {
   "cell_type": "markdown",
   "id": "fb9c5b17",
   "metadata": {},
   "source": [
    "### Observation"
   ]
  },
  {
   "cell_type": "markdown",
   "id": "4f03a32b",
   "metadata": {},
   "source": [
    "- So as we can see above module seems to be performing well. The ROC curve has a value of 0.97, Which is very good.\n",
    "- Train data values:\n",
    "    - Accuracy:92.29%\n",
    "    - Sensitivity:88.21%\n",
    "    - Specificity:95.13%"
   ]
  },
  {
   "cell_type": "code",
   "execution_count": 148,
   "id": "d655911f",
   "metadata": {},
   "outputs": [
    {
     "name": "stdout",
     "output_type": "stream",
     "text": [
      "0.04868624420401855\n"
     ]
    }
   ],
   "source": [
    "#Calculating False Positive Rate predictive conversion when customer does not converted\n",
    "print(FP / float(TN+FP))"
   ]
  },
  {
   "cell_type": "code",
   "execution_count": 149,
   "id": "d2ab715b",
   "metadata": {},
   "outputs": [
    {
     "name": "stdout",
     "output_type": "stream",
     "text": [
      "0.9175752289576974\n"
     ]
    }
   ],
   "source": [
    "#Positive predictive value\n",
    "print(TP / float(TP+FP))"
   ]
  },
  {
   "cell_type": "code",
   "execution_count": 150,
   "id": "b45f951a",
   "metadata": {},
   "outputs": [
    {
     "name": "stdout",
     "output_type": "stream",
     "text": [
      "0.9292903875188727\n"
     ]
    }
   ],
   "source": [
    "#Negative predictive value\n",
    "print(TN / float(TN+FN))"
   ]
  },
  {
   "cell_type": "code",
   "execution_count": 152,
   "id": "6c313160",
   "metadata": {},
   "outputs": [
    {
     "data": {
      "text/plain": [
       "0.9175752289576974"
      ]
     },
     "execution_count": 152,
     "metadata": {},
     "output_type": "execute_result"
    }
   ],
   "source": [
    "# Precision\n",
    "TP / TP+FP\n",
    "\n",
    "confusion[1,1]/(confusion[0,1]+confusion[1,1])"
   ]
  },
  {
   "cell_type": "code",
   "execution_count": 153,
   "id": "db2b3b3c",
   "metadata": {},
   "outputs": [
    {
     "data": {
      "text/plain": [
       "0.8821802935010482"
      ]
     },
     "execution_count": 153,
     "metadata": {},
     "output_type": "execute_result"
    }
   ],
   "source": [
    "# Recall\n",
    "TP / TP+FN\n",
    "confusion[1,1]/(confusion[1,0]+confusion[1,1])"
   ]
  },
  {
   "cell_type": "code",
   "execution_count": 154,
   "id": "e164ba5e",
   "metadata": {},
   "outputs": [],
   "source": [
    "from sklearn.metrics import precision_score, recall_score"
   ]
  },
  {
   "cell_type": "code",
   "execution_count": 156,
   "id": "1b142633",
   "metadata": {},
   "outputs": [
    {
     "data": {
      "text/plain": [
       "0.8847087378640777"
      ]
     },
     "execution_count": 156,
     "metadata": {},
     "output_type": "execute_result"
    }
   ],
   "source": [
    "precision_score(y_train_pred_final.Converted,y_train_pred_final.final_Predicted)"
   ]
  },
  {
   "cell_type": "code",
   "execution_count": 159,
   "id": "bb2248ba",
   "metadata": {},
   "outputs": [
    {
     "data": {
      "text/plain": [
       "0.9169811320754717"
      ]
     },
     "execution_count": 159,
     "metadata": {},
     "output_type": "execute_result"
    }
   ],
   "source": [
    "recall_score(y_train_pred_final.Converted,y_train_pred_final.final_Predicted)"
   ]
  },
  {
   "cell_type": "code",
   "execution_count": 160,
   "id": "fae956f6",
   "metadata": {},
   "outputs": [
    {
     "data": {
      "text/html": [
       "<div>\n",
       "<style scoped>\n",
       "    .dataframe tbody tr th:only-of-type {\n",
       "        vertical-align: middle;\n",
       "    }\n",
       "\n",
       "    .dataframe tbody tr th {\n",
       "        vertical-align: top;\n",
       "    }\n",
       "\n",
       "    .dataframe thead th {\n",
       "        text-align: right;\n",
       "    }\n",
       "</style>\n",
       "<table border=\"1\" class=\"dataframe\">\n",
       "  <thead>\n",
       "    <tr style=\"text-align: right;\">\n",
       "      <th></th>\n",
       "      <th>TotalVisits</th>\n",
       "      <th>Total Time Spent on Website</th>\n",
       "      <th>Page Views Per Visit</th>\n",
       "      <th>Lead Origin_Landing Page Submission</th>\n",
       "      <th>Lead Origin_Lead Add Form</th>\n",
       "      <th>Lead Origin_Lead Import</th>\n",
       "      <th>What is your current occupation_Housewife</th>\n",
       "      <th>What is your current occupation_Other</th>\n",
       "      <th>What is your current occupation_Student</th>\n",
       "      <th>What is your current occupation_Unemployed</th>\n",
       "      <th>...</th>\n",
       "      <th>Last Notable Activity_Olark Chat Conversation</th>\n",
       "      <th>Last Notable Activity_Page Visited on Website</th>\n",
       "      <th>Last Notable Activity_SMS Sent</th>\n",
       "      <th>Tags_Busy</th>\n",
       "      <th>Tags_Closed by Horizzon</th>\n",
       "      <th>Tags_Interested in other courses</th>\n",
       "      <th>Tags_Lost to EINS</th>\n",
       "      <th>Tags_Other_Tags</th>\n",
       "      <th>Tags_Ringing</th>\n",
       "      <th>Tags_Will revert after reading the email</th>\n",
       "    </tr>\n",
       "  </thead>\n",
       "  <tbody>\n",
       "    <tr>\n",
       "      <th>7681</th>\n",
       "      <td>0.575687</td>\n",
       "      <td>-0.311318</td>\n",
       "      <td>0.092860</td>\n",
       "      <td>1</td>\n",
       "      <td>0</td>\n",
       "      <td>0</td>\n",
       "      <td>0</td>\n",
       "      <td>0</td>\n",
       "      <td>0</td>\n",
       "      <td>1</td>\n",
       "      <td>...</td>\n",
       "      <td>0</td>\n",
       "      <td>0</td>\n",
       "      <td>1</td>\n",
       "      <td>0</td>\n",
       "      <td>0</td>\n",
       "      <td>0</td>\n",
       "      <td>0</td>\n",
       "      <td>0</td>\n",
       "      <td>1</td>\n",
       "      <td>0</td>\n",
       "    </tr>\n",
       "    <tr>\n",
       "      <th>984</th>\n",
       "      <td>-0.090676</td>\n",
       "      <td>-0.550262</td>\n",
       "      <td>0.356568</td>\n",
       "      <td>1</td>\n",
       "      <td>0</td>\n",
       "      <td>0</td>\n",
       "      <td>0</td>\n",
       "      <td>0</td>\n",
       "      <td>0</td>\n",
       "      <td>1</td>\n",
       "      <td>...</td>\n",
       "      <td>0</td>\n",
       "      <td>0</td>\n",
       "      <td>0</td>\n",
       "      <td>0</td>\n",
       "      <td>0</td>\n",
       "      <td>0</td>\n",
       "      <td>0</td>\n",
       "      <td>1</td>\n",
       "      <td>0</td>\n",
       "      <td>0</td>\n",
       "    </tr>\n",
       "    <tr>\n",
       "      <th>8135</th>\n",
       "      <td>-0.423857</td>\n",
       "      <td>0.812462</td>\n",
       "      <td>-0.170849</td>\n",
       "      <td>1</td>\n",
       "      <td>0</td>\n",
       "      <td>0</td>\n",
       "      <td>0</td>\n",
       "      <td>0</td>\n",
       "      <td>0</td>\n",
       "      <td>1</td>\n",
       "      <td>...</td>\n",
       "      <td>0</td>\n",
       "      <td>0</td>\n",
       "      <td>1</td>\n",
       "      <td>0</td>\n",
       "      <td>0</td>\n",
       "      <td>0</td>\n",
       "      <td>0</td>\n",
       "      <td>0</td>\n",
       "      <td>0</td>\n",
       "      <td>0</td>\n",
       "    </tr>\n",
       "    <tr>\n",
       "      <th>6915</th>\n",
       "      <td>0.242505</td>\n",
       "      <td>-0.628665</td>\n",
       "      <td>-0.170849</td>\n",
       "      <td>1</td>\n",
       "      <td>0</td>\n",
       "      <td>0</td>\n",
       "      <td>0</td>\n",
       "      <td>0</td>\n",
       "      <td>0</td>\n",
       "      <td>1</td>\n",
       "      <td>...</td>\n",
       "      <td>0</td>\n",
       "      <td>0</td>\n",
       "      <td>0</td>\n",
       "      <td>0</td>\n",
       "      <td>0</td>\n",
       "      <td>0</td>\n",
       "      <td>0</td>\n",
       "      <td>0</td>\n",
       "      <td>1</td>\n",
       "      <td>0</td>\n",
       "    </tr>\n",
       "    <tr>\n",
       "      <th>2712</th>\n",
       "      <td>-0.090676</td>\n",
       "      <td>-0.421456</td>\n",
       "      <td>0.356568</td>\n",
       "      <td>0</td>\n",
       "      <td>0</td>\n",
       "      <td>0</td>\n",
       "      <td>0</td>\n",
       "      <td>0</td>\n",
       "      <td>0</td>\n",
       "      <td>1</td>\n",
       "      <td>...</td>\n",
       "      <td>0</td>\n",
       "      <td>0</td>\n",
       "      <td>0</td>\n",
       "      <td>0</td>\n",
       "      <td>0</td>\n",
       "      <td>0</td>\n",
       "      <td>0</td>\n",
       "      <td>0</td>\n",
       "      <td>0</td>\n",
       "      <td>1</td>\n",
       "    </tr>\n",
       "  </tbody>\n",
       "</table>\n",
       "<p>5 rows × 51 columns</p>\n",
       "</div>"
      ],
      "text/plain": [
       "      TotalVisits  Total Time Spent on Website  Page Views Per Visit  \\\n",
       "7681     0.575687                    -0.311318              0.092860   \n",
       "984     -0.090676                    -0.550262              0.356568   \n",
       "8135    -0.423857                     0.812462             -0.170849   \n",
       "6915     0.242505                    -0.628665             -0.170849   \n",
       "2712    -0.090676                    -0.421456              0.356568   \n",
       "\n",
       "      Lead Origin_Landing Page Submission  Lead Origin_Lead Add Form  \\\n",
       "7681                                    1                          0   \n",
       "984                                     1                          0   \n",
       "8135                                    1                          0   \n",
       "6915                                    1                          0   \n",
       "2712                                    0                          0   \n",
       "\n",
       "      Lead Origin_Lead Import  What is your current occupation_Housewife  \\\n",
       "7681                        0                                          0   \n",
       "984                         0                                          0   \n",
       "8135                        0                                          0   \n",
       "6915                        0                                          0   \n",
       "2712                        0                                          0   \n",
       "\n",
       "      What is your current occupation_Other  \\\n",
       "7681                                      0   \n",
       "984                                       0   \n",
       "8135                                      0   \n",
       "6915                                      0   \n",
       "2712                                      0   \n",
       "\n",
       "      What is your current occupation_Student  \\\n",
       "7681                                        0   \n",
       "984                                         0   \n",
       "8135                                        0   \n",
       "6915                                        0   \n",
       "2712                                        0   \n",
       "\n",
       "      What is your current occupation_Unemployed  ...  \\\n",
       "7681                                           1  ...   \n",
       "984                                            1  ...   \n",
       "8135                                           1  ...   \n",
       "6915                                           1  ...   \n",
       "2712                                           1  ...   \n",
       "\n",
       "      Last Notable Activity_Olark Chat Conversation  \\\n",
       "7681                                              0   \n",
       "984                                               0   \n",
       "8135                                              0   \n",
       "6915                                              0   \n",
       "2712                                              0   \n",
       "\n",
       "      Last Notable Activity_Page Visited on Website  \\\n",
       "7681                                              0   \n",
       "984                                               0   \n",
       "8135                                              0   \n",
       "6915                                              0   \n",
       "2712                                              0   \n",
       "\n",
       "      Last Notable Activity_SMS Sent  Tags_Busy  Tags_Closed by Horizzon  \\\n",
       "7681                               1          0                        0   \n",
       "984                                0          0                        0   \n",
       "8135                               1          0                        0   \n",
       "6915                               0          0                        0   \n",
       "2712                               0          0                        0   \n",
       "\n",
       "      Tags_Interested in other courses  Tags_Lost to EINS  Tags_Other_Tags  \\\n",
       "7681                                 0                  0                0   \n",
       "984                                  0                  0                1   \n",
       "8135                                 0                  0                0   \n",
       "6915                                 0                  0                0   \n",
       "2712                                 0                  0                0   \n",
       "\n",
       "      Tags_Ringing  Tags_Will revert after reading the email  \n",
       "7681             1                                         0  \n",
       "984              0                                         0  \n",
       "8135             0                                         0  \n",
       "6915             1                                         0  \n",
       "2712             0                                         1  \n",
       "\n",
       "[5 rows x 51 columns]"
      ]
     },
     "execution_count": 160,
     "metadata": {},
     "output_type": "execute_result"
    }
   ],
   "source": [
    "#scaling test set\n",
    "\n",
    "num_cols=X_test.select_dtypes(include=['float64','int64']).columns\n",
    "\n",
    "X_test[num_cols] = scaler.fit_transform(X_test[num_cols])\n",
    "\n",
    "X_test.head()"
   ]
  },
  {
   "cell_type": "code",
   "execution_count": 161,
   "id": "b73d1b28",
   "metadata": {},
   "outputs": [
    {
     "data": {
      "text/html": [
       "<div>\n",
       "<style scoped>\n",
       "    .dataframe tbody tr th:only-of-type {\n",
       "        vertical-align: middle;\n",
       "    }\n",
       "\n",
       "    .dataframe tbody tr th {\n",
       "        vertical-align: top;\n",
       "    }\n",
       "\n",
       "    .dataframe thead th {\n",
       "        text-align: right;\n",
       "    }\n",
       "</style>\n",
       "<table border=\"1\" class=\"dataframe\">\n",
       "  <thead>\n",
       "    <tr style=\"text-align: right;\">\n",
       "      <th></th>\n",
       "      <th>Total Time Spent on Website</th>\n",
       "      <th>Lead Origin_Lead Add Form</th>\n",
       "      <th>Lead Source_Direct Traffic</th>\n",
       "      <th>Lead Source_Welingak Website</th>\n",
       "      <th>Last Activity_SMS Sent</th>\n",
       "      <th>Last Notable Activity_Modified</th>\n",
       "      <th>Last Notable Activity_Olark Chat Conversation</th>\n",
       "      <th>Tags_Closed by Horizzon</th>\n",
       "      <th>Tags_Interested in other courses</th>\n",
       "      <th>Tags_Lost to EINS</th>\n",
       "      <th>Tags_Other_Tags</th>\n",
       "      <th>Tags_Ringing</th>\n",
       "      <th>Tags_Will revert after reading the email</th>\n",
       "    </tr>\n",
       "  </thead>\n",
       "  <tbody>\n",
       "    <tr>\n",
       "      <th>7681</th>\n",
       "      <td>-0.311318</td>\n",
       "      <td>0</td>\n",
       "      <td>1</td>\n",
       "      <td>0</td>\n",
       "      <td>1</td>\n",
       "      <td>0</td>\n",
       "      <td>0</td>\n",
       "      <td>0</td>\n",
       "      <td>0</td>\n",
       "      <td>0</td>\n",
       "      <td>0</td>\n",
       "      <td>1</td>\n",
       "      <td>0</td>\n",
       "    </tr>\n",
       "    <tr>\n",
       "      <th>984</th>\n",
       "      <td>-0.550262</td>\n",
       "      <td>0</td>\n",
       "      <td>0</td>\n",
       "      <td>0</td>\n",
       "      <td>1</td>\n",
       "      <td>1</td>\n",
       "      <td>0</td>\n",
       "      <td>0</td>\n",
       "      <td>0</td>\n",
       "      <td>0</td>\n",
       "      <td>1</td>\n",
       "      <td>0</td>\n",
       "      <td>0</td>\n",
       "    </tr>\n",
       "    <tr>\n",
       "      <th>8135</th>\n",
       "      <td>0.812462</td>\n",
       "      <td>0</td>\n",
       "      <td>1</td>\n",
       "      <td>0</td>\n",
       "      <td>1</td>\n",
       "      <td>0</td>\n",
       "      <td>0</td>\n",
       "      <td>0</td>\n",
       "      <td>0</td>\n",
       "      <td>0</td>\n",
       "      <td>0</td>\n",
       "      <td>0</td>\n",
       "      <td>0</td>\n",
       "    </tr>\n",
       "    <tr>\n",
       "      <th>6915</th>\n",
       "      <td>-0.628665</td>\n",
       "      <td>0</td>\n",
       "      <td>0</td>\n",
       "      <td>0</td>\n",
       "      <td>0</td>\n",
       "      <td>0</td>\n",
       "      <td>0</td>\n",
       "      <td>0</td>\n",
       "      <td>0</td>\n",
       "      <td>0</td>\n",
       "      <td>0</td>\n",
       "      <td>1</td>\n",
       "      <td>0</td>\n",
       "    </tr>\n",
       "    <tr>\n",
       "      <th>2712</th>\n",
       "      <td>-0.421456</td>\n",
       "      <td>0</td>\n",
       "      <td>0</td>\n",
       "      <td>0</td>\n",
       "      <td>0</td>\n",
       "      <td>0</td>\n",
       "      <td>0</td>\n",
       "      <td>0</td>\n",
       "      <td>0</td>\n",
       "      <td>0</td>\n",
       "      <td>0</td>\n",
       "      <td>0</td>\n",
       "      <td>1</td>\n",
       "    </tr>\n",
       "  </tbody>\n",
       "</table>\n",
       "</div>"
      ],
      "text/plain": [
       "      Total Time Spent on Website  Lead Origin_Lead Add Form  \\\n",
       "7681                    -0.311318                          0   \n",
       "984                     -0.550262                          0   \n",
       "8135                     0.812462                          0   \n",
       "6915                    -0.628665                          0   \n",
       "2712                    -0.421456                          0   \n",
       "\n",
       "      Lead Source_Direct Traffic  Lead Source_Welingak Website  \\\n",
       "7681                           1                             0   \n",
       "984                            0                             0   \n",
       "8135                           1                             0   \n",
       "6915                           0                             0   \n",
       "2712                           0                             0   \n",
       "\n",
       "      Last Activity_SMS Sent  Last Notable Activity_Modified  \\\n",
       "7681                       1                               0   \n",
       "984                        1                               1   \n",
       "8135                       1                               0   \n",
       "6915                       0                               0   \n",
       "2712                       0                               0   \n",
       "\n",
       "      Last Notable Activity_Olark Chat Conversation  Tags_Closed by Horizzon  \\\n",
       "7681                                              0                        0   \n",
       "984                                               0                        0   \n",
       "8135                                              0                        0   \n",
       "6915                                              0                        0   \n",
       "2712                                              0                        0   \n",
       "\n",
       "      Tags_Interested in other courses  Tags_Lost to EINS  Tags_Other_Tags  \\\n",
       "7681                                 0                  0                0   \n",
       "984                                  0                  0                1   \n",
       "8135                                 0                  0                0   \n",
       "6915                                 0                  0                0   \n",
       "2712                                 0                  0                0   \n",
       "\n",
       "      Tags_Ringing  Tags_Will revert after reading the email  \n",
       "7681             1                                         0  \n",
       "984              0                                         0  \n",
       "8135             0                                         0  \n",
       "6915             1                                         0  \n",
       "2712             0                                         1  "
      ]
     },
     "execution_count": 161,
     "metadata": {},
     "output_type": "execute_result"
    }
   ],
   "source": [
    "X_test = X_test[col]\n",
    "X_test.head()"
   ]
  },
  {
   "cell_type": "code",
   "execution_count": 162,
   "id": "cc80362d",
   "metadata": {},
   "outputs": [],
   "source": [
    "X_test_sm = sm.add_constant(X_test)"
   ]
  },
  {
   "cell_type": "markdown",
   "id": "0152ba11",
   "metadata": {},
   "source": [
    "### Precdiction on test set"
   ]
  },
  {
   "cell_type": "code",
   "execution_count": 163,
   "id": "28dad109",
   "metadata": {},
   "outputs": [],
   "source": [
    "y_test_pred = res.predict(X_test_sm)"
   ]
  },
  {
   "cell_type": "code",
   "execution_count": 164,
   "id": "9d78e38d",
   "metadata": {},
   "outputs": [
    {
     "data": {
      "text/plain": [
       "7681    0.024819\n",
       "984     0.025692\n",
       "8135    0.686054\n",
       "6915    0.005880\n",
       "2712    0.953208\n",
       "244     0.002398\n",
       "4698    0.014697\n",
       "8287    0.027549\n",
       "6791    0.981608\n",
       "8970    0.005703\n",
       "dtype: float64"
      ]
     },
     "execution_count": 164,
     "metadata": {},
     "output_type": "execute_result"
    }
   ],
   "source": [
    "y_test_pred[:10]"
   ]
  },
  {
   "cell_type": "code",
   "execution_count": 165,
   "id": "34a5e627",
   "metadata": {},
   "outputs": [],
   "source": [
    "#Converting y_pred to a dataframe which is an array\n",
    "y_pred_1 = pd.DataFrame(y_test_pred)"
   ]
  },
  {
   "cell_type": "code",
   "execution_count": 166,
   "id": "0bf83a34",
   "metadata": {},
   "outputs": [
    {
     "data": {
      "text/html": [
       "<div>\n",
       "<style scoped>\n",
       "    .dataframe tbody tr th:only-of-type {\n",
       "        vertical-align: middle;\n",
       "    }\n",
       "\n",
       "    .dataframe tbody tr th {\n",
       "        vertical-align: top;\n",
       "    }\n",
       "\n",
       "    .dataframe thead th {\n",
       "        text-align: right;\n",
       "    }\n",
       "</style>\n",
       "<table border=\"1\" class=\"dataframe\">\n",
       "  <thead>\n",
       "    <tr style=\"text-align: right;\">\n",
       "      <th></th>\n",
       "      <th>0</th>\n",
       "    </tr>\n",
       "  </thead>\n",
       "  <tbody>\n",
       "    <tr>\n",
       "      <th>7681</th>\n",
       "      <td>0.024819</td>\n",
       "    </tr>\n",
       "    <tr>\n",
       "      <th>984</th>\n",
       "      <td>0.025692</td>\n",
       "    </tr>\n",
       "    <tr>\n",
       "      <th>8135</th>\n",
       "      <td>0.686054</td>\n",
       "    </tr>\n",
       "    <tr>\n",
       "      <th>6915</th>\n",
       "      <td>0.005880</td>\n",
       "    </tr>\n",
       "    <tr>\n",
       "      <th>2712</th>\n",
       "      <td>0.953208</td>\n",
       "    </tr>\n",
       "  </tbody>\n",
       "</table>\n",
       "</div>"
      ],
      "text/plain": [
       "             0\n",
       "7681  0.024819\n",
       "984   0.025692\n",
       "8135  0.686054\n",
       "6915  0.005880\n",
       "2712  0.953208"
      ]
     },
     "execution_count": 166,
     "metadata": {},
     "output_type": "execute_result"
    }
   ],
   "source": [
    "y_pred_1.head()"
   ]
  },
  {
   "cell_type": "code",
   "execution_count": 167,
   "id": "4d94ad1d",
   "metadata": {},
   "outputs": [],
   "source": [
    "#Converting y_test to dataframe\n",
    "\n",
    "y_test_df = pd.DataFrame(y_test)"
   ]
  },
  {
   "cell_type": "code",
   "execution_count": 168,
   "id": "4808a2bf",
   "metadata": {},
   "outputs": [],
   "source": [
    "#Putting CustId to index\n",
    "y_test_df['Prospect ID'] = y_test_df.index"
   ]
  },
  {
   "cell_type": "code",
   "execution_count": 170,
   "id": "7273e5d8",
   "metadata": {},
   "outputs": [],
   "source": [
    "#REmoving index from both dataframe to append them\n",
    "\n",
    "y_pred_1.reset_index(drop=True,inplace=True)\n",
    "y_test_df.reset_index(drop=True,inplace=True)"
   ]
  },
  {
   "cell_type": "code",
   "execution_count": 171,
   "id": "474204f8",
   "metadata": {},
   "outputs": [],
   "source": [
    "#Appending y_test_df and y_pred_1\n",
    "\n",
    "y_pred_final = pd.concat([y_test_df,y_pred_1],axis=1)"
   ]
  },
  {
   "cell_type": "code",
   "execution_count": 172,
   "id": "4e816910",
   "metadata": {},
   "outputs": [
    {
     "data": {
      "text/html": [
       "<div>\n",
       "<style scoped>\n",
       "    .dataframe tbody tr th:only-of-type {\n",
       "        vertical-align: middle;\n",
       "    }\n",
       "\n",
       "    .dataframe tbody tr th {\n",
       "        vertical-align: top;\n",
       "    }\n",
       "\n",
       "    .dataframe thead th {\n",
       "        text-align: right;\n",
       "    }\n",
       "</style>\n",
       "<table border=\"1\" class=\"dataframe\">\n",
       "  <thead>\n",
       "    <tr style=\"text-align: right;\">\n",
       "      <th></th>\n",
       "      <th>Converted</th>\n",
       "      <th>Prospect ID</th>\n",
       "      <th>0</th>\n",
       "    </tr>\n",
       "  </thead>\n",
       "  <tbody>\n",
       "    <tr>\n",
       "      <th>0</th>\n",
       "      <td>0</td>\n",
       "      <td>7681</td>\n",
       "      <td>0.024819</td>\n",
       "    </tr>\n",
       "    <tr>\n",
       "      <th>1</th>\n",
       "      <td>0</td>\n",
       "      <td>984</td>\n",
       "      <td>0.025692</td>\n",
       "    </tr>\n",
       "    <tr>\n",
       "      <th>2</th>\n",
       "      <td>0</td>\n",
       "      <td>8135</td>\n",
       "      <td>0.686054</td>\n",
       "    </tr>\n",
       "    <tr>\n",
       "      <th>3</th>\n",
       "      <td>0</td>\n",
       "      <td>6915</td>\n",
       "      <td>0.005880</td>\n",
       "    </tr>\n",
       "    <tr>\n",
       "      <th>4</th>\n",
       "      <td>1</td>\n",
       "      <td>2712</td>\n",
       "      <td>0.953208</td>\n",
       "    </tr>\n",
       "  </tbody>\n",
       "</table>\n",
       "</div>"
      ],
      "text/plain": [
       "   Converted  Prospect ID         0\n",
       "0          0         7681  0.024819\n",
       "1          0          984  0.025692\n",
       "2          0         8135  0.686054\n",
       "3          0         6915  0.005880\n",
       "4          1         2712  0.953208"
      ]
     },
     "execution_count": 172,
     "metadata": {},
     "output_type": "execute_result"
    }
   ],
   "source": [
    "y_pred_final.head()"
   ]
  },
  {
   "cell_type": "code",
   "execution_count": 173,
   "id": "1500c924",
   "metadata": {},
   "outputs": [],
   "source": [
    "#Renaming the column \n",
    "y_pred_final = y_pred_final.rename(columns={0 : 'Converted_prob'})"
   ]
  },
  {
   "cell_type": "code",
   "execution_count": 174,
   "id": "844861ed",
   "metadata": {},
   "outputs": [
    {
     "data": {
      "text/html": [
       "<div>\n",
       "<style scoped>\n",
       "    .dataframe tbody tr th:only-of-type {\n",
       "        vertical-align: middle;\n",
       "    }\n",
       "\n",
       "    .dataframe tbody tr th {\n",
       "        vertical-align: top;\n",
       "    }\n",
       "\n",
       "    .dataframe thead th {\n",
       "        text-align: right;\n",
       "    }\n",
       "</style>\n",
       "<table border=\"1\" class=\"dataframe\">\n",
       "  <thead>\n",
       "    <tr style=\"text-align: right;\">\n",
       "      <th></th>\n",
       "      <th>Converted</th>\n",
       "      <th>Prospect ID</th>\n",
       "      <th>Converted_prob</th>\n",
       "    </tr>\n",
       "  </thead>\n",
       "  <tbody>\n",
       "    <tr>\n",
       "      <th>0</th>\n",
       "      <td>0</td>\n",
       "      <td>7681</td>\n",
       "      <td>0.024819</td>\n",
       "    </tr>\n",
       "    <tr>\n",
       "      <th>1</th>\n",
       "      <td>0</td>\n",
       "      <td>984</td>\n",
       "      <td>0.025692</td>\n",
       "    </tr>\n",
       "    <tr>\n",
       "      <th>2</th>\n",
       "      <td>0</td>\n",
       "      <td>8135</td>\n",
       "      <td>0.686054</td>\n",
       "    </tr>\n",
       "    <tr>\n",
       "      <th>3</th>\n",
       "      <td>0</td>\n",
       "      <td>6915</td>\n",
       "      <td>0.005880</td>\n",
       "    </tr>\n",
       "    <tr>\n",
       "      <th>4</th>\n",
       "      <td>1</td>\n",
       "      <td>2712</td>\n",
       "      <td>0.953208</td>\n",
       "    </tr>\n",
       "  </tbody>\n",
       "</table>\n",
       "</div>"
      ],
      "text/plain": [
       "   Converted  Prospect ID  Converted_prob\n",
       "0          0         7681        0.024819\n",
       "1          0          984        0.025692\n",
       "2          0         8135        0.686054\n",
       "3          0         6915        0.005880\n",
       "4          1         2712        0.953208"
      ]
     },
     "execution_count": 174,
     "metadata": {},
     "output_type": "execute_result"
    }
   ],
   "source": [
    "y_pred_final.head()"
   ]
  },
  {
   "cell_type": "code",
   "execution_count": 175,
   "id": "2e61304a",
   "metadata": {},
   "outputs": [],
   "source": [
    "# Rearranging the columns\n",
    "y_pred_final = y_pred_final[['Prospect ID','Converted','Converted_prob']]\n",
    "y_pred_final['Lead_Score'] = y_pred_final.Converted_prob.map( lambda x: round(x*100))"
   ]
  },
  {
   "cell_type": "code",
   "execution_count": 176,
   "id": "73643475",
   "metadata": {},
   "outputs": [
    {
     "data": {
      "text/html": [
       "<div>\n",
       "<style scoped>\n",
       "    .dataframe tbody tr th:only-of-type {\n",
       "        vertical-align: middle;\n",
       "    }\n",
       "\n",
       "    .dataframe tbody tr th {\n",
       "        vertical-align: top;\n",
       "    }\n",
       "\n",
       "    .dataframe thead th {\n",
       "        text-align: right;\n",
       "    }\n",
       "</style>\n",
       "<table border=\"1\" class=\"dataframe\">\n",
       "  <thead>\n",
       "    <tr style=\"text-align: right;\">\n",
       "      <th></th>\n",
       "      <th>Prospect ID</th>\n",
       "      <th>Converted</th>\n",
       "      <th>Converted_prob</th>\n",
       "      <th>Lead_Score</th>\n",
       "    </tr>\n",
       "  </thead>\n",
       "  <tbody>\n",
       "    <tr>\n",
       "      <th>0</th>\n",
       "      <td>7681</td>\n",
       "      <td>0</td>\n",
       "      <td>0.024819</td>\n",
       "      <td>2</td>\n",
       "    </tr>\n",
       "    <tr>\n",
       "      <th>1</th>\n",
       "      <td>984</td>\n",
       "      <td>0</td>\n",
       "      <td>0.025692</td>\n",
       "      <td>3</td>\n",
       "    </tr>\n",
       "    <tr>\n",
       "      <th>2</th>\n",
       "      <td>8135</td>\n",
       "      <td>0</td>\n",
       "      <td>0.686054</td>\n",
       "      <td>69</td>\n",
       "    </tr>\n",
       "    <tr>\n",
       "      <th>3</th>\n",
       "      <td>6915</td>\n",
       "      <td>0</td>\n",
       "      <td>0.005880</td>\n",
       "      <td>1</td>\n",
       "    </tr>\n",
       "    <tr>\n",
       "      <th>4</th>\n",
       "      <td>2712</td>\n",
       "      <td>1</td>\n",
       "      <td>0.953208</td>\n",
       "      <td>95</td>\n",
       "    </tr>\n",
       "  </tbody>\n",
       "</table>\n",
       "</div>"
      ],
      "text/plain": [
       "   Prospect ID  Converted  Converted_prob  Lead_Score\n",
       "0         7681          0        0.024819           2\n",
       "1          984          0        0.025692           3\n",
       "2         8135          0        0.686054          69\n",
       "3         6915          0        0.005880           1\n",
       "4         2712          1        0.953208          95"
      ]
     },
     "execution_count": 176,
     "metadata": {},
     "output_type": "execute_result"
    }
   ],
   "source": [
    "#Let's see the head of y_pred_final\n",
    "y_pred_final.head()"
   ]
  },
  {
   "cell_type": "code",
   "execution_count": 177,
   "id": "0cf4f8d8",
   "metadata": {},
   "outputs": [],
   "source": [
    "y_pred_final['final_Predicted'] = y_pred_final.Converted_prob.map(lambda x:1 if x > 0.3 else 0)"
   ]
  },
  {
   "cell_type": "code",
   "execution_count": 178,
   "id": "b76f1eec",
   "metadata": {},
   "outputs": [
    {
     "data": {
      "text/html": [
       "<div>\n",
       "<style scoped>\n",
       "    .dataframe tbody tr th:only-of-type {\n",
       "        vertical-align: middle;\n",
       "    }\n",
       "\n",
       "    .dataframe tbody tr th {\n",
       "        vertical-align: top;\n",
       "    }\n",
       "\n",
       "    .dataframe thead th {\n",
       "        text-align: right;\n",
       "    }\n",
       "</style>\n",
       "<table border=\"1\" class=\"dataframe\">\n",
       "  <thead>\n",
       "    <tr style=\"text-align: right;\">\n",
       "      <th></th>\n",
       "      <th>Prospect ID</th>\n",
       "      <th>Converted</th>\n",
       "      <th>Converted_prob</th>\n",
       "      <th>Lead_Score</th>\n",
       "      <th>final_Predicted</th>\n",
       "    </tr>\n",
       "  </thead>\n",
       "  <tbody>\n",
       "    <tr>\n",
       "      <th>0</th>\n",
       "      <td>7681</td>\n",
       "      <td>0</td>\n",
       "      <td>0.024819</td>\n",
       "      <td>2</td>\n",
       "      <td>0</td>\n",
       "    </tr>\n",
       "    <tr>\n",
       "      <th>1</th>\n",
       "      <td>984</td>\n",
       "      <td>0</td>\n",
       "      <td>0.025692</td>\n",
       "      <td>3</td>\n",
       "      <td>0</td>\n",
       "    </tr>\n",
       "    <tr>\n",
       "      <th>2</th>\n",
       "      <td>8135</td>\n",
       "      <td>0</td>\n",
       "      <td>0.686054</td>\n",
       "      <td>69</td>\n",
       "      <td>1</td>\n",
       "    </tr>\n",
       "    <tr>\n",
       "      <th>3</th>\n",
       "      <td>6915</td>\n",
       "      <td>0</td>\n",
       "      <td>0.005880</td>\n",
       "      <td>1</td>\n",
       "      <td>0</td>\n",
       "    </tr>\n",
       "    <tr>\n",
       "      <th>4</th>\n",
       "      <td>2712</td>\n",
       "      <td>1</td>\n",
       "      <td>0.953208</td>\n",
       "      <td>95</td>\n",
       "      <td>1</td>\n",
       "    </tr>\n",
       "  </tbody>\n",
       "</table>\n",
       "</div>"
      ],
      "text/plain": [
       "   Prospect ID  Converted  Converted_prob  Lead_Score  final_Predicted\n",
       "0         7681          0        0.024819           2                0\n",
       "1          984          0        0.025692           3                0\n",
       "2         8135          0        0.686054          69                1\n",
       "3         6915          0        0.005880           1                0\n",
       "4         2712          1        0.953208          95                1"
      ]
     },
     "execution_count": 178,
     "metadata": {},
     "output_type": "execute_result"
    }
   ],
   "source": [
    "y_pred_final.head()"
   ]
  },
  {
   "cell_type": "code",
   "execution_count": 179,
   "id": "a2921376",
   "metadata": {},
   "outputs": [
    {
     "data": {
      "text/plain": [
       "0.9277736411020104"
      ]
     },
     "execution_count": 179,
     "metadata": {},
     "output_type": "execute_result"
    }
   ],
   "source": [
    "#Overall Accuracy\n",
    "metrics.accuracy_score(y_pred_final.Converted,y_pred_final.final_Predicted)"
   ]
  },
  {
   "cell_type": "code",
   "execution_count": 180,
   "id": "712f8311",
   "metadata": {},
   "outputs": [
    {
     "data": {
      "text/plain": [
       "array([[1563,  113],\n",
       "       [  81,  929]], dtype=int64)"
      ]
     },
     "execution_count": 180,
     "metadata": {},
     "output_type": "execute_result"
    }
   ],
   "source": [
    "confusion2 = metrics.confusion_matrix(y_pred_final.Converted,y_pred_final.final_Predicted)\n",
    "confusion2"
   ]
  },
  {
   "cell_type": "code",
   "execution_count": 181,
   "id": "84f37900",
   "metadata": {},
   "outputs": [],
   "source": [
    "TP = confusion[1,1] #TP\n",
    "\n",
    "TN = confusion[0,0] #TN\n",
    "\n",
    "FP = confusion[0,1] #FP\n",
    "\n",
    "FN = confusion[1,0] #FN"
   ]
  },
  {
   "cell_type": "code",
   "execution_count": 183,
   "id": "292a8756",
   "metadata": {},
   "outputs": [
    {
     "data": {
      "text/plain": [
       "0.8821802935010482"
      ]
     },
     "execution_count": 183,
     "metadata": {},
     "output_type": "execute_result"
    }
   ],
   "source": [
    "#Sensitivity\n",
    "TP / float(TP+FN)"
   ]
  },
  {
   "cell_type": "code",
   "execution_count": 184,
   "id": "98196ca8",
   "metadata": {},
   "outputs": [
    {
     "data": {
      "text/plain": [
       "0.9513137557959814"
      ]
     },
     "execution_count": 184,
     "metadata": {},
     "output_type": "execute_result"
    }
   ],
   "source": [
    "#Specificity\n",
    "TN / float(TN+FP)"
   ]
  },
  {
   "cell_type": "code",
   "execution_count": 185,
   "id": "b0a6b819",
   "metadata": {},
   "outputs": [
    {
     "data": {
      "text/plain": [
       "0.8915547024952015"
      ]
     },
     "execution_count": 185,
     "metadata": {},
     "output_type": "execute_result"
    }
   ],
   "source": [
    "precision_score(y_pred_final.Converted,y_pred_final.final_Predicted)"
   ]
  },
  {
   "cell_type": "code",
   "execution_count": 186,
   "id": "186f385b",
   "metadata": {},
   "outputs": [
    {
     "data": {
      "text/plain": [
       "0.9198019801980198"
      ]
     },
     "execution_count": 186,
     "metadata": {},
     "output_type": "execute_result"
    }
   ],
   "source": [
    "recall_score(y_pred_final.Converted,y_pred_final.final_Predicted)"
   ]
  },
  {
   "cell_type": "markdown",
   "id": "3a29ac16",
   "metadata": {},
   "source": [
    "### Observation"
   ]
  },
  {
   "cell_type": "markdown",
   "id": "9d3653d6",
   "metadata": {},
   "source": [
    "- After running the model on the Test Data these are the figure we obtain\n",
    "-Accuracy:92.77%\n",
    "-Sensitivity:88.21%\n",
    "-Specificity:95.13%"
   ]
  },
  {
   "cell_type": "markdown",
   "id": "e1edaa56",
   "metadata": {},
   "source": [
    "### Final Observation:"
   ]
  },
  {
   "cell_type": "markdown",
   "id": "83f8ac87",
   "metadata": {},
   "source": [
    "Let us compare the values obtained for Train & Test:"
   ]
  },
  {
   "cell_type": "markdown",
   "id": "d7f7f193",
   "metadata": {},
   "source": [
    "- Train Data:\n",
    "- Accuarcy:92.29%\n",
    "- Sensitivty:88.21%\n",
    "- Specificity:95.13%\n",
    "    \n",
    "- Test Data:\n",
    "\n",
    "- Accuracy:92.77%\n",
    "- Sensitivty:88.21%\n",
    "- Specificity:95.13%"
   ]
  },
  {
   "cell_type": "code",
   "execution_count": null,
   "id": "2b56e7d5",
   "metadata": {},
   "outputs": [],
   "source": []
  }
 ],
 "metadata": {
  "kernelspec": {
   "display_name": "Python 3 (ipykernel)",
   "language": "python",
   "name": "python3"
  },
  "language_info": {
   "codemirror_mode": {
    "name": "ipython",
    "version": 3
   },
   "file_extension": ".py",
   "mimetype": "text/x-python",
   "name": "python",
   "nbconvert_exporter": "python",
   "pygments_lexer": "ipython3",
   "version": "3.9.13"
  }
 },
 "nbformat": 4,
 "nbformat_minor": 5
}
